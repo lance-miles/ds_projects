{
 "cells": [
  {
   "cell_type": "markdown",
   "metadata": {},
   "source": [
    "# W261 Final Project \"Click Through Rate Prediction on Criteo Advertising Data\"\n",
    "# Team: Ahsen, Divya, Lance, Ravi, Sameed"
   ]
  },
  {
   "cell_type": "markdown",
   "metadata": {},
   "source": [
    "## Background"
   ]
  },
  {
   "cell_type": "markdown",
   "metadata": {},
   "source": [
    "In 2014, Criteo Labs launched a Kaggle Competition that encouraged Kagglers to submit the most accurate ML algorithm for Click Through Rate Label Estimation.  \n",
    "\n",
    "Criteo serves digital online display advertisements that helps companies and brands acquire, convert, and re-engage their customers online via display advertisements.  The company collects data from users and pools the data to additionally offer insights into customer purchasing habits and intent. It leverages machine learning on its proprietary data, serving digital advertisements across different channels. Criteo currently collects data on over 800b USD worth of e-commerce transactions and has delivered over 10b targeted clicks in 2018. Criteo offers their digital advertisement services on a cost-per-click basis along with follow-up data that ties to post-click sales, facilitating a click-to-purchase Cost-of-Acquisition Metric available to its customers.\n",
    "\n",
    "As part of Kaggle competition, Criteo provided a training and test set of its internal proprietary data and 718 individual teams competed for the 16,000 USD prize amount."
   ]
  },
  {
   "cell_type": "markdown",
   "metadata": {},
   "source": [
    "### Imports"
   ]
  },
  {
   "cell_type": "code",
   "execution_count": 1,
   "metadata": {},
   "outputs": [],
   "source": [
    "# imports\n",
    "import os\n",
    "import re\n",
    "import sys\n",
    "import ast\n",
    "import time\n",
    "import numpy as np\n",
    "import pandas as pd\n",
    "import seaborn as sns\n",
    "import networkx as nx\n",
    "import matplotlib.pyplot as plt\n",
    "from pyspark.sql import SparkSession\n",
    "from pyspark.accumulators import AccumulatorParam\n",
    "from pyspark.sql.types import *\n",
    "from pyspark.ml.feature import FeatureHasher\n",
    "from pyspark.sql.functions import udf, countDistinct, isnan, when, count, col, lit\n",
    "from pyspark.sql.functions import mean as _mean, stddev as _stddev, col\n",
    "from pyspark.sql.functions import isnull, coalesce, concat\n",
    "from pyspark.ml.classification import LogisticRegression\n",
    "from pyspark.ml.evaluation import BinaryClassificationEvaluator\n",
    "from pyspark.ml.feature import QuantileDiscretizer\n",
    "\n",
    "from pyspark.mllib.evaluation import MulticlassMetrics\n",
    "from math import exp, sqrt, log\n",
    "from pyspark.sql.functions import countDistinct, count, isnan, col, when, lit\n",
    "\n",
    "%matplotlib inline\n",
    "sns.set(style=\"darkgrid\")"
   ]
  },
  {
   "cell_type": "markdown",
   "metadata": {},
   "source": [
    "## 1. Question Formulation"
   ]
  },
  {
   "cell_type": "markdown",
   "metadata": {},
   "source": [
    "Our team is working with data released by Criteo to create a scalable machine learning algorithm to correctly predict ad click-through-rate (CTR). \n",
    "\n",
    "Year over year e-commerce has continued to grow, making up over 11% of all retail transactions within the US and accounting for over $500 billion dollars in sales in 2018 alone. In order to maintain a competitive edge in such a large market, advertisers have developed sophisticated and scalable targeted advertising methods to grow their customer base while ensuring ad expenditures are optimized. By targeting customers more effectively, advertisers are able to reduce the Cost of Acquisition (CAC) for a given individual, mitigating the amount of ad-spend that goes wasted. Consequently, advertisers have a strong interest in ensuring that ads are properly targeted and Click Through Rates (CTRs) are high. In cost per click (CPC) and cost per conversion (CPA) pricing models, ensuring CTRs are high is a particularly important challenge to address for publishing companies because it allows the company to maximize its profits when it pairs users with advertisements that the user is likely to click. Although the implications and promises of targeted advertising are alluring, it does not come without its challenges. In particular, targeted advertising needs to understand user-behaviour and/or have a user-history in order to be effective. \n",
    "\n",
    "It should be noted that even though a high CTR is important, it is just one factor in a chain of others that lead to a sale - other downstream conversion efforts are critical to closing a customer's sale.\n",
    "\n",
    "The most robust ad models should include very specific customer segmentation demographics, psychographics, and past purchase and other user behavior. As part of the kaggle contest however, we are looking at a more limited data set, with the particular challenge of not knowing the representation and significance of our columns. This is particularly challenging because we can only guess as to what each of these fields represent, but we cannot use outside knowledge to help us develop our models. Consequently, we attempt to understand what types of data we are dealing with, what the shortcomings of our data are - whether it's incomplete, erroneous, or includes omissions and NaN values, and how to strategically implement feature engineering.\n",
    "\n",
    "In an ideal world with perfect information, we would be able to serve up advertisements that have a 100% CTR; that is, each ad we serve ups results in a click. This would then enable us to focus on conversion tactics that follow the initial ad click. However, a CTR of over 2% for a search advertisement would be terrific. Typically, CTRs are divided up by industry and geolocation, as each industry's customer has a different profile. For display advertisements, which is what Criteo primarily sells, a CTR of above 0.4% would be very good.\n",
    "\n",
    "For our model to be practically useful, we would need to develop a model for Criteo that beats the average CTR in the industry. This would lead to more advertising spend and revenue for Criteo as advertisers spend more on the platform to take advantage of the company being a better source of customer acquisition at a lower costs. For our model to be practically useful, we would want to see any improvement over our current models that is greater than that of random chance, that allows us to target users and get a CTR higher than our current benchmarks. Ideally, the more simpler the algorithm, the better.\n",
    "\n",
    "The goal of our model will be to develop the most accurate model we can generate for predicting whether or not a user will click an advertisement. In doing so, we will be able to optimize which ads to pair with users to increase Criteo's CTR and subsequently its revenue by serving advertisements to high-propensity groups?\n"
   ]
  },
  {
   "cell_type": "markdown",
   "metadata": {},
   "source": [
    "## 2. Algorithm Explanation"
   ]
  },
  {
   "cell_type": "markdown",
   "metadata": {},
   "source": [
    "### Logistic Regression Explanation and Calculation by Hand"
   ]
  },
  {
   "cell_type": "markdown",
   "metadata": {},
   "source": [
    "Since predicting a user click through rate is by nature a binary classification task, the primary model we use to answer the question is logistic regression, optimized using gradient descent. Logistic regression is a linear model that, instead of predicting values, predicts probabilities. This model is widely used and highly useful as a binary classifier, such as this problem.\n",
    "\n",
    "There are some clear advantages to logistic regression:\n",
    "- Logistic regression is very efficient and requires less computational resources than other models. \n",
    "- Logistic regression is easy to work with. This model doesn't require much tuning, and it is easy to implement scalable regularization. \n",
    "- Logistic regression outputs model results that are well-calibrated predicted probabilities and generally more interpretable than other algorithms. \n",
    "- Logistic regression identifies directionality (i.e. positive and negative relationships), while other models, such as decision trees and neural networks, do not.\n",
    "- Logistic regression is often hard to beat in terms of accuracy. \n",
    "\n",
    "This model was built and implemented using RDDs in Pyspark. As a competitor (model performance and train time), we have also implemented ML's LogisticRegression package for DataFrames. "
   ]
  },
  {
   "cell_type": "markdown",
   "metadata": {},
   "source": [
    "#### Logistic Regression\n",
    "\n",
    "We first define our log-odds equation with two parameters x1, and x2 as:\n",
    "\n",
    "$l = \\beta_0 + \\beta_{1}x_1 + \\beta_{2}x_2$\n",
    "\n",
    "Where l = log-odds, $\\beta 's$ represent coefficients and are the parameters of the model, and x represents a predictors in the model.\n",
    "\n",
    "The odds can now be presented as follows: \n",
    "\n",
    "$odds = b^{\\beta_0 + \\beta_{1}x_1 + \\beta_{2}x_2}$\n",
    "\n",
    "Where b represents the base of the logarithm and exponent. Adding this non-linearity allows us to define the odds as a probability function as follows:\n",
    "\n",
    "$$ y = \\operatorname{Pr}(clicked) = \\frac{e^{\\beta_0 + \\beta_{1}x_1 + \\beta_{2}x_2}}{1 + e^{\\beta_0 + \\beta_{1}x_1 + \\beta_{2}x_2}} $$\n",
    "\n",
    "This function takes in the log-odds as an input, and outputs the probability between 0 and 1.\n",
    "\n",
    "We look at the Logistic Regression in it's matrix form where:\n",
    "\n",
    "$$ \\boldsymbol{X}^T = \\begin{bmatrix} x_{1}  \\ ... \\ x_{m}\\ \\end{bmatrix}$$\n",
    "\n",
    "$$ \\boldsymbol{Y}^T = \\begin{bmatrix} y_{1}  \\ ... \\ y_{m}\\ \\end{bmatrix}$$\n",
    "\n",
    "$$ \\boldsymbol{x_i} = \\begin{bmatrix} x_{i1}  \\ ... \\ x_{ij}\\ \\end{bmatrix}$$\n",
    "\n",
    "$$\\boldsymbol{\\theta}^T = \\begin{bmatrix} \\beta_{0}  \\ \\beta_{1} ... \\ \\beta_{j} \\end{bmatrix}$$\n",
    "\n",
    "And let sigmoid function G(z) be:\n",
    "\n",
    "$$ G(z) = \\frac{1}{1 + e^{-z}}$$\n",
    "\n",
    "where $z = (x_i \\theta^T)$\n",
    "\n",
    "We then get the prediction for the class as follows:\n",
    "\n",
    "$$y_i = G(z)$$\n",
    "\n",
    "\n",
    "#### Defining Loss Function\n",
    "\n",
    "With any machine learning model, we need to define a loss that we seek to minimize. In logistic regression, we define the loss function (logloss) as follows: \n",
    "\n",
    "$$ p = \\hat{y_i} = G(z) = G(x_i * \\theta^T) $$\n",
    "\n",
    "$$ J(\\theta) = - \\frac{1}{m} \\sum_{i=1}^{m} \\dot (y_i * log(p) - (1-y_i) log(1-p)) $$\n",
    "\n",
    "Where y is the true label for the $i^{th}$ row of data.\n",
    "\n",
    "Now, simply put, we can think of the loss function as the error in our predicted probability relative to the actual class, where a logloss of 0 would mean our model is predicting the class perfectly.\n",
    "\n",
    "#### Gradient Descent\n",
    "\n",
    "We aim to the optimize the $\\beta$ coefficients such that logloss is minimized as we train our model. In order to do that, we can use the method of gradient descent where we iteratively adjust the coefficients $\\theta$ to the direction that decreases the loss function. And that direction is given to us by the derivative of the loss function.  \n",
    "\n",
    "Taking a derivative of the loss function with respect to  θ , we can get that the gradient as:\n",
    "\n",
    "$$ \\frac{\\partial J(\\theta)}{\\partial \\theta_j} = \\frac{1}{m} \\sum_{i=1}^{m} (G(x_i * \\theta^T) - y_i) * x_{ij}$$\n",
    "\n",
    "And with the gradient computed, in every iteration, we compute the updates to our weights, $\\theta$, by:\n",
    "\n",
    "$$ \\theta_{new} = \\theta - \\alpha * \\frac{\\partial J(\\theta)}{\\partial \\theta_j} $$\n",
    "\n",
    "where $\\alpha$ is the learning rate for the gradient descent."
   ]
  },
  {
   "cell_type": "markdown",
   "metadata": {},
   "source": [
    "### Create Spark Session"
   ]
  },
  {
   "cell_type": "code",
   "execution_count": 2,
   "metadata": {},
   "outputs": [],
   "source": [
    "# start Spark Session\n",
    "app_name = \"Final_notebook\"\n",
    "master = \"local[*]\"\n",
    "spark = SparkSession\\\n",
    "        .builder\\\n",
    "        .appName(app_name)\\\n",
    "        .master(master)\\\n",
    "        .getOrCreate()\n",
    "sc = spark.sparkContext"
   ]
  },
  {
   "cell_type": "markdown",
   "metadata": {},
   "source": [
    "### Create Toy Dataset"
   ]
  },
  {
   "cell_type": "code",
   "execution_count": 136,
   "metadata": {},
   "outputs": [
    {
     "name": "stdout",
     "output_type": "stream",
     "text": [
      "+-----+---+---+---------------------------------+\n",
      "|label|f1 |f2 |features                         |\n",
      "+-----+---+---+---------------------------------+\n",
      "|0    |0  |1  |(262144,[57095,87362],[1.0,1.0]) |\n",
      "|1    |1  |1  |(262144,[57095,200607],[1.0,1.0])|\n",
      "|1    |1  |0  |(262144,[35760,200607],[1.0,1.0])|\n",
      "|0    |1  |1  |(262144,[57095,200607],[1.0,1.0])|\n",
      "+-----+---+---+---------------------------------+\n",
      "\n"
     ]
    }
   ],
   "source": [
    "# create a hashed version of the mini toy df\n",
    "toyDfHash = spark.createDataFrame([\n",
    "   (0, 0, 1),\n",
    "   (1, 1, 1),\n",
    "   (1, 1, 0),\n",
    "   (0, 1, 1)\n",
    "], [\"label\", \"f1\", \"f2\"])\n",
    "\n",
    "hasher = FeatureHasher(inputCols=[\"f1\", \"f2\"],\n",
    "                       outputCol=\"features\")\n",
    "\n",
    "featurized = hasher.setCategoricalCols([\"f1\", \"f2\"]).transform(toyDfHash)\n",
    "featurized.show(truncate=False)"
   ]
  },
  {
   "cell_type": "markdown",
   "metadata": {},
   "source": [
    "#### Logistic Regression Hand Calculation on Toy Dataset\n",
    "\n",
    "In the toy example above, we run through a hand calculation to walk through the steps for computing logistici regression using gradient descent.\n",
    "\n",
    "The parameter vector $\\theta$ for the initial function $y=\\frac{1}{1+e^{-x\\theta^T}}$ is: \n",
    "$ \\begin{bmatrix} 0 \\ \\quad 0 \\ \\quad 0 \\ \\end{bmatrix}$, where 0 is the value for the $\\beta$ coefficient for x1, x2, and bias.\n",
    "\n",
    "In this example, the first column for x represents x1, the second column represents x2, and the third column represents the bias term. \n",
    "\n",
    "**Our predicted value hand calculations are:**\n",
    "\n",
    "|  $x_j '$  | $y_j$ |   $\\frac{1}{1+e^{-x\\theta^T}}$ | \n",
    "|:---------:|:-----:|:-------------------------------------:|\n",
    "|  input   | true y   |   predicted y   |\n",
    "| $ \\begin{bmatrix} 0 \\\\ 1 \\\\ 1 \\\\ \\end{bmatrix}$   |  0   | 0.5             |  \n",
    "| $ \\begin{bmatrix} 1 \\\\ 1 \\\\ 1 \\\\ \\end{bmatrix}$   |  1   | 0.5             |  \n",
    "| $ \\begin{bmatrix} 1 \\\\ 0 \\\\ 1 \\\\ \\end{bmatrix}$   |  1   | 0.5             | \n",
    "| $ \\begin{bmatrix} 1 \\\\ 1 \\\\ 1 \\\\ \\end{bmatrix}$   |  0   | 0.5             |\n",
    "\n",
    "**Compute Logloss**\n",
    "\n",
    "To compute the log-loss, we take the log of the logistic regression function.\n",
    "\n",
    "Taking this log, using a scale from 0-1, we can derive the loss function as follows:\n",
    "\n",
    "Let z represent the $\\theta\\cdot{x}'_j$ portion of the model above, and m represents each example, or data point. \n",
    "\n",
    "$Loss = -\\frac{1}{m}\\displaystyle \\sum_{i=1}^{m} y_i(log(z)) - (1-y_i)log(1-z))$\n",
    "\n",
    "This loss above is calculated for the entire model. To calculate the loss at each point, we use the following portion of the loss function: \n",
    "\n",
    "$Loss_i = -y_i(log(z)) - (1-y_i)log(1-z))$\n",
    "\n",
    "**Our loss calculations for the first round is:**\n",
    "\n",
    "|  $x_j '$  | $y_j$ |   $\\frac{1}{1+e^{-\\theta\\cdot{x}'_j}}$ | $-y_i(log(z)) - (1-y_i)log(1-z))$ |\n",
    "|:----:|:-----:|:----------------:|:--------------------------------:|\n",
    "|  input   | true y   |   predicted y   |     loss for $x_j$          |\n",
    "| $ \\begin{bmatrix} 0 \\\\ 1 \\\\ 1 \\\\\\end{bmatrix}$   |  0  |        0.5         |        0.69          |\n",
    "| $ \\begin{bmatrix} 1 \\\\ 1 \\\\ 1 \\\\\\end{bmatrix}$   |  1  |        0.5         |        0.69          |\n",
    "| $ \\begin{bmatrix} 1 \\\\ 0 \\\\ 1 \\\\\\end{bmatrix}$   |  1  |        0.5         |        0.69          |\n",
    "| $ \\begin{bmatrix} 1 \\\\ 1 \\\\ 1 \\\\\\end{bmatrix}$   |  0  |        0.5         |        0.69          |\n",
    "\n",
    "The logloss for this round would then be $\\frac{0.69 + 0.69 + 0.69 + 0.69}{4} = 0.69$\n",
    "\n",
    "**Gradient Descent**\n",
    "\n",
    "Next, we conduct gradient descent to get the updated weights that need to go into our model for the next iteration. To do so, we calculate the gradient for each prediction, and update the weights accordingly using the following formula:\n",
    "\n",
    "$$ \\frac{\\partial J(\\theta)}{\\partial \\theta_j} = \\frac{1}{m} \\sum_{i=1}^{m} (H(x_i) - y_i) * x_{ij}$$\n",
    "\n",
    "The resulting gradient update for each coefficient goes as follows:\n",
    "\n",
    "|  $x_j '$  | $y_j$ |   $\\frac{1}{1+e^{-\\theta\\cdot{x}'_j}}$ | $(H(x_i) - y_i) * x_{ij}$ |\n",
    "|:----:|:-----:|:----------------:|:--------------------------------:|\n",
    "|  input   | true y   |   predicted y   |     gradient          |\n",
    "| $ \\begin{bmatrix} 0 \\\\ 1 \\\\ 1 \\\\\\end{bmatrix}$   |  0  |        0.5         |$ \\begin{bmatrix} 0 \\\\ 0.5 \\\\ 0.5 \\\\\\end{bmatrix}$|\n",
    "| $ \\begin{bmatrix} 1 \\\\ 1 \\\\ 1 \\\\\\end{bmatrix}$   |  1  |        0.5         |$ \\begin{bmatrix} -0.5 \\\\ -0.5 \\\\ -0.5 \\\\\\end{bmatrix}$|\n",
    "| $ \\begin{bmatrix} 1 \\\\ 0 \\\\ 1 \\\\\\end{bmatrix}$   |  1  |        0.5         |$ \\begin{bmatrix} -0.5 \\\\ 0 \\\\ -0.5 \\\\\\end{bmatrix}$|\n",
    "| $ \\begin{bmatrix} 1 \\\\ 1 \\\\ 1 \\\\\\end{bmatrix}$   |  0  |        0.5         |$ \\begin{bmatrix} 0.5 \\\\ 0.5 \\\\ 0.5 \\\\\\end{bmatrix}$|\n",
    "\n",
    "The gradient for each row of data would be accumulated to generate the following update:\n",
    "\n",
    "$$ \\theta_{new} = \\theta - \\alpha * \\frac{\\partial J(\\theta)}{\\partial \\theta_j} $$\n",
    "\n",
    "where across all rows of training data = $\\frac{\\partial J(\\theta)}{\\partial \\theta_j}$ = $\\frac{\\begin{bmatrix} −0.5 \\ \\quad 0.5 \\ \\quad 0 \\ \\end{bmatrix}}{4}$ = $\\begin{bmatrix} −0.25 \\ \\quad 0.25 \\ \\quad 0 \\ \\end{bmatrix}$\n",
    "\n",
    "To get $\\theta_{new}$, we need to multiply $\\frac{\\partial J(\\theta)}{\\partial \\theta_j}$ by $\\alpha$ (the learning rate for our gradient descent algorithm), and subtract this from the current model. For the purpose of this exercise, $\\alpha = 0.1$ so the formula would look like the following.\n",
    "\n",
    "$ \\theta_{new} = \\begin{bmatrix} 0.0 \\ \\quad 0.0 \\ \\quad 0.0 \\ \\end{bmatrix} - 0.1 * \\begin{bmatrix} −0.25 \\ \\quad 0.25 \\ \\quad 0 \\ \\end{bmatrix}$\n",
    "\n",
    "Our new model weights would now become:\n",
    "\n",
    "$ \\theta_{new} = \\begin{bmatrix} 0.025 \\ \\quad -0.025 \\ \\quad 0.0 \\ \\end{bmatrix}$\n"
   ]
  },
  {
   "cell_type": "markdown",
   "metadata": {},
   "source": [
    "## 3. Exploratory Data Analysis\n",
    "\n",
    "### Data Overview and Description\n",
    "\n",
    "The data provided consists of the following:\n",
    "\n",
    "- label - Target variable that indicates if an ad was clicked (1) or not (0)\n",
    "- i1-i13 - A total of 13 columns of integer features (mostly count features).\n",
    "- c1-c26 - A total of 26 columns of categorical features. The values of these features have been hashed onto 32 bits to anonymize the data. \n",
    "\n",
    "Notes\n",
    "- The semantics of the features is undisclosed. This means that we cannot do feature selection based on the qualitative content of the features\n",
    "- When a value is missing, the field is empty.\n",
    "\n",
    "Based on the above, one of our main limitations is not knowing what the provided features are. "
   ]
  },
  {
   "cell_type": "markdown",
   "metadata": {},
   "source": [
    "### Obtain the dataset"
   ]
  },
  {
   "cell_type": "markdown",
   "metadata": {},
   "source": [
    "The data for this project was retrieved from: https://s3-eu-west-1.amazonaws.com/kaggle-display-advertising-challenge-dataset/dac.tar.gz"
   ]
  },
  {
   "cell_type": "code",
   "execution_count": 4,
   "metadata": {},
   "outputs": [
    {
     "name": "stdout",
     "output_type": "stream",
     "text": [
      "--2019-04-16 03:53:39--  https://s3-eu-west-1.amazonaws.com/kaggle-display-advertising-challenge-dataset/dac.tar.gz\n",
      "Resolving s3-eu-west-1.amazonaws.com (s3-eu-west-1.amazonaws.com)... 52.218.53.106\n",
      "Connecting to s3-eu-west-1.amazonaws.com (s3-eu-west-1.amazonaws.com)|52.218.53.106|:443... connected.\n",
      "HTTP request sent, awaiting response... 200 OK\n",
      "Length: 4576820670 (4.3G) [application/x-gzip]\n",
      "Saving to: ‘STDOUT’\n",
      "\n",
      "-                     0%[                    ]       0  --.-KB/s               tar: Ignoring unknown extended header keyword 'SCHILY.dev'\n",
      "tar: Ignoring unknown extended header keyword 'SCHILY.ino'\n",
      "tar: Ignoring unknown extended header keyword 'SCHILY.nlink'\n",
      "tar: data: Cannot open: No such file or directory\n",
      "tar: Error is not recoverable: exiting now\n",
      "-                     0%[                    ] 101.60K   357KB/s    in 0.3s    \n",
      "\n",
      "\n",
      "Cannot write to ‘-’ (Broken pipe).\n"
     ]
    }
   ],
   "source": [
    "!wget -c https://s3-eu-west-1.amazonaws.com/kaggle-display-advertising-challenge-dataset/dac.tar.gz -O - | tar -xz -C ./data/"
   ]
  },
  {
   "cell_type": "code",
   "execution_count": 4,
   "metadata": {},
   "outputs": [],
   "source": [
    "#bucket = \"w261-gcp/notebooks\"\n",
    "bucket = \"lance_miles_w261\"\n",
    "\n",
    "trainTxtPath = \"gs://{}/data/train.txt\".format(bucket)\n",
    "testTxtPath = \"gs://{}/data/test.txt\".format(bucket)    "
   ]
  },
  {
   "cell_type": "code",
   "execution_count": 5,
   "metadata": {},
   "outputs": [],
   "source": [
    "# load the data into Spark RDDs for convenience of use later (RUN THIS CELL AS IS)\n",
    "testRDD = sc.textFile('data/test.txt')\n",
    "trainRDD = sc.textFile('data/train.txt')"
   ]
  },
  {
   "cell_type": "code",
   "execution_count": 6,
   "metadata": {},
   "outputs": [],
   "source": [
    "# load the data into Spark RDDs for convenience of use later (RUN THIS CELL AS IS)\n",
    "testRDD = sc.textFile(trainTxtPath)\n",
    "trainRDD = sc.textFile(testTxtPath)"
   ]
  },
  {
   "cell_type": "markdown",
   "metadata": {},
   "source": [
    "First, we will define the schema for the training and test dataset. Providing the schema instead of asking Spark to infer the schema will speed up the dataframe creation process as it will save the time taken to inspect all the records to identify the correct schema. Further, the test data does not have the output column - label so the schema would be different."
   ]
  },
  {
   "cell_type": "code",
   "execution_count": 7,
   "metadata": {},
   "outputs": [],
   "source": [
    "traincsvSchema = StructType([StructField(\"label\", IntegerType(), False), StructField(\"i1\", IntegerType(), False),\n",
    "                            StructField(\"i2\", IntegerType(), False), StructField(\"i3\", IntegerType(), False),\n",
    "                            StructField(\"i4\", IntegerType(), False), StructField(\"i5\", IntegerType(), False),\n",
    "                            StructField(\"i6\", IntegerType(), False), StructField(\"i7\", IntegerType(), False),\n",
    "                            StructField(\"i8\", IntegerType(), False), StructField(\"i9\", IntegerType(), False),\n",
    "                            StructField(\"i10\", IntegerType(), False), StructField(\"i11\", IntegerType(), False),\n",
    "                            StructField(\"i12\", IntegerType(), False), StructField(\"i13\", IntegerType(), False),\n",
    "                            StructField(\"c14\", StringType(), False), StructField(\"c15\", StringType(), False),\n",
    "                            StructField(\"c16\", StringType(), False), StructField(\"c17\", StringType(), False),\n",
    "                            StructField(\"c18\", StringType(), False), StructField(\"c19\", StringType(), False),\n",
    "                            StructField(\"c20\", StringType(), False), StructField(\"c21\", StringType(), False),\n",
    "                            StructField(\"c22\", StringType(), False), StructField(\"c23\", StringType(), False),\n",
    "                            StructField(\"c24\", StringType(), False), StructField(\"c25\", StringType(), False),\n",
    "                            StructField(\"c26\", StringType(), False), StructField(\"c27\", StringType(), False),\n",
    "                            StructField(\"c28\", StringType(), False), StructField(\"c29\", StringType(), False),\n",
    "                            StructField(\"c30\", StringType(), False), StructField(\"c31\", StringType(), False),\n",
    "                            StructField(\"c32\", StringType(), False), StructField(\"c33\", StringType(), False),\n",
    "                            StructField(\"c34\", StringType(), False), StructField(\"c35\", StringType(), False),\n",
    "                            StructField(\"c36\", StringType(), False), StructField(\"c37\", StringType(), False),\n",
    "                            StructField(\"c38\", StringType(), False), StructField(\"c39\", StringType(), False)])"
   ]
  },
  {
   "cell_type": "code",
   "execution_count": 8,
   "metadata": {},
   "outputs": [],
   "source": [
    "testcsvSchema = StructType([StructField(\"i1\", IntegerType(), False),\n",
    "                            StructField(\"i2\", IntegerType(), False), StructField(\"i3\", IntegerType(), False),\n",
    "                            StructField(\"i4\", IntegerType(), False), StructField(\"i5\", IntegerType(), False),\n",
    "                            StructField(\"i6\", IntegerType(), False), StructField(\"i7\", IntegerType(), False),\n",
    "                            StructField(\"i8\", IntegerType(), False), StructField(\"i9\", IntegerType(), False),\n",
    "                            StructField(\"i10\", IntegerType(), False), StructField(\"i11\", IntegerType(), False),\n",
    "                            StructField(\"i12\", IntegerType(), False), StructField(\"i13\", IntegerType(), False),\n",
    "                            StructField(\"c14\", StringType(), False), StructField(\"c15\", StringType(), False),\n",
    "                            StructField(\"c16\", StringType(), False), StructField(\"c17\", StringType(), False),\n",
    "                            StructField(\"c18\", StringType(), False), StructField(\"c19\", StringType(), False),\n",
    "                            StructField(\"c20\", StringType(), False), StructField(\"c21\", StringType(), False),\n",
    "                            StructField(\"c22\", StringType(), False), StructField(\"c23\", StringType(), False),\n",
    "                            StructField(\"c24\", StringType(), False), StructField(\"c25\", StringType(), False),\n",
    "                            StructField(\"c26\", StringType(), False), StructField(\"c27\", StringType(), False),\n",
    "                            StructField(\"c28\", StringType(), False), StructField(\"c29\", StringType(), False),\n",
    "                            StructField(\"c30\", StringType(), False), StructField(\"c31\", StringType(), False),\n",
    "                            StructField(\"c32\", StringType(), False), StructField(\"c33\", StringType(), False),\n",
    "                            StructField(\"c34\", StringType(), False), StructField(\"c35\", StringType(), False),\n",
    "                            StructField(\"c36\", StringType(), False), StructField(\"c37\", StringType(), False),\n",
    "                            StructField(\"c38\", StringType(), False)])"
   ]
  },
  {
   "cell_type": "markdown",
   "metadata": {},
   "source": [
    "Let us load the training dataset into a Spark dataframe."
   ]
  },
  {
   "cell_type": "code",
   "execution_count": 9,
   "metadata": {},
   "outputs": [],
   "source": [
    "initial_train_df = spark.read.option(\"sep\", \"\\t\").schema(traincsvSchema).csv(trainTxtPath)\n",
    "#initial_train_df.printSchema()"
   ]
  },
  {
   "cell_type": "code",
   "execution_count": 11,
   "metadata": {},
   "outputs": [
    {
     "data": {
      "text/html": [
       "<div>\n",
       "<style scoped>\n",
       "    .dataframe tbody tr th:only-of-type {\n",
       "        vertical-align: middle;\n",
       "    }\n",
       "\n",
       "    .dataframe tbody tr th {\n",
       "        vertical-align: top;\n",
       "    }\n",
       "\n",
       "    .dataframe thead th {\n",
       "        text-align: right;\n",
       "    }\n",
       "</style>\n",
       "<table border=\"1\" class=\"dataframe\">\n",
       "  <thead>\n",
       "    <tr style=\"text-align: right;\">\n",
       "      <th></th>\n",
       "      <th>0</th>\n",
       "      <th>1</th>\n",
       "      <th>2</th>\n",
       "      <th>3</th>\n",
       "      <th>4</th>\n",
       "    </tr>\n",
       "  </thead>\n",
       "  <tbody>\n",
       "    <tr>\n",
       "      <th>label</th>\n",
       "      <td>0</td>\n",
       "      <td>0</td>\n",
       "      <td>0</td>\n",
       "      <td>0</td>\n",
       "      <td>0</td>\n",
       "    </tr>\n",
       "    <tr>\n",
       "      <th>i1</th>\n",
       "      <td>1</td>\n",
       "      <td>2</td>\n",
       "      <td>2</td>\n",
       "      <td>NaN</td>\n",
       "      <td>3</td>\n",
       "    </tr>\n",
       "    <tr>\n",
       "      <th>i2</th>\n",
       "      <td>1</td>\n",
       "      <td>0</td>\n",
       "      <td>0</td>\n",
       "      <td>893</td>\n",
       "      <td>-1</td>\n",
       "    </tr>\n",
       "    <tr>\n",
       "      <th>i3</th>\n",
       "      <td>5</td>\n",
       "      <td>44</td>\n",
       "      <td>1</td>\n",
       "      <td>NaN</td>\n",
       "      <td>NaN</td>\n",
       "    </tr>\n",
       "    <tr>\n",
       "      <th>i4</th>\n",
       "      <td>0</td>\n",
       "      <td>1</td>\n",
       "      <td>14</td>\n",
       "      <td>NaN</td>\n",
       "      <td>0</td>\n",
       "    </tr>\n",
       "    <tr>\n",
       "      <th>i5</th>\n",
       "      <td>1382</td>\n",
       "      <td>102</td>\n",
       "      <td>767</td>\n",
       "      <td>4392</td>\n",
       "      <td>2</td>\n",
       "    </tr>\n",
       "    <tr>\n",
       "      <th>i6</th>\n",
       "      <td>4</td>\n",
       "      <td>8</td>\n",
       "      <td>89</td>\n",
       "      <td>NaN</td>\n",
       "      <td>0</td>\n",
       "    </tr>\n",
       "    <tr>\n",
       "      <th>i7</th>\n",
       "      <td>15</td>\n",
       "      <td>2</td>\n",
       "      <td>4</td>\n",
       "      <td>0</td>\n",
       "      <td>3</td>\n",
       "    </tr>\n",
       "    <tr>\n",
       "      <th>i8</th>\n",
       "      <td>2</td>\n",
       "      <td>2</td>\n",
       "      <td>2</td>\n",
       "      <td>0</td>\n",
       "      <td>0</td>\n",
       "    </tr>\n",
       "    <tr>\n",
       "      <th>i9</th>\n",
       "      <td>181</td>\n",
       "      <td>4</td>\n",
       "      <td>245</td>\n",
       "      <td>0</td>\n",
       "      <td>0</td>\n",
       "    </tr>\n",
       "    <tr>\n",
       "      <th>i10</th>\n",
       "      <td>1</td>\n",
       "      <td>1</td>\n",
       "      <td>1</td>\n",
       "      <td>NaN</td>\n",
       "      <td>1</td>\n",
       "    </tr>\n",
       "    <tr>\n",
       "      <th>i11</th>\n",
       "      <td>2</td>\n",
       "      <td>1</td>\n",
       "      <td>3</td>\n",
       "      <td>0</td>\n",
       "      <td>1</td>\n",
       "    </tr>\n",
       "    <tr>\n",
       "      <th>i12</th>\n",
       "      <td>NaN</td>\n",
       "      <td>NaN</td>\n",
       "      <td>3</td>\n",
       "      <td>NaN</td>\n",
       "      <td>NaN</td>\n",
       "    </tr>\n",
       "    <tr>\n",
       "      <th>i13</th>\n",
       "      <td>2</td>\n",
       "      <td>4</td>\n",
       "      <td>45</td>\n",
       "      <td>NaN</td>\n",
       "      <td>0</td>\n",
       "    </tr>\n",
       "    <tr>\n",
       "      <th>c14</th>\n",
       "      <td>68fd1e64</td>\n",
       "      <td>68fd1e64</td>\n",
       "      <td>287e684f</td>\n",
       "      <td>68fd1e64</td>\n",
       "      <td>8cf07265</td>\n",
       "    </tr>\n",
       "    <tr>\n",
       "      <th>c15</th>\n",
       "      <td>80e26c9b</td>\n",
       "      <td>f0cf0024</td>\n",
       "      <td>0a519c5c</td>\n",
       "      <td>2c16a946</td>\n",
       "      <td>ae46a29d</td>\n",
       "    </tr>\n",
       "    <tr>\n",
       "      <th>c16</th>\n",
       "      <td>fb936136</td>\n",
       "      <td>6f67f7e5</td>\n",
       "      <td>02cf9876</td>\n",
       "      <td>a9a87e68</td>\n",
       "      <td>c81688bb</td>\n",
       "    </tr>\n",
       "    <tr>\n",
       "      <th>c17</th>\n",
       "      <td>7b4723c4</td>\n",
       "      <td>41274cd7</td>\n",
       "      <td>c18be181</td>\n",
       "      <td>2e17d6f6</td>\n",
       "      <td>f922efad</td>\n",
       "    </tr>\n",
       "    <tr>\n",
       "      <th>c18</th>\n",
       "      <td>25c83c98</td>\n",
       "      <td>25c83c98</td>\n",
       "      <td>25c83c98</td>\n",
       "      <td>25c83c98</td>\n",
       "      <td>25c83c98</td>\n",
       "    </tr>\n",
       "    <tr>\n",
       "      <th>c19</th>\n",
       "      <td>7e0ccccf</td>\n",
       "      <td>fe6b92e5</td>\n",
       "      <td>7e0ccccf</td>\n",
       "      <td>fe6b92e5</td>\n",
       "      <td>13718bbd</td>\n",
       "    </tr>\n",
       "    <tr>\n",
       "      <th>c20</th>\n",
       "      <td>de7995b8</td>\n",
       "      <td>922afcc0</td>\n",
       "      <td>c78204a1</td>\n",
       "      <td>2e8a689b</td>\n",
       "      <td>ad9fa255</td>\n",
       "    </tr>\n",
       "    <tr>\n",
       "      <th>c21</th>\n",
       "      <td>1f89b562</td>\n",
       "      <td>0b153874</td>\n",
       "      <td>0b153874</td>\n",
       "      <td>0b153874</td>\n",
       "      <td>0b153874</td>\n",
       "    </tr>\n",
       "    <tr>\n",
       "      <th>c22</th>\n",
       "      <td>a73ee510</td>\n",
       "      <td>a73ee510</td>\n",
       "      <td>a73ee510</td>\n",
       "      <td>a73ee510</td>\n",
       "      <td>a73ee510</td>\n",
       "    </tr>\n",
       "    <tr>\n",
       "      <th>c23</th>\n",
       "      <td>a8cd5504</td>\n",
       "      <td>2b53e5fb</td>\n",
       "      <td>3b08e48b</td>\n",
       "      <td>efea433b</td>\n",
       "      <td>5282c137</td>\n",
       "    </tr>\n",
       "    <tr>\n",
       "      <th>c24</th>\n",
       "      <td>b2cb9c98</td>\n",
       "      <td>4f1b46f3</td>\n",
       "      <td>5f5e6091</td>\n",
       "      <td>e51ddf94</td>\n",
       "      <td>e5d8af57</td>\n",
       "    </tr>\n",
       "    <tr>\n",
       "      <th>c25</th>\n",
       "      <td>37c9c164</td>\n",
       "      <td>623049e6</td>\n",
       "      <td>8fe001f4</td>\n",
       "      <td>a30567ca</td>\n",
       "      <td>66a76a26</td>\n",
       "    </tr>\n",
       "    <tr>\n",
       "      <th>c26</th>\n",
       "      <td>2824a5f6</td>\n",
       "      <td>d7020589</td>\n",
       "      <td>aa655a2f</td>\n",
       "      <td>3516f6e6</td>\n",
       "      <td>f06c53ac</td>\n",
       "    </tr>\n",
       "    <tr>\n",
       "      <th>c27</th>\n",
       "      <td>1adce6ef</td>\n",
       "      <td>b28479f6</td>\n",
       "      <td>07d13a8f</td>\n",
       "      <td>07d13a8f</td>\n",
       "      <td>1adce6ef</td>\n",
       "    </tr>\n",
       "    <tr>\n",
       "      <th>c28</th>\n",
       "      <td>8ba8b39a</td>\n",
       "      <td>e6c5b5cd</td>\n",
       "      <td>6dc710ed</td>\n",
       "      <td>18231224</td>\n",
       "      <td>8ff4b403</td>\n",
       "    </tr>\n",
       "    <tr>\n",
       "      <th>c29</th>\n",
       "      <td>891b62e7</td>\n",
       "      <td>c92f3b61</td>\n",
       "      <td>36103458</td>\n",
       "      <td>52b8680f</td>\n",
       "      <td>01adbab4</td>\n",
       "    </tr>\n",
       "    <tr>\n",
       "      <th>c30</th>\n",
       "      <td>e5ba7672</td>\n",
       "      <td>07c540c4</td>\n",
       "      <td>8efede7f</td>\n",
       "      <td>1e88c74f</td>\n",
       "      <td>1e88c74f</td>\n",
       "    </tr>\n",
       "    <tr>\n",
       "      <th>c31</th>\n",
       "      <td>f54016b9</td>\n",
       "      <td>b04e4670</td>\n",
       "      <td>3412118d</td>\n",
       "      <td>74ef3502</td>\n",
       "      <td>26b3c7a7</td>\n",
       "    </tr>\n",
       "    <tr>\n",
       "      <th>c32</th>\n",
       "      <td>21ddcdc9</td>\n",
       "      <td>21ddcdc9</td>\n",
       "      <td>None</td>\n",
       "      <td>None</td>\n",
       "      <td>None</td>\n",
       "    </tr>\n",
       "    <tr>\n",
       "      <th>c33</th>\n",
       "      <td>b1252a9d</td>\n",
       "      <td>5840adea</td>\n",
       "      <td>None</td>\n",
       "      <td>None</td>\n",
       "      <td>None</td>\n",
       "    </tr>\n",
       "    <tr>\n",
       "      <th>c34</th>\n",
       "      <td>07b5194c</td>\n",
       "      <td>60f6221e</td>\n",
       "      <td>e587c466</td>\n",
       "      <td>6b3a5ca6</td>\n",
       "      <td>21c9516a</td>\n",
       "    </tr>\n",
       "    <tr>\n",
       "      <th>c35</th>\n",
       "      <td>None</td>\n",
       "      <td>None</td>\n",
       "      <td>ad3062eb</td>\n",
       "      <td>None</td>\n",
       "      <td>None</td>\n",
       "    </tr>\n",
       "    <tr>\n",
       "      <th>c36</th>\n",
       "      <td>3a171ecb</td>\n",
       "      <td>3a171ecb</td>\n",
       "      <td>3a171ecb</td>\n",
       "      <td>3a171ecb</td>\n",
       "      <td>32c7478e</td>\n",
       "    </tr>\n",
       "    <tr>\n",
       "      <th>c37</th>\n",
       "      <td>c5c50484</td>\n",
       "      <td>43f13e8b</td>\n",
       "      <td>3b183c5c</td>\n",
       "      <td>9117a34a</td>\n",
       "      <td>b34f3128</td>\n",
       "    </tr>\n",
       "    <tr>\n",
       "      <th>c38</th>\n",
       "      <td>e8b83407</td>\n",
       "      <td>e8b83407</td>\n",
       "      <td>None</td>\n",
       "      <td>None</td>\n",
       "      <td>None</td>\n",
       "    </tr>\n",
       "    <tr>\n",
       "      <th>c39</th>\n",
       "      <td>9727dd16</td>\n",
       "      <td>731c3655</td>\n",
       "      <td>None</td>\n",
       "      <td>None</td>\n",
       "      <td>None</td>\n",
       "    </tr>\n",
       "  </tbody>\n",
       "</table>\n",
       "</div>"
      ],
      "text/plain": [
       "              0         1         2         3         4\n",
       "label         0         0         0         0         0\n",
       "i1            1         2         2       NaN         3\n",
       "i2            1         0         0       893        -1\n",
       "i3            5        44         1       NaN       NaN\n",
       "i4            0         1        14       NaN         0\n",
       "i5         1382       102       767      4392         2\n",
       "i6            4         8        89       NaN         0\n",
       "i7           15         2         4         0         3\n",
       "i8            2         2         2         0         0\n",
       "i9          181         4       245         0         0\n",
       "i10           1         1         1       NaN         1\n",
       "i11           2         1         3         0         1\n",
       "i12         NaN       NaN         3       NaN       NaN\n",
       "i13           2         4        45       NaN         0\n",
       "c14    68fd1e64  68fd1e64  287e684f  68fd1e64  8cf07265\n",
       "c15    80e26c9b  f0cf0024  0a519c5c  2c16a946  ae46a29d\n",
       "c16    fb936136  6f67f7e5  02cf9876  a9a87e68  c81688bb\n",
       "c17    7b4723c4  41274cd7  c18be181  2e17d6f6  f922efad\n",
       "c18    25c83c98  25c83c98  25c83c98  25c83c98  25c83c98\n",
       "c19    7e0ccccf  fe6b92e5  7e0ccccf  fe6b92e5  13718bbd\n",
       "c20    de7995b8  922afcc0  c78204a1  2e8a689b  ad9fa255\n",
       "c21    1f89b562  0b153874  0b153874  0b153874  0b153874\n",
       "c22    a73ee510  a73ee510  a73ee510  a73ee510  a73ee510\n",
       "c23    a8cd5504  2b53e5fb  3b08e48b  efea433b  5282c137\n",
       "c24    b2cb9c98  4f1b46f3  5f5e6091  e51ddf94  e5d8af57\n",
       "c25    37c9c164  623049e6  8fe001f4  a30567ca  66a76a26\n",
       "c26    2824a5f6  d7020589  aa655a2f  3516f6e6  f06c53ac\n",
       "c27    1adce6ef  b28479f6  07d13a8f  07d13a8f  1adce6ef\n",
       "c28    8ba8b39a  e6c5b5cd  6dc710ed  18231224  8ff4b403\n",
       "c29    891b62e7  c92f3b61  36103458  52b8680f  01adbab4\n",
       "c30    e5ba7672  07c540c4  8efede7f  1e88c74f  1e88c74f\n",
       "c31    f54016b9  b04e4670  3412118d  74ef3502  26b3c7a7\n",
       "c32    21ddcdc9  21ddcdc9      None      None      None\n",
       "c33    b1252a9d  5840adea      None      None      None\n",
       "c34    07b5194c  60f6221e  e587c466  6b3a5ca6  21c9516a\n",
       "c35        None      None  ad3062eb      None      None\n",
       "c36    3a171ecb  3a171ecb  3a171ecb  3a171ecb  32c7478e\n",
       "c37    c5c50484  43f13e8b  3b183c5c  9117a34a  b34f3128\n",
       "c38    e8b83407  e8b83407      None      None      None\n",
       "c39    9727dd16  731c3655      None      None      None"
      ]
     },
     "execution_count": 11,
     "metadata": {},
     "output_type": "execute_result"
    }
   ],
   "source": [
    "pd.DataFrame(initial_train_df.take(5), columns=initial_train_df.columns).transpose()"
   ]
  },
  {
   "cell_type": "markdown",
   "metadata": {},
   "source": [
    "### Data Partitioning and Class Balance"
   ]
  },
  {
   "cell_type": "markdown",
   "metadata": {},
   "source": [
    "We would like to know whether our training dataset is balanced (i.e) whether the number of entries for label 0 and label 1 are almost the same."
   ]
  },
  {
   "cell_type": "code",
   "execution_count": 10,
   "metadata": {},
   "outputs": [
    {
     "data": {
      "text/plain": [
       "34095179"
      ]
     },
     "execution_count": 10,
     "metadata": {},
     "output_type": "execute_result"
    }
   ],
   "source": [
    "initial_train_df_label0 = initial_train_df.filter(initial_train_df.label == 0)\n",
    "NoOflabel0Samples = initial_train_df_label0.count()\n",
    "NoOflabel0Samples"
   ]
  },
  {
   "cell_type": "code",
   "execution_count": 11,
   "metadata": {},
   "outputs": [
    {
     "data": {
      "text/plain": [
       "11745438"
      ]
     },
     "execution_count": 11,
     "metadata": {},
     "output_type": "execute_result"
    }
   ],
   "source": [
    "initial_train_df_label1= initial_train_df.filter(initial_train_df.label == 1)\n",
    "NoOflabel1Samples = initial_train_df_label1.count()\n",
    "NoOflabel1Samples"
   ]
  },
  {
   "cell_type": "markdown",
   "metadata": {},
   "source": [
    "It can be seen that label 0 has more records than label 1. So, we will limit the number of records for label 0 to be almost same as label 1 to ensure that we have class balance."
   ]
  },
  {
   "cell_type": "code",
   "execution_count": 12,
   "metadata": {},
   "outputs": [
    {
     "data": {
      "text/plain": [
       "11744531"
      ]
     },
     "execution_count": 12,
     "metadata": {},
     "output_type": "execute_result"
    }
   ],
   "source": [
    "initial_train_df_label0_sampled = initial_train_df_label0.sample(False, NoOflabel1Samples/NoOflabel0Samples, 100)\n",
    "initial_train_df_label0_sampled.count()"
   ]
  },
  {
   "cell_type": "markdown",
   "metadata": {},
   "source": [
    "We will then combine the sampled label 0 and actual label 1 records to create the initial training dataset."
   ]
  },
  {
   "cell_type": "code",
   "execution_count": 13,
   "metadata": {},
   "outputs": [
    {
     "data": {
      "text/plain": [
       "23489969"
      ]
     },
     "execution_count": 13,
     "metadata": {},
     "output_type": "execute_result"
    }
   ],
   "source": [
    "updated_initial_train_df = initial_train_df_label0_sampled.union(initial_train_df_label1)\n",
    "updated_initial_train_df.count()"
   ]
  },
  {
   "cell_type": "markdown",
   "metadata": {},
   "source": [
    "We will then split the initial training dataset into 90% training data and 10% dev test set."
   ]
  },
  {
   "cell_type": "code",
   "execution_count": 14,
   "metadata": {},
   "outputs": [
    {
     "data": {
      "text/plain": [
       "21143473"
      ]
     },
     "execution_count": 14,
     "metadata": {},
     "output_type": "execute_result"
    }
   ],
   "source": [
    "train_df, dev_df = updated_initial_train_df.randomSplit([0.9,0.1], seed = 2019)\n",
    "train_df.count()"
   ]
  },
  {
   "cell_type": "code",
   "execution_count": 15,
   "metadata": {},
   "outputs": [
    {
     "data": {
      "text/plain": [
       "2346496"
      ]
     },
     "execution_count": 15,
     "metadata": {},
     "output_type": "execute_result"
    }
   ],
   "source": [
    "dev_df.count()"
   ]
  },
  {
   "cell_type": "markdown",
   "metadata": {},
   "source": [
    "Let us load the test dataset into a Spark dataframe."
   ]
  },
  {
   "cell_type": "code",
   "execution_count": 16,
   "metadata": {},
   "outputs": [],
   "source": [
    "initial_test_df = spark.read.option(\"sep\", \"\\t\").schema(testcsvSchema).csv(testTxtPath)"
   ]
  },
  {
   "cell_type": "code",
   "execution_count": 17,
   "metadata": {},
   "outputs": [
    {
     "data": {
      "text/plain": [
       "6042135"
      ]
     },
     "execution_count": 17,
     "metadata": {},
     "output_type": "execute_result"
    }
   ],
   "source": [
    "initial_test_df.count()"
   ]
  },
  {
   "cell_type": "code",
   "execution_count": 20,
   "metadata": {},
   "outputs": [
    {
     "data": {
      "text/html": [
       "<div>\n",
       "<style scoped>\n",
       "    .dataframe tbody tr th:only-of-type {\n",
       "        vertical-align: middle;\n",
       "    }\n",
       "\n",
       "    .dataframe tbody tr th {\n",
       "        vertical-align: top;\n",
       "    }\n",
       "\n",
       "    .dataframe thead th {\n",
       "        text-align: right;\n",
       "    }\n",
       "</style>\n",
       "<table border=\"1\" class=\"dataframe\">\n",
       "  <thead>\n",
       "    <tr style=\"text-align: right;\">\n",
       "      <th></th>\n",
       "      <th>0</th>\n",
       "      <th>1</th>\n",
       "      <th>2</th>\n",
       "      <th>3</th>\n",
       "      <th>4</th>\n",
       "    </tr>\n",
       "  </thead>\n",
       "  <tbody>\n",
       "    <tr>\n",
       "      <th>i1</th>\n",
       "      <td>NaN</td>\n",
       "      <td>27</td>\n",
       "      <td>1</td>\n",
       "      <td>4</td>\n",
       "      <td>7</td>\n",
       "    </tr>\n",
       "    <tr>\n",
       "      <th>i2</th>\n",
       "      <td>29</td>\n",
       "      <td>17</td>\n",
       "      <td>1</td>\n",
       "      <td>1</td>\n",
       "      <td>1</td>\n",
       "    </tr>\n",
       "    <tr>\n",
       "      <th>i3</th>\n",
       "      <td>50</td>\n",
       "      <td>45</td>\n",
       "      <td>19</td>\n",
       "      <td>NaN</td>\n",
       "      <td>25</td>\n",
       "    </tr>\n",
       "    <tr>\n",
       "      <th>i4</th>\n",
       "      <td>5</td>\n",
       "      <td>28</td>\n",
       "      <td>7</td>\n",
       "      <td>6</td>\n",
       "      <td>10</td>\n",
       "    </tr>\n",
       "    <tr>\n",
       "      <th>i5</th>\n",
       "      <td>7260</td>\n",
       "      <td>2</td>\n",
       "      <td>1</td>\n",
       "      <td>1051</td>\n",
       "      <td>139</td>\n",
       "    </tr>\n",
       "    <tr>\n",
       "      <th>i6</th>\n",
       "      <td>437</td>\n",
       "      <td>28</td>\n",
       "      <td>3</td>\n",
       "      <td>134</td>\n",
       "      <td>74</td>\n",
       "    </tr>\n",
       "    <tr>\n",
       "      <th>i7</th>\n",
       "      <td>1</td>\n",
       "      <td>27</td>\n",
       "      <td>1</td>\n",
       "      <td>4</td>\n",
       "      <td>48</td>\n",
       "    </tr>\n",
       "    <tr>\n",
       "      <th>i8</th>\n",
       "      <td>4</td>\n",
       "      <td>29</td>\n",
       "      <td>7</td>\n",
       "      <td>35</td>\n",
       "      <td>13</td>\n",
       "    </tr>\n",
       "    <tr>\n",
       "      <th>i9</th>\n",
       "      <td>14</td>\n",
       "      <td>28</td>\n",
       "      <td>7</td>\n",
       "      <td>72</td>\n",
       "      <td>44</td>\n",
       "    </tr>\n",
       "    <tr>\n",
       "      <th>i10</th>\n",
       "      <td>NaN</td>\n",
       "      <td>1</td>\n",
       "      <td>1</td>\n",
       "      <td>1</td>\n",
       "      <td>1</td>\n",
       "    </tr>\n",
       "    <tr>\n",
       "      <th>i11</th>\n",
       "      <td>1</td>\n",
       "      <td>1</td>\n",
       "      <td>1</td>\n",
       "      <td>1</td>\n",
       "      <td>8</td>\n",
       "    </tr>\n",
       "    <tr>\n",
       "      <th>i12</th>\n",
       "      <td>0</td>\n",
       "      <td>NaN</td>\n",
       "      <td>NaN</td>\n",
       "      <td>NaN</td>\n",
       "      <td>2</td>\n",
       "    </tr>\n",
       "    <tr>\n",
       "      <th>i13</th>\n",
       "      <td>6</td>\n",
       "      <td>23</td>\n",
       "      <td>2</td>\n",
       "      <td>6</td>\n",
       "      <td>12</td>\n",
       "    </tr>\n",
       "    <tr>\n",
       "      <th>c14</th>\n",
       "      <td>5a9ed9b0</td>\n",
       "      <td>68fd1e64</td>\n",
       "      <td>09ca0b81</td>\n",
       "      <td>05db9164</td>\n",
       "      <td>05db9164</td>\n",
       "    </tr>\n",
       "    <tr>\n",
       "      <th>c15</th>\n",
       "      <td>a0e12995</td>\n",
       "      <td>960c983b</td>\n",
       "      <td>8947f767</td>\n",
       "      <td>532da141</td>\n",
       "      <td>207b2d81</td>\n",
       "    </tr>\n",
       "    <tr>\n",
       "      <th>c16</th>\n",
       "      <td>a1e14474</td>\n",
       "      <td>9fbfbfd5</td>\n",
       "      <td>a87e61f7</td>\n",
       "      <td>a7ded28e</td>\n",
       "      <td>2b280564</td>\n",
       "    </tr>\n",
       "    <tr>\n",
       "      <th>c17</th>\n",
       "      <td>08a40877</td>\n",
       "      <td>38c11726</td>\n",
       "      <td>c4ba2a67</td>\n",
       "      <td>456b4d8c</td>\n",
       "      <td>ad5ffc6b</td>\n",
       "    </tr>\n",
       "    <tr>\n",
       "      <th>c18</th>\n",
       "      <td>25c83c98</td>\n",
       "      <td>25c83c98</td>\n",
       "      <td>25c83c98</td>\n",
       "      <td>25c83c98</td>\n",
       "      <td>25c83c98</td>\n",
       "    </tr>\n",
       "    <tr>\n",
       "      <th>c19</th>\n",
       "      <td>None</td>\n",
       "      <td>7e0ccccf</td>\n",
       "      <td>7e0ccccf</td>\n",
       "      <td>fbad5c96</td>\n",
       "      <td>7e0ccccf</td>\n",
       "    </tr>\n",
       "    <tr>\n",
       "      <th>c20</th>\n",
       "      <td>964d1fdd</td>\n",
       "      <td>fe06fd10</td>\n",
       "      <td>ce6020cc</td>\n",
       "      <td>5f29da0e</td>\n",
       "      <td>103c17bc</td>\n",
       "    </tr>\n",
       "    <tr>\n",
       "      <th>c21</th>\n",
       "      <td>5b392875</td>\n",
       "      <td>062b5529</td>\n",
       "      <td>062b5529</td>\n",
       "      <td>0b153874</td>\n",
       "      <td>0b153874</td>\n",
       "    </tr>\n",
       "    <tr>\n",
       "      <th>c22</th>\n",
       "      <td>a73ee510</td>\n",
       "      <td>a73ee510</td>\n",
       "      <td>a73ee510</td>\n",
       "      <td>a73ee510</td>\n",
       "      <td>a73ee510</td>\n",
       "    </tr>\n",
       "    <tr>\n",
       "      <th>c23</th>\n",
       "      <td>de89c3d2</td>\n",
       "      <td>ca53fc84</td>\n",
       "      <td>b04d3cfe</td>\n",
       "      <td>4b344a42</td>\n",
       "      <td>8e54038a</td>\n",
       "    </tr>\n",
       "    <tr>\n",
       "      <th>c24</th>\n",
       "      <td>59cd5ae7</td>\n",
       "      <td>67360210</td>\n",
       "      <td>70dcd184</td>\n",
       "      <td>0ad37b4b</td>\n",
       "      <td>e6e0c2dc</td>\n",
       "    </tr>\n",
       "    <tr>\n",
       "      <th>c25</th>\n",
       "      <td>8d98db20</td>\n",
       "      <td>895d8bbb</td>\n",
       "      <td>899eb56b</td>\n",
       "      <td>8ea37200</td>\n",
       "      <td>2a064dba</td>\n",
       "    </tr>\n",
       "    <tr>\n",
       "      <th>c26</th>\n",
       "      <td>8b216f7b</td>\n",
       "      <td>4f8e2224</td>\n",
       "      <td>aca22cf9</td>\n",
       "      <td>f9d99d81</td>\n",
       "      <td>e9332a03</td>\n",
       "    </tr>\n",
       "    <tr>\n",
       "      <th>c27</th>\n",
       "      <td>1adce6ef</td>\n",
       "      <td>f862f261</td>\n",
       "      <td>b28479f6</td>\n",
       "      <td>cfef1c29</td>\n",
       "      <td>07d13a8f</td>\n",
       "    </tr>\n",
       "    <tr>\n",
       "      <th>c28</th>\n",
       "      <td>78c64a1d</td>\n",
       "      <td>b4cc2435</td>\n",
       "      <td>a473257f</td>\n",
       "      <td>abd8f51e</td>\n",
       "      <td>0c67c4ca</td>\n",
       "    </tr>\n",
       "    <tr>\n",
       "      <th>c29</th>\n",
       "      <td>3ecdadf7</td>\n",
       "      <td>4c0041e5</td>\n",
       "      <td>88f592e4</td>\n",
       "      <td>9a9902d0</td>\n",
       "      <td>7d9b60c8</td>\n",
       "    </tr>\n",
       "    <tr>\n",
       "      <th>c30</th>\n",
       "      <td>3486227d</td>\n",
       "      <td>e5ba7672</td>\n",
       "      <td>d4bb7bd8</td>\n",
       "      <td>07c540c4</td>\n",
       "      <td>27c07bd6</td>\n",
       "    </tr>\n",
       "    <tr>\n",
       "      <th>c31</th>\n",
       "      <td>1616f155</td>\n",
       "      <td>b4abdd09</td>\n",
       "      <td>bd17c3da</td>\n",
       "      <td>bdc06043</td>\n",
       "      <td>395856b0</td>\n",
       "    </tr>\n",
       "    <tr>\n",
       "      <th>c32</th>\n",
       "      <td>21ddcdc9</td>\n",
       "      <td>21ddcdc9</td>\n",
       "      <td>1d04f4a4</td>\n",
       "      <td>None</td>\n",
       "      <td>21ddcdc9</td>\n",
       "    </tr>\n",
       "    <tr>\n",
       "      <th>c33</th>\n",
       "      <td>5840adea</td>\n",
       "      <td>5840adea</td>\n",
       "      <td>a458ea53</td>\n",
       "      <td>None</td>\n",
       "      <td>a458ea53</td>\n",
       "    </tr>\n",
       "    <tr>\n",
       "      <th>c34</th>\n",
       "      <td>2c277e62</td>\n",
       "      <td>36a7ab86</td>\n",
       "      <td>82bdc0bb</td>\n",
       "      <td>6dfd157c</td>\n",
       "      <td>9c3eb598</td>\n",
       "    </tr>\n",
       "    <tr>\n",
       "      <th>c35</th>\n",
       "      <td>None</td>\n",
       "      <td>None</td>\n",
       "      <td>None</td>\n",
       "      <td>ad3062eb</td>\n",
       "      <td>ad3062eb</td>\n",
       "    </tr>\n",
       "    <tr>\n",
       "      <th>c36</th>\n",
       "      <td>423fab69</td>\n",
       "      <td>32c7478e</td>\n",
       "      <td>32c7478e</td>\n",
       "      <td>423fab69</td>\n",
       "      <td>3a171ecb</td>\n",
       "    </tr>\n",
       "    <tr>\n",
       "      <th>c37</th>\n",
       "      <td>54c91918</td>\n",
       "      <td>85e4d73f</td>\n",
       "      <td>5bdcd9c4</td>\n",
       "      <td>ef089725</td>\n",
       "      <td>c0b8dfd6</td>\n",
       "    </tr>\n",
       "    <tr>\n",
       "      <th>c38</th>\n",
       "      <td>9b3e8820</td>\n",
       "      <td>010f6491</td>\n",
       "      <td>010f6491</td>\n",
       "      <td>None</td>\n",
       "      <td>001f3601</td>\n",
       "    </tr>\n",
       "  </tbody>\n",
       "</table>\n",
       "</div>"
      ],
      "text/plain": [
       "            0         1         2         3         4\n",
       "i1        NaN        27         1         4         7\n",
       "i2         29        17         1         1         1\n",
       "i3         50        45        19       NaN        25\n",
       "i4          5        28         7         6        10\n",
       "i5       7260         2         1      1051       139\n",
       "i6        437        28         3       134        74\n",
       "i7          1        27         1         4        48\n",
       "i8          4        29         7        35        13\n",
       "i9         14        28         7        72        44\n",
       "i10       NaN         1         1         1         1\n",
       "i11         1         1         1         1         8\n",
       "i12         0       NaN       NaN       NaN         2\n",
       "i13         6        23         2         6        12\n",
       "c14  5a9ed9b0  68fd1e64  09ca0b81  05db9164  05db9164\n",
       "c15  a0e12995  960c983b  8947f767  532da141  207b2d81\n",
       "c16  a1e14474  9fbfbfd5  a87e61f7  a7ded28e  2b280564\n",
       "c17  08a40877  38c11726  c4ba2a67  456b4d8c  ad5ffc6b\n",
       "c18  25c83c98  25c83c98  25c83c98  25c83c98  25c83c98\n",
       "c19      None  7e0ccccf  7e0ccccf  fbad5c96  7e0ccccf\n",
       "c20  964d1fdd  fe06fd10  ce6020cc  5f29da0e  103c17bc\n",
       "c21  5b392875  062b5529  062b5529  0b153874  0b153874\n",
       "c22  a73ee510  a73ee510  a73ee510  a73ee510  a73ee510\n",
       "c23  de89c3d2  ca53fc84  b04d3cfe  4b344a42  8e54038a\n",
       "c24  59cd5ae7  67360210  70dcd184  0ad37b4b  e6e0c2dc\n",
       "c25  8d98db20  895d8bbb  899eb56b  8ea37200  2a064dba\n",
       "c26  8b216f7b  4f8e2224  aca22cf9  f9d99d81  e9332a03\n",
       "c27  1adce6ef  f862f261  b28479f6  cfef1c29  07d13a8f\n",
       "c28  78c64a1d  b4cc2435  a473257f  abd8f51e  0c67c4ca\n",
       "c29  3ecdadf7  4c0041e5  88f592e4  9a9902d0  7d9b60c8\n",
       "c30  3486227d  e5ba7672  d4bb7bd8  07c540c4  27c07bd6\n",
       "c31  1616f155  b4abdd09  bd17c3da  bdc06043  395856b0\n",
       "c32  21ddcdc9  21ddcdc9  1d04f4a4      None  21ddcdc9\n",
       "c33  5840adea  5840adea  a458ea53      None  a458ea53\n",
       "c34  2c277e62  36a7ab86  82bdc0bb  6dfd157c  9c3eb598\n",
       "c35      None      None      None  ad3062eb  ad3062eb\n",
       "c36  423fab69  32c7478e  32c7478e  423fab69  3a171ecb\n",
       "c37  54c91918  85e4d73f  5bdcd9c4  ef089725  c0b8dfd6\n",
       "c38  9b3e8820  010f6491  010f6491      None  001f3601"
      ]
     },
     "execution_count": 20,
     "metadata": {},
     "output_type": "execute_result"
    }
   ],
   "source": [
    "pd.DataFrame(initial_test_df.take(5), columns=initial_test_df.columns).transpose()"
   ]
  },
  {
   "cell_type": "markdown",
   "metadata": {},
   "source": [
    "### Distribution Of Outcome Variable\n",
    "\n",
    "To ensure that we have properly balanced the data, we first inspect the distribution of our outcome variable."
   ]
  },
  {
   "cell_type": "code",
   "execution_count": 21,
   "metadata": {},
   "outputs": [],
   "source": [
    "label_count = updated_initial_train_df.groupby('label').count().distinct().toPandas()"
   ]
  },
  {
   "cell_type": "code",
   "execution_count": 22,
   "metadata": {},
   "outputs": [
    {
     "data": {
      "image/png": "[encoded data removed]",
      "text/plain": [
       "<Figure size 432x288 with 1 Axes>"
      ]
     },
     "metadata": {
      "needs_background": "light"
     },
     "output_type": "display_data"
    }
   ],
   "source": [
    "ax = sns.barplot(label_count[\"label\"], label_count[\"count\"].values, alpha=0.9)\n",
    "for p in ax.patches:\n",
    "    height = p.get_height()\n",
    "    ax.text(p.get_x()+p.get_width()/2., height + 0.1, int(height) ,ha=\"center\")\n",
    "plt.show()"
   ]
  },
  {
   "cell_type": "markdown",
   "metadata": {},
   "source": [
    "### Summary Statistics For Integer Variables\n",
    "\n",
    "As described on the criteo website, variables i1-i13 mostly contain count values in the form of integers. Although we ultimately handle each count as a separate categorical feature, we would like to first inspect the distribution of each of these features."
   ]
  },
  {
   "cell_type": "code",
   "execution_count": 23,
   "metadata": {},
   "outputs": [
    {
     "data": {
      "text/html": [
       "<div>\n",
       "<style scoped>\n",
       "    .dataframe tbody tr th:only-of-type {\n",
       "        vertical-align: middle;\n",
       "    }\n",
       "\n",
       "    .dataframe tbody tr th {\n",
       "        vertical-align: top;\n",
       "    }\n",
       "\n",
       "    .dataframe thead th {\n",
       "        text-align: right;\n",
       "    }\n",
       "</style>\n",
       "<table border=\"1\" class=\"dataframe\">\n",
       "  <thead>\n",
       "    <tr style=\"text-align: right;\">\n",
       "      <th></th>\n",
       "      <th>0</th>\n",
       "      <th>1</th>\n",
       "      <th>2</th>\n",
       "      <th>3</th>\n",
       "      <th>4</th>\n",
       "    </tr>\n",
       "  </thead>\n",
       "  <tbody>\n",
       "    <tr>\n",
       "      <th>summary</th>\n",
       "      <td>count</td>\n",
       "      <td>mean</td>\n",
       "      <td>stddev</td>\n",
       "      <td>min</td>\n",
       "      <td>max</td>\n",
       "    </tr>\n",
       "    <tr>\n",
       "      <th>label</th>\n",
       "      <td>23489969</td>\n",
       "      <td>0.5000193061131754</td>\n",
       "      <td>0.5000000102701152</td>\n",
       "      <td>0</td>\n",
       "      <td>1</td>\n",
       "    </tr>\n",
       "    <tr>\n",
       "      <th>i1</th>\n",
       "      <td>13772521</td>\n",
       "      <td>3.9781711714217027</td>\n",
       "      <td>10.129203541195555</td>\n",
       "      <td>0</td>\n",
       "      <td>5775</td>\n",
       "    </tr>\n",
       "    <tr>\n",
       "      <th>i2</th>\n",
       "      <td>23489969</td>\n",
       "      <td>115.57379083812329</td>\n",
       "      <td>413.9031168541948</td>\n",
       "      <td>-3</td>\n",
       "      <td>36664</td>\n",
       "    </tr>\n",
       "    <tr>\n",
       "      <th>i3</th>\n",
       "      <td>18121526</td>\n",
       "      <td>29.900648819530982</td>\n",
       "      <td>496.94918957715873</td>\n",
       "      <td>0</td>\n",
       "      <td>65535</td>\n",
       "    </tr>\n",
       "    <tr>\n",
       "      <th>i4</th>\n",
       "      <td>18229461</td>\n",
       "      <td>7.054289098289851</td>\n",
       "      <td>8.536189936069848</td>\n",
       "      <td>0</td>\n",
       "      <td>933</td>\n",
       "    </tr>\n",
       "    <tr>\n",
       "      <th>i5</th>\n",
       "      <td>23007452</td>\n",
       "      <td>15440.987463931251</td>\n",
       "      <td>61619.741579073394</td>\n",
       "      <td>0</td>\n",
       "      <td>23159456</td>\n",
       "    </tr>\n",
       "    <tr>\n",
       "      <th>i6</th>\n",
       "      <td>19098979</td>\n",
       "      <td>97.79244571136499</td>\n",
       "      <td>329.2849993391173</td>\n",
       "      <td>0</td>\n",
       "      <td>367553</td>\n",
       "    </tr>\n",
       "    <tr>\n",
       "      <th>i7</th>\n",
       "      <td>22619808</td>\n",
       "      <td>19.419519829699706</td>\n",
       "      <td>72.15592636789144</td>\n",
       "      <td>0</td>\n",
       "      <td>26297</td>\n",
       "    </tr>\n",
       "    <tr>\n",
       "      <th>i8</th>\n",
       "      <td>23480620</td>\n",
       "      <td>12.258109922140045</td>\n",
       "      <td>15.511498923965956</td>\n",
       "      <td>0</td>\n",
       "      <td>6047</td>\n",
       "    </tr>\n",
       "    <tr>\n",
       "      <th>i9</th>\n",
       "      <td>22619808</td>\n",
       "      <td>108.42709305932216</td>\n",
       "      <td>224.45446789151038</td>\n",
       "      <td>0</td>\n",
       "      <td>29019</td>\n",
       "    </tr>\n",
       "    <tr>\n",
       "      <th>i10</th>\n",
       "      <td>13772521</td>\n",
       "      <td>0.6836147136751507</td>\n",
       "      <td>0.7105463539997675</td>\n",
       "      <td>0</td>\n",
       "      <td>11</td>\n",
       "    </tr>\n",
       "    <tr>\n",
       "      <th>i11</th>\n",
       "      <td>22619808</td>\n",
       "      <td>3.185288177512382</td>\n",
       "      <td>5.752491456285075</td>\n",
       "      <td>0</td>\n",
       "      <td>231</td>\n",
       "    </tr>\n",
       "    <tr>\n",
       "      <th>i12</th>\n",
       "      <td>5745292</td>\n",
       "      <td>1.2630228367853191</td>\n",
       "      <td>6.342799191945573</td>\n",
       "      <td>0</td>\n",
       "      <td>4008</td>\n",
       "    </tr>\n",
       "    <tr>\n",
       "      <th>i13</th>\n",
       "      <td>18229461</td>\n",
       "      <td>7.4898391674882765</td>\n",
       "      <td>14.35898952126293</td>\n",
       "      <td>0</td>\n",
       "      <td>7086</td>\n",
       "    </tr>\n",
       "  </tbody>\n",
       "</table>\n",
       "</div>"
      ],
      "text/plain": [
       "                0                   1                   2    3         4\n",
       "summary     count                mean              stddev  min       max\n",
       "label    23489969  0.5000193061131754  0.5000000102701152    0         1\n",
       "i1       13772521  3.9781711714217027  10.129203541195555    0      5775\n",
       "i2       23489969  115.57379083812329   413.9031168541948   -3     36664\n",
       "i3       18121526  29.900648819530982  496.94918957715873    0     65535\n",
       "i4       18229461   7.054289098289851   8.536189936069848    0       933\n",
       "i5       23007452  15440.987463931251  61619.741579073394    0  23159456\n",
       "i6       19098979   97.79244571136499   329.2849993391173    0    367553\n",
       "i7       22619808  19.419519829699706   72.15592636789144    0     26297\n",
       "i8       23480620  12.258109922140045  15.511498923965956    0      6047\n",
       "i9       22619808  108.42709305932216  224.45446789151038    0     29019\n",
       "i10      13772521  0.6836147136751507  0.7105463539997675    0        11\n",
       "i11      22619808   3.185288177512382   5.752491456285075    0       231\n",
       "i12       5745292  1.2630228367853191   6.342799191945573    0      4008\n",
       "i13      18229461  7.4898391674882765   14.35898952126293    0      7086"
      ]
     },
     "execution_count": 23,
     "metadata": {},
     "output_type": "execute_result"
    }
   ],
   "source": [
    "numeric_features = [t[0] for t in updated_initial_train_df.dtypes if t[1] == 'int']\n",
    "updated_initial_train_df.select(numeric_features).describe().toPandas().transpose()"
   ]
  },
  {
   "cell_type": "markdown",
   "metadata": {},
   "source": [
    "### Distribution of Numeric values from a random sample of the train data\n",
    "\n",
    "As we can see from the data, the distribution of numeric values is skewed, but since we plan to handle these as categorical features we have decided not to log transform these values."
   ]
  },
  {
   "cell_type": "code",
   "execution_count": 24,
   "metadata": {},
   "outputs": [
    {
     "data": {
      "image/png": "[encoded data removed]",
      "text/plain": [
       "<Figure size 1152x864 with 16 Axes>"
      ]
     },
     "metadata": {
      "needs_background": "light"
     },
     "output_type": "display_data"
    }
   ],
   "source": [
    "dev_pd_df = dev_df.select(\"*\").toPandas()\n",
    "dev_pd_df.hist(figsize=(16, 12), log=True)\n",
    "plt.show()"
   ]
  },
  {
   "cell_type": "markdown",
   "metadata": {},
   "source": [
    "### Correlations between numeric variables.\n",
    "\n",
    "We would also like to inspect potential correlations between each of these features. As seen below, there are a few features that seem to be correlated with each other. Although these correlations are not \"strong\" (e.g. > 0.70), we will investigate the effect of removing some of these features in the model development phase. As of now, features i5, i10, i7, and i8 are candidates for removal."
   ]
  },
  {
   "cell_type": "code",
   "execution_count": 25,
   "metadata": {},
   "outputs": [
    {
     "data": {
      "text/plain": [
       "<matplotlib.axes._subplots.AxesSubplot at 0x7f77d06f2a20>"
      ]
     },
     "execution_count": 25,
     "metadata": {},
     "output_type": "execute_result"
    },
    {
     "data": {
      "image/png": "[encoded data removed]",
      "text/plain": [
       "<Figure size 1440x720 with 2 Axes>"
      ]
     },
     "metadata": {
      "needs_background": "light"
     },
     "output_type": "display_data"
    }
   ],
   "source": [
    "# Compute the correlation matrix\n",
    "corr = dev_pd_df.corr()\n",
    "\n",
    "# Generate a mask for the upper triangle\n",
    "mask = np.zeros_like(corr, dtype=np.bool)\n",
    "mask[np.triu_indices_from(mask)] = True\n",
    "\n",
    "# Set up the matplotlib figure\n",
    "f, ax = plt.subplots(figsize=(20, 10))\n",
    "\n",
    "# Generate a custom diverging colormap\n",
    "cmap = sns.diverging_palette(220, 10, as_cmap=True)\n",
    "\n",
    "# Draw the heatmap with the mask and correct aspect ratio\n",
    "sns.heatmap(corr, mask=mask, cmap=cmap, vmax=.3, center=0,\n",
    "            square=True, linewidths=.5, cbar_kws={\"shrink\": .5})"
   ]
  },
  {
   "cell_type": "markdown",
   "metadata": {},
   "source": [
    "### Identify the null values in the dataset\n",
    "\n",
    "As described earlier, one of the major challenges with this dataset is understanding what each of these features represent. Upon initial inspection, we found a number of null values scattered about in the dataset, so it was important to get estimates on the total number of null values in each feature.\n",
    "\n",
    "As seen in the table below, there is a significant number of null values in many of these features. Sometimes, missingness may be predictive of a class, but knowing the data is important in evaluating if this is true for our dataset. Unfortunately, in this dataset we will need to experiment a great deal to see how handling null values affect prediction rates because the data is anonymized. Of note, features such as c32, c33, c38, and c39 may share missing values at the same time. Further EDA is warranted to understand if this is true."
   ]
  },
  {
   "cell_type": "code",
   "execution_count": 26,
   "metadata": {},
   "outputs": [],
   "source": [
    "def plot_graph_df(df, add_width, di_height, title= \"\", label= \"df\"):\n",
    "    columns = df.index\n",
    "    new_df = df[\"counts\"].values\n",
    "\n",
    "    plt.subplots(figsize=(16, 10))\n",
    "    graph = sns.barplot(new_df, columns, alpha=0.9)\n",
    "\n",
    "    for p in graph.patches:\n",
    "        width = p.get_width()\n",
    "        height = p.get_height()\n",
    "        graph.text(width + add_width, p.get_y() + height/di_height, int(width) ,ha=\"center\")\n",
    "\n",
    "    plt.title(title, fontsize=15)"
   ]
  },
  {
   "cell_type": "code",
   "execution_count": 27,
   "metadata": {},
   "outputs": [],
   "source": [
    "null_summary_df = updated_initial_train_df.select([count(when(isnan(c) | col(c).isNull(), c)).alias(c) for c in updated_initial_train_df.columns]).toPandas().transpose()\n",
    "null_summary_df.index.name = \"feature\"\n",
    "null_summary_df.columns = [\"counts\"]"
   ]
  },
  {
   "cell_type": "code",
   "execution_count": 28,
   "metadata": {},
   "outputs": [
    {
     "data": {
      "image/png": "[encoded data removed]",
      "text/plain": [
       "<Figure size 1152x720 with 1 Axes>"
      ]
     },
     "metadata": {
      "needs_background": "light"
     },
     "output_type": "display_data"
    }
   ],
   "source": [
    "null_df = pd.DataFrame(null_summary_df, columns=null_summary_df.columns)\n",
    "title = \"Null Values in each variable\"\n",
    "plot_graph_df(null_df, 500000, 1., title)"
   ]
  },
  {
   "cell_type": "markdown",
   "metadata": {},
   "source": [
    "### Unique values of categorical variables\n",
    "\n",
    "A key decision made during modeling was to handle all values (integers and strings) as categorical features. For this reason, it was important to understand how many unique values each feature contains as this directly affects the number of categories generated in our dataset. Because these data have many implications for downstream decisions, we took time to explore some of the columns that had a significant number of unique features. Of note, although columns such as c16 contains a large number of unique values, there is only a small number of categories that make up the majority of the data. More discussion on this in the feature engineering section. For the purpose of brevity, we have only included the high level summaries here. Of note, c16, c25, c29, and c34 have a large number of unique categories. "
   ]
  },
  {
   "cell_type": "code",
   "execution_count": 32,
   "metadata": {},
   "outputs": [],
   "source": [
    "#Fill in null values for c16 in train set\n",
    "updated_nonull_train_df = updated_initial_train_df.withColumn(\"c16\",\n",
    "                                             when(updated_initial_train_df[\"c16\"].isNull(),\n",
    "                                                  lit('nullVal')).otherwise(col(\"c16\")))\n",
    "#Fill in null values for c34 in train set\n",
    "updated_nonull_train_df = updated_nonull_train_df.withColumn(\"c34\",\n",
    "                                             when(updated_nonull_train_df[\"c34\"].isNull(),\n",
    "                                                  lit('nullVal')).otherwise(col(\"c34\")))"
   ]
  },
  {
   "cell_type": "code",
   "execution_count": 33,
   "metadata": {},
   "outputs": [],
   "source": [
    "train_unique_summary = updated_nonull_train_df.agg(*(countDistinct(col(c)).alias(c) for c in updated_nonull_train_df.columns)).toPandas().transpose()\n",
    "train_unique_summary.index.name = \"feature\"\n",
    "train_unique_summary.columns = [\"counts\"]"
   ]
  },
  {
   "cell_type": "code",
   "execution_count": 34,
   "metadata": {},
   "outputs": [
    {
     "data": {
      "image/png": "[encoded data removed]",
      "text/plain": [
       "<Figure size 1152x720 with 1 Axes>"
      ]
     },
     "metadata": {
      "needs_background": "light"
     },
     "output_type": "display_data"
    }
   ],
   "source": [
    "distinct_count_df = pd.DataFrame(train_unique_summary, columns=train_unique_summary.columns).iloc[14:]\n",
    "title = \"Unique values for each categorical variable\"\n",
    "plot_graph_df(distinct_count_df, 140000, 1.4, title)"
   ]
  },
  {
   "cell_type": "markdown",
   "metadata": {},
   "source": [
    "### Co-occurrence among variables \n",
    "\n",
    "Of note, it appears as though there is a relationship between columns c16, c17, c25, c29, and c34. It is very typical that the unique values co occur together (example shown below). We tried to see if combining these columns would result in a better model, but typically observed that AUC and accuracy dropped. Further investigation of these features is warranted, but it is difficult to make any sense of these results given that these data are anonymized."
   ]
  },
  {
   "cell_type": "code",
   "execution_count": 35,
   "metadata": {},
   "outputs": [
    {
     "name": "stdout",
     "output_type": "stream",
     "text": [
      "+--------+--------+--------+--------+--------+--------+\n",
      "|     c16|     c21|     c25|     c29|     c17|     c34|\n",
      "+--------+--------+--------+--------+--------+--------+\n",
      "|d032c263|0b153874|dfbb09fb|84898b2a|c18be181|0014c32a|\n",
      "|d032c263|1f89b562|dfbb09fb|84898b2a|c18be181|0014c32a|\n",
      "|d032c263|0b153874|dfbb09fb|84898b2a|c18be181|0014c32a|\n",
      "|d032c263|0b153874|dfbb09fb|84898b2a|c18be181|0014c32a|\n",
      "|d032c263|64523cfa|dfbb09fb|84898b2a|c18be181|0014c32a|\n",
      "|d032c263|f504a6f4|dfbb09fb|84898b2a|c18be181|0014c32a|\n",
      "|d032c263|0b153874|dfbb09fb|84898b2a|c18be181|0014c32a|\n",
      "|d032c263|37e4aa92|dfbb09fb|84898b2a|c18be181|0014c32a|\n",
      "|d032c263|0b153874|dfbb09fb|84898b2a|c18be181|0014c32a|\n",
      "|d032c263|51d76abe|dfbb09fb|84898b2a|c18be181|0014c32a|\n",
      "+--------+--------+--------+--------+--------+--------+\n",
      "only showing top 10 rows\n",
      "\n",
      "+---+---+---+---+---+---+\n",
      "|c16|c21|c25|c29|c17|c34|\n",
      "+---+---+---+---+---+---+\n",
      "+---+---+---+---+---+---+\n",
      "\n",
      "+---+---+---+---+---+---+\n",
      "|c16|c21|c25|c29|c17|c34|\n",
      "+---+---+---+---+---+---+\n",
      "+---+---+---+---+---+---+\n",
      "\n",
      "+---+---+---+---+---+---+\n",
      "|c16|c21|c25|c29|c17|c34|\n",
      "+---+---+---+---+---+---+\n",
      "+---+---+---+---+---+---+\n",
      "\n"
     ]
    }
   ],
   "source": [
    "check = train_df.select(\"c16\",\"c21\",\"c25\",\"c29\",\"c17\", \"c34\")\n",
    "\n",
    "check.filter(col(\"c16\") == 'd032c263').show(10)\n",
    "\n",
    "check.filter(col(\"c16\") == 'd032c263').filter(col(\"c25\")!=\"dfbb09fb\").show(20)\n",
    "\n",
    "check.filter(col(\"c16\") == 'd032c263').filter(col(\"c29\")!=\"84898b2a\").show(20)\n",
    "\n",
    "check.filter(col(\"c16\") == 'd032c263').filter(col(\"c17\")!=\"c18be181\").show(20)"
   ]
  },
  {
   "cell_type": "markdown",
   "metadata": {},
   "source": [
    "We can see that there are a handful of columns that tend to be null together."
   ]
  },
  {
   "cell_type": "code",
   "execution_count": 36,
   "metadata": {},
   "outputs": [
    {
     "name": "stdout",
     "output_type": "stream",
     "text": [
      "+----+----+--------+----+----+----+----+\n",
      "|  i3| c16|     c21| c25| c29| c17| c34|\n",
      "+----+----+--------+----+----+----+----+\n",
      "|null|null|0b153874|null|null|null|null|\n",
      "|null|null|1f89b562|null|null|null|null|\n",
      "|null|null|37e4aa92|null|null|null|null|\n",
      "|null|null|0b153874|null|null|null|null|\n",
      "|null|null|0b153874|null|null|null|null|\n",
      "|   1|null|1f89b562|null|null|null|null|\n",
      "|null|null|37e4aa92|null|null|null|null|\n",
      "|   1|null|0b153874|null|null|null|null|\n",
      "|  25|null|0b153874|null|null|null|null|\n",
      "|null|null|0b153874|null|null|null|null|\n",
      "|  12|null|0b153874|null|null|null|null|\n",
      "|  16|null|0b153874|null|null|null|null|\n",
      "|  20|null|0b153874|null|null|null|null|\n",
      "|   1|null|0b153874|null|null|null|null|\n",
      "|null|null|0b153874|null|null|null|null|\n",
      "|   2|null|5b392875|null|null|null|null|\n",
      "|null|null|0b153874|null|null|null|null|\n",
      "|null|null|0b153874|null|null|null|null|\n",
      "|null|null|0b153874|null|null|null|null|\n",
      "|   2|null|5b392875|null|null|null|null|\n",
      "+----+----+--------+----+----+----+----+\n",
      "only showing top 20 rows\n",
      "\n"
     ]
    }
   ],
   "source": [
    "checkNulls = train_df.select(\"i3\",\"c16\",\"c21\",\"c25\",\"c29\",\"c17\", \"c34\").filter(col(\"c17\").isNull())\n",
    "\n",
    "checkNulls.sample(False,0.01).show()"
   ]
  },
  {
   "cell_type": "markdown",
   "metadata": {},
   "source": [
    "### Feature Engineering\n",
    "\n",
    "After developing our baseline models (without feature engineering), we began to explore various feature engineering efforts we could undergo to improve model accuracy. As mentioned previously, these data have been anonymized so developing a justification for how to engineer features and handle null values is a bit of a shot in the dark, with basic EDA guiding these decisions. It is also important to note that when we tested the engineered features we only used a subset of the training data (20%) and tested this against a mini dev set (5%). This work is captured in a separate notebooks, but can be summarised here as follows:\n",
    "\n",
    "**The techniques we tested went as follows:**\n",
    "* Impute mean or median values for each of the missing entries in the integer variables\n",
    "* Bin values using QuantileDiscretizer, which handles null values by placing them in their own bin.\n",
    "* Try setting a cutpoint based on count of unique entries in each features to reduce the \"noise\" for unique features that don't occur often\n",
    "* Replace null integer fields with their own value (-10,000).\n",
    "* Replace null categorical fields with NoValue\n",
    "* Tested the removal of correlated features or features that seem to capture similar information.\n",
    "\n",
    "In the section below, we will only include the feature engineering efforts that ultimately led to better AUC when testing on the 5% dev dataset."
   ]
  },
  {
   "cell_type": "markdown",
   "metadata": {},
   "source": [
    "### Handling null entries for both categorical and integer values\n",
    "\n",
    "After testing with many different methods, we found that applying a blanket value of -10,000 for null integer values improved our AUC and accuracies slightly. This implies that the missingness of these values may be predictive in some way. To our surprise, filling null categorical variables hurt our models slightly, expect for when we handled null cases for c16 and c34."
   ]
  },
  {
   "cell_type": "code",
   "execution_count": 37,
   "metadata": {},
   "outputs": [],
   "source": [
    "updated_nonull_train_df = updated_initial_train_df.fillna(-10000)"
   ]
  },
  {
   "cell_type": "markdown",
   "metadata": {},
   "source": [
    "### Setting cut point for c16\n",
    "\n",
    "In our EDA we identified that c16 has the greatest number of unique categories among any of the features. We tested a number of different methods for handling null values and creating cutpoints in the dataset. The method we landed on that gave the best model performance was to take the counts of each unique feature in the dataset and categorize features as 'other' if their count was less than 90,000. When this feature has a count greater than 90,000, it keeps the category name. "
   ]
  },
  {
   "cell_type": "code",
   "execution_count": 38,
   "metadata": {},
   "outputs": [],
   "source": [
    "def plot_average_plot(df, columns, count, column_name, add_width = 0, di_height = 1.5, title= \"\", label= \"df\"):\n",
    "    plt.subplots(figsize=(16, 10))\n",
    "    graph = sns.barplot(count, columns, alpha=0.9)\n",
    "\n",
    "    for p in graph.patches:\n",
    "        width = p.get_width()\n",
    "        height = p.get_height()\n",
    "        graph.text(width + add_width, p.get_y() + height/di_height, int(width) ,ha=\"center\")\n",
    "\n",
    "    plt.title(title, fontsize=15)\n",
    "    plt.xlabel(column_name , fontsize=15)"
   ]
  },
  {
   "cell_type": "code",
   "execution_count": 39,
   "metadata": {},
   "outputs": [],
   "source": [
    "averagesc16 = updated_nonull_train_df.groupBy(\"c16\").count().sort(col(\"count\").desc())\\\n",
    "                        .select(\"c16\", col(\"count\").alias(\"count16\"))\n",
    "\n",
    "df_with_avgs_train = updated_nonull_train_df.join(averagesc16, on=\"c16\")\n",
    "\n",
    "imputed_df_train_n = df_with_avgs_train\\\n",
    "  .withColumn('c16_new', when(col('count16') >= 90000, df_with_avgs_train['c16']).otherwise('other'))\n",
    "\n",
    "averagesc16_final = imputed_df_train_n.groupBy(\"c16_new\").count().sort(col(\"count\").desc())\\\n",
    "                        .select(\"c16_new\", col(\"count\"))"
   ]
  },
  {
   "cell_type": "code",
   "execution_count": 40,
   "metadata": {},
   "outputs": [
    {
     "data": {
      "image/png": "[encoded data removed]",
      "text/plain": [
       "<Figure size 1152x720 with 1 Axes>"
      ]
     },
     "metadata": {
      "needs_background": "light"
     },
     "output_type": "display_data"
    }
   ],
   "source": [
    "df = averagesc16_final.toPandas()\n",
    "plot_average_plot(df, df[\"c16_new\"].values, df[\"count\"].values, 'c16_new', 550000)"
   ]
  },
  {
   "cell_type": "markdown",
   "metadata": {},
   "source": [
    "### Setting cutpoint for c34\n",
    "\n",
    "We employed the exact same method for c34, which slightly improved accuracy of our models."
   ]
  },
  {
   "cell_type": "code",
   "execution_count": 41,
   "metadata": {},
   "outputs": [],
   "source": [
    "averagesc34 = updated_nonull_train_df.groupBy(\"c34\").count().sort(col(\"count\").desc())\\\n",
    "                        .select(\"c34\", col(\"count\").alias(\"count34\"))\n",
    "\n",
    "df_with_avgs_train = imputed_df_train_n.join(averagesc34, on=\"c34\")\n",
    "\n",
    "imputed_df_train_n = df_with_avgs_train\\\n",
    " .withColumn('c34_New',when(col('count34') >= 90000,df_with_avgs_train.c34).otherwise('other'))\n",
    "\n",
    "averagesc34_final = imputed_df_train_n.groupBy(\"c34_new\").count().sort(col(\"count\").desc())\\\n",
    "                        .select(\"c34_new\", col(\"count\"))"
   ]
  },
  {
   "cell_type": "code",
   "execution_count": 42,
   "metadata": {},
   "outputs": [
    {
     "data": {
      "image/png": "[encoded data removed]",
      "text/plain": [
       "<Figure size 1152x720 with 1 Axes>"
      ]
     },
     "metadata": {
      "needs_background": "light"
     },
     "output_type": "display_data"
    }
   ],
   "source": [
    "df = averagesc34_final.toPandas()\n",
    "plot_average_plot(df, df[\"c34_new\"].values, df[\"count\"].values, 'c34_new', 550000)"
   ]
  },
  {
   "cell_type": "markdown",
   "metadata": {},
   "source": [
    "### Summary of remaining null entries\n",
    "\n",
    "Understanding the number of null entries that remain is important for the next step of feature engineering, which is to implement FeatureHasher. FeatureHasher takes what would have been a very sparse one hot encoded matrix, and condeses the data down to a dense representation of indices. FeatureHasher ignores null entries when indexing these values."
   ]
  },
  {
   "cell_type": "code",
   "execution_count": 43,
   "metadata": {},
   "outputs": [],
   "source": [
    "nonull_summary_df  = updated_nonull_train_df.select([count(when(isnan(c) | col(c).isNull(), c))\\\n",
    "                                                     .alias(c) for c in updated_nonull_train_df.columns])\\\n",
    "                                                     .toPandas().transpose()\n",
    "nonull_summary_df.index.name = \"feature\"\n",
    "nonull_summary_df.columns = [\"counts\"]"
   ]
  },
  {
   "cell_type": "code",
   "execution_count": 44,
   "metadata": {},
   "outputs": [
    {
     "data": {
      "text/html": [
       "<div>\n",
       "<style scoped>\n",
       "    .dataframe tbody tr th:only-of-type {\n",
       "        vertical-align: middle;\n",
       "    }\n",
       "\n",
       "    .dataframe tbody tr th {\n",
       "        vertical-align: top;\n",
       "    }\n",
       "\n",
       "    .dataframe thead th {\n",
       "        text-align: right;\n",
       "    }\n",
       "</style>\n",
       "<table border=\"1\" class=\"dataframe\">\n",
       "  <thead>\n",
       "    <tr style=\"text-align: right;\">\n",
       "      <th></th>\n",
       "      <th>counts</th>\n",
       "    </tr>\n",
       "    <tr>\n",
       "      <th>feature</th>\n",
       "      <th></th>\n",
       "    </tr>\n",
       "  </thead>\n",
       "  <tbody>\n",
       "    <tr>\n",
       "      <th>label</th>\n",
       "      <td>0</td>\n",
       "    </tr>\n",
       "    <tr>\n",
       "      <th>i1</th>\n",
       "      <td>0</td>\n",
       "    </tr>\n",
       "    <tr>\n",
       "      <th>i2</th>\n",
       "      <td>0</td>\n",
       "    </tr>\n",
       "    <tr>\n",
       "      <th>i3</th>\n",
       "      <td>0</td>\n",
       "    </tr>\n",
       "    <tr>\n",
       "      <th>i4</th>\n",
       "      <td>0</td>\n",
       "    </tr>\n",
       "    <tr>\n",
       "      <th>i5</th>\n",
       "      <td>0</td>\n",
       "    </tr>\n",
       "    <tr>\n",
       "      <th>i6</th>\n",
       "      <td>0</td>\n",
       "    </tr>\n",
       "    <tr>\n",
       "      <th>i7</th>\n",
       "      <td>0</td>\n",
       "    </tr>\n",
       "    <tr>\n",
       "      <th>i8</th>\n",
       "      <td>0</td>\n",
       "    </tr>\n",
       "    <tr>\n",
       "      <th>i9</th>\n",
       "      <td>0</td>\n",
       "    </tr>\n",
       "    <tr>\n",
       "      <th>i10</th>\n",
       "      <td>0</td>\n",
       "    </tr>\n",
       "    <tr>\n",
       "      <th>i11</th>\n",
       "      <td>0</td>\n",
       "    </tr>\n",
       "    <tr>\n",
       "      <th>i12</th>\n",
       "      <td>0</td>\n",
       "    </tr>\n",
       "    <tr>\n",
       "      <th>i13</th>\n",
       "      <td>0</td>\n",
       "    </tr>\n",
       "    <tr>\n",
       "      <th>c14</th>\n",
       "      <td>0</td>\n",
       "    </tr>\n",
       "    <tr>\n",
       "      <th>c15</th>\n",
       "      <td>0</td>\n",
       "    </tr>\n",
       "    <tr>\n",
       "      <th>c16</th>\n",
       "      <td>831370</td>\n",
       "    </tr>\n",
       "    <tr>\n",
       "      <th>c17</th>\n",
       "      <td>831370</td>\n",
       "    </tr>\n",
       "    <tr>\n",
       "      <th>c18</th>\n",
       "      <td>0</td>\n",
       "    </tr>\n",
       "    <tr>\n",
       "      <th>c19</th>\n",
       "      <td>2841692</td>\n",
       "    </tr>\n",
       "    <tr>\n",
       "      <th>c20</th>\n",
       "      <td>0</td>\n",
       "    </tr>\n",
       "    <tr>\n",
       "      <th>c21</th>\n",
       "      <td>0</td>\n",
       "    </tr>\n",
       "    <tr>\n",
       "      <th>c22</th>\n",
       "      <td>0</td>\n",
       "    </tr>\n",
       "    <tr>\n",
       "      <th>c23</th>\n",
       "      <td>0</td>\n",
       "    </tr>\n",
       "    <tr>\n",
       "      <th>c24</th>\n",
       "      <td>0</td>\n",
       "    </tr>\n",
       "    <tr>\n",
       "      <th>c25</th>\n",
       "      <td>831370</td>\n",
       "    </tr>\n",
       "    <tr>\n",
       "      <th>c26</th>\n",
       "      <td>0</td>\n",
       "    </tr>\n",
       "    <tr>\n",
       "      <th>c27</th>\n",
       "      <td>0</td>\n",
       "    </tr>\n",
       "    <tr>\n",
       "      <th>c28</th>\n",
       "      <td>0</td>\n",
       "    </tr>\n",
       "    <tr>\n",
       "      <th>c29</th>\n",
       "      <td>831370</td>\n",
       "    </tr>\n",
       "    <tr>\n",
       "      <th>c30</th>\n",
       "      <td>0</td>\n",
       "    </tr>\n",
       "    <tr>\n",
       "      <th>c31</th>\n",
       "      <td>0</td>\n",
       "    </tr>\n",
       "    <tr>\n",
       "      <th>c32</th>\n",
       "      <td>10511010</td>\n",
       "    </tr>\n",
       "    <tr>\n",
       "      <th>c33</th>\n",
       "      <td>10511010</td>\n",
       "    </tr>\n",
       "    <tr>\n",
       "      <th>c34</th>\n",
       "      <td>831370</td>\n",
       "    </tr>\n",
       "    <tr>\n",
       "      <th>c35</th>\n",
       "      <td>17734465</td>\n",
       "    </tr>\n",
       "    <tr>\n",
       "      <th>c36</th>\n",
       "      <td>0</td>\n",
       "    </tr>\n",
       "    <tr>\n",
       "      <th>c37</th>\n",
       "      <td>831370</td>\n",
       "    </tr>\n",
       "    <tr>\n",
       "      <th>c38</th>\n",
       "      <td>10511010</td>\n",
       "    </tr>\n",
       "    <tr>\n",
       "      <th>c39</th>\n",
       "      <td>10511010</td>\n",
       "    </tr>\n",
       "  </tbody>\n",
       "</table>\n",
       "</div>"
      ],
      "text/plain": [
       "           counts\n",
       "feature          \n",
       "label           0\n",
       "i1              0\n",
       "i2              0\n",
       "i3              0\n",
       "i4              0\n",
       "i5              0\n",
       "i6              0\n",
       "i7              0\n",
       "i8              0\n",
       "i9              0\n",
       "i10             0\n",
       "i11             0\n",
       "i12             0\n",
       "i13             0\n",
       "c14             0\n",
       "c15             0\n",
       "c16        831370\n",
       "c17        831370\n",
       "c18             0\n",
       "c19       2841692\n",
       "c20             0\n",
       "c21             0\n",
       "c22             0\n",
       "c23             0\n",
       "c24             0\n",
       "c25        831370\n",
       "c26             0\n",
       "c27             0\n",
       "c28             0\n",
       "c29        831370\n",
       "c30             0\n",
       "c31             0\n",
       "c32      10511010\n",
       "c33      10511010\n",
       "c34        831370\n",
       "c35      17734465\n",
       "c36             0\n",
       "c37        831370\n",
       "c38      10511010\n",
       "c39      10511010"
      ]
     },
     "execution_count": 44,
     "metadata": {},
     "output_type": "execute_result"
    }
   ],
   "source": [
    "nonull_df = pd.DataFrame(nonull_summary_df, columns=nonull_summary_df.columns)\n",
    "nonull_df"
   ]
  },
  {
   "cell_type": "markdown",
   "metadata": {},
   "source": [
    "### Implement Feature Engineering on Datasets\n",
    "\n",
    "In preparation for passing the data into the next piece (FeatureHasher), we conduct all of the feature engineering described above."
   ]
  },
  {
   "cell_type": "code",
   "execution_count": 19,
   "metadata": {},
   "outputs": [],
   "source": [
    "#Fill NA values for all integer columns. Because the categorical columns are as StringType, these columns\n",
    "#will be left as null.\n",
    "train_FE_df = updated_initial_train_df.fillna(-10000)\n",
    "test_FE_df = initial_test_df.fillna(-10000)\n",
    "\n",
    "#Fill in null values for c16 in train set\n",
    "train_FE_sub_NoNull = train_FE_df.withColumn(\"c16\",\n",
    "                                             when(train_FE_df[\"c16\"].isNull(),\n",
    "                                                  lit('nullVal')).otherwise(col(\"c16\")))\n",
    "\n",
    "#Fill in null values for c16 in test set\n",
    "test_FE_sub_NoNull = test_FE_df.withColumn(\"c16\",\n",
    "                                             when(test_FE_df[\"c16\"].isNull(),\n",
    "                                                  lit('nullVal')).otherwise(col(\"c16\")))\n",
    "\n",
    "#Fill in null values for c34 in train set\n",
    "train_FE_sub_NoNull = train_FE_sub_NoNull.withColumn(\"c34\",\n",
    "                                             when(train_FE_sub_NoNull[\"c34\"].isNull(),\n",
    "                                                  lit('nullVal')).otherwise(col(\"c34\")))\n",
    "\n",
    "#Fill in null values for c34 in test set\n",
    "test_FE_sub_NoNull = test_FE_sub_NoNull.withColumn(\"c34\",\n",
    "                                             when(test_FE_sub_NoNull[\"c34\"].isNull(),\n",
    "                                                  lit('nullVal')).otherwise(col(\"c34\")))\n",
    "\n",
    "#Get the count for each unique value in column 16 of train data\n",
    "counts16 = train_FE_sub_NoNull.groupBy(\"c16\").count().sort(col(\"count\").desc())\\\n",
    "                        .select(\"c16\",col(\"count\").alias(\"count16\"))\n",
    "\n",
    "#Get the count for each unique value in column 34 of train data\n",
    "counts34 = train_FE_sub_NoNull.groupBy(\"c34\").count().sort(col(\"count\").desc())\\\n",
    "                        .select(\"c34\",col(\"count\").alias(\"count34\"))\n",
    "\n",
    "#Join the associated counts for c16 on the train data\n",
    "train_FE_sub_NoNull = train_FE_sub_NoNull.join(counts16, on=\"c16\")\n",
    "\n",
    "#Join the associated counts for c16 on the test data\n",
    "test_FE_sub_NoNull = test_FE_sub_NoNull.join(counts16, on=\"c16\")\n",
    "\n",
    "#Create the new feature to generate cutoffs for when a unique value has a low count\n",
    "train_FE_sub_NoNull = train_FE_sub_NoNull\\\n",
    "  .withColumn('c16_New',when(col('count16') >= 90000,train_FE_sub_NoNull.c16).otherwise('other'))\n",
    "\n",
    "#Create the new feature to generate cutoffs for when a unique value has a low count\n",
    "test_FE_sub_NoNull = test_FE_sub_NoNull\\\n",
    "  .withColumn('c16_New',when(col('count16') >= 90000,test_FE_sub_NoNull.c16).otherwise('other'))\n",
    "\n",
    "#Join the associated counts for c34 on the train data\n",
    "train_FE_sub_NoNull = train_FE_sub_NoNull.join(counts34, on=\"c34\")\n",
    "\n",
    "#Join the associated counts for c34 on the test data\n",
    "test_FE_sub_NoNull = test_FE_sub_NoNull.join(counts34, on=\"c34\")\n",
    "\n",
    "#Create the new feature to generate cutoffs for when a unique value has a low count\n",
    "train_FE_sub_NoNull = train_FE_sub_NoNull\\\n",
    " .withColumn('c34_New',when(col('count34') >= 90000,train_FE_sub_NoNull.c34).otherwise('other'))\n",
    "\n",
    "#Create the new feature to generate cutoffs for when a unique value has a low count\n",
    "test_FE_sub_NoNull = test_FE_sub_NoNull\\\n",
    " .withColumn('c34_New',when(col('count34') >= 90000,test_FE_sub_NoNull.c34).otherwise('other'))\n",
    "\n",
    "#Use Quantile Discretizer to bin values in i5 into 200 bins\n",
    "qds = QuantileDiscretizer(numBuckets=200, inputCol=\"i5\", outputCol=\"i5_bin\", relativeError=0.01, handleInvalid=\"error\")\n",
    "\n",
    "#fit the data and identify optimal splits\n",
    "bucketizer = qds.fit(train_FE_sub_NoNull)\n",
    "\n",
    "imputed_df_train = bucketizer.transform(train_FE_sub_NoNull).cache()\n",
    "imputed_df_test = bucketizer.transform(test_FE_sub_NoNull).cache()"
   ]
  },
  {
   "cell_type": "markdown",
   "metadata": {},
   "source": [
    "We split the imputed training dataset into 70% training data, 10% dev, and 20% test set to feed into the feature hasher."
   ]
  },
  {
   "cell_type": "code",
   "execution_count": 21,
   "metadata": {},
   "outputs": [
    {
     "data": {
      "text/plain": [
       "16442235"
      ]
     },
     "execution_count": 21,
     "metadata": {},
     "output_type": "execute_result"
    }
   ],
   "source": [
    "#Make train dev split from the data\n",
    "train_df, dev_df, test_df = imputed_df_train.randomSplit([0.7,0.1,0.2], seed = 2019)\n",
    "\n",
    "#Count number of entries\n",
    "train_df.count()"
   ]
  },
  {
   "cell_type": "code",
   "execution_count": 22,
   "metadata": {},
   "outputs": [
    {
     "name": "stdout",
     "output_type": "stream",
     "text": [
      "+--------+--------+-----+------+---+------+------+------+------+------+---+------+------+------+------+------+--------+--------+--------+--------+--------+--------+--------+--------+--------+--------+--------+--------+--------+--------+--------+--------+--------+--------+--------+--------+--------+--------+--------+--------+-------+-------+-------+-------+------+\n",
      "|     c34|     c16|label|    i1| i2|    i3|    i4|    i5|    i6|    i7| i8|    i9|   i10|   i11|   i12|   i13|     c14|     c15|     c17|     c18|     c19|     c20|     c21|     c22|     c23|     c24|     c25|     c26|     c27|     c28|     c29|     c30|     c31|     c32|     c33|     c35|     c36|     c37|     c38|     c39|count16|c16_New|count34|c34_New|i5_bin|\n",
      "+--------+--------+-----+------+---+------+------+------+------+------+---+------+------+------+------+------+--------+--------+--------+--------+--------+--------+--------+--------+--------+--------+--------+--------+--------+--------+--------+--------+--------+--------+--------+--------+--------+--------+--------+--------+-------+-------+-------+-------+------+\n",
      "|00076db0|fe69389c|    1|    45|384|     2|     1|    73|     1|    45|  1|     1|     2|     2|-10000|     1|05db9164|1cfdf714|dcd66a9e|25c83c98|fe6b92e5|7195046d|0b153874|a73ee510|acccca1c|4d8549da|ebc363db|51b97b8f|d2dfe871|ca8b2a1a|f644626d|e5ba7672|e88ffc9d|38b60500|b1252a9d|78e2e389|3a171ecb|166e2d7a|cb079c2d|d99c63cf|      1|  other|      1|  other|  13.0|\n",
      "|000d665b|bcb65579|    0|-10000|262|-10000|-10000|204507|-10000|-10000|  0|-10000|-10000|-10000|-10000|-10000|05db9164|2c16a946|48bd2f24|43b19349|fe6b92e5|e2ec9176|0b153874|7cc72ec2|3b08e48b|6fc6ad29|eef9e717|b0c30eeb|07d13a8f|18231224|8454e44a|d4bb7bd8|74ef3502|    null|    null|    null|be7c41b4|9117a34a|    null|    null|      1|  other|      1|  other|  67.0|\n",
      "|00127f60|a6f34e7e|    0|     0|  2|    13|    10|  1342|    27|     1|  9|    35|     0|     1|-10000|    10|05db9164|942f9a8d|9fab1722|25c83c98|7e0ccccf|49b74ebc|0b153874|a73ee510|0e9ead52|c4adf918|71204848|85dbe138|07d13a8f|a8e962af|d5225079|d4bb7bd8|1f868fdd|2f4b9dd2|b1252a9d|    null|32c7478e|538d05b2|001f3601|235ec1e0|      2|  other|      3|  other|  26.0|\n",
      "+--------+--------+-----+------+---+------+------+------+------+------+---+------+------+------+------+------+--------+--------+--------+--------+--------+--------+--------+--------+--------+--------+--------+--------+--------+--------+--------+--------+--------+--------+--------+--------+--------+--------+--------+--------+-------+-------+-------+-------+------+\n",
      "only showing top 3 rows\n",
      "\n"
     ]
    }
   ],
   "source": [
    "train_df.show(3)"
   ]
  },
  {
   "cell_type": "code",
   "execution_count": 23,
   "metadata": {},
   "outputs": [
    {
     "data": {
      "text/plain": [
       "2349954"
      ]
     },
     "execution_count": 23,
     "metadata": {},
     "output_type": "execute_result"
    }
   ],
   "source": [
    "#Count number of entries\n",
    "dev_df.count()"
   ]
  },
  {
   "cell_type": "markdown",
   "metadata": {},
   "source": [
    "### FeatureHasher\n",
    "\n",
    "In our implementation of logistic regression, we are treating all variables as categorical variables (including integers). As shown in our EDA section, many of the features take on a wide variety of unique values with some features having as many as 5,000,000 unique values. If we were to one-hot encode these data we would have a very large sparse matrix. Although our feature engineering efforts have reduced the number of unique features down substantially, we would need massive amounts of memory to store and work with this sparse matrix. FeatureHasher takes care of the sparsity problem by providing indices for a column where a feature would have normally taken on a value of 1. This is very good for our RDD implementation because this means that all we need to do is broadcast the weight vector and use the subsequent indices from FeatureHasher to pull the relevant weights for making our predictions. \n",
    "\n",
    "FeatureHasher implements the hashing trick using MurmumHash. What this does is it assigns each unique feature a value between 1 and the number of features you would like to hash to. FeatureHasher's default number is 262,144. FeatureHasher will then take the modulo of the unique feature, and then this will be the indice for the \"column\" in which the feature would have had a value of 1.0 in the one-hot encoded matrix. The number of features we hash to is a parameter that needs to be tuned because this directly affects the number of collisions that may occur in the dataset. What this means is that if we do not choose an appropriate number for the hash function to hash to, there may be a large number of different features that map back to the same indice. Although a small number of collisions may be tolerable, a large number of collisions may adversely affect our results. After experimentation, we found that about 1 million features is an optimal number of features to hash to. This comes as a slight surprise given the number of unique values we have in our dataset. This may be due to a few reasons. For one, forcing a number of collisions may reduce the amount of \"noise\" our models would otherwise try to normally fit. It could also be because our models are underfitting and we need to train the models for longer. More experimentation is required."
   ]
  },
  {
   "cell_type": "markdown",
   "metadata": {},
   "source": [
    "For the purpose of this project, we partitioned the training data into three datasets. These datasets include the training set (70%), dev set (10%), and test set (20%)."
   ]
  },
  {
   "cell_type": "code",
   "execution_count": 81,
   "metadata": {},
   "outputs": [
    {
     "name": "stdout",
     "output_type": "stream",
     "text": [
      "+-----+----------------------------------------------------------------------------------------------------------------------------------------------------------------------------------------------------------------------------------------------------------------------+\n",
      "|label|get_indices(features)                                                                                                                                                                                                                                                 |\n",
      "+-----+----------------------------------------------------------------------------------------------------------------------------------------------------------------------------------------------------------------------------------------------------------------------+\n",
      "|0    |[155497, 159573, 172069, 204993, 232054, 285593, 298493, 303539, 307231, 320614, 333468, 435767, 447486, 479757, 539916, 581058, 597497, 678797, 683045, 746724, 752588, 762590, 822571, 837832, 898640, 904698, 932556, 967057, 970570, 1017422]                     |\n",
      "|0    |[28451, 89957, 164127, 167866, 183309, 214207, 263686, 297396, 298013, 307231, 384745, 392665, 398023, 425703, 501263, 512263, 603195, 678797, 699229, 709511, 729198, 783583, 797069, 826460, 841760, 842345, 847088, 856835, 926869, 955352]                        |\n",
      "|0    |[7963, 36392, 130398, 159573, 164806, 215476, 274524, 280840, 285593, 307231, 315783, 324470, 360567, 368431, 376404, 477854, 512263, 539916, 609781, 612069, 683045, 689629, 709511, 793032, 801993, 847088, 859709, 870786, 879730, 919889, 925074, 981493, 1014321]|\n",
      "+-----+----------------------------------------------------------------------------------------------------------------------------------------------------------------------------------------------------------------------------------------------------------------------+\n",
      "only showing top 3 rows\n",
      "\n",
      "+-----+---------------------------------------------------------------------------------------------------------------------------------------------------------------------------------------------------------------------------------------------------------------------------------------------------------------+\n",
      "|label|get_indices(features)                                                                                                                                                                                                                                                                                          |\n",
      "+-----+---------------------------------------------------------------------------------------------------------------------------------------------------------------------------------------------------------------------------------------------------------------------------------------------------------------+\n",
      "|1    |[10566, 159573, 178839, 181108, 214423, 217430, 241443, 297776, 326466, 432722, 447486, 477854, 494722, 505205, 539916, 542959, 545406, 599823, 603195, 612069, 635642, 644835, 670259, 711984, 725517, 741135, 742585, 747802, 755122, 763830, 817959, 819360, 847088, 890626, 898502, 919000, 954868, 970220]|\n",
      "|0    |[50059, 71001, 78527, 89990, 194960, 241443, 253347, 283961, 389188, 398023, 408602, 425703, 430843, 432722, 468959, 564369, 579246, 605813, 612069, 640714, 657423, 701436, 723741, 725517, 728837, 741135, 761895, 781096, 847088, 868652, 925074, 926869, 946932, 977854]                                   |\n",
      "|0    |[9743, 79566, 85665, 111987, 119070, 159573, 174503, 177664, 245271, 290349, 320947, 398023, 425703, 432722, 447486, 479757, 482411, 501540, 503179, 551852, 555384, 603195, 612069, 653599, 685896, 686680, 686716, 706334, 725517, 741135, 763051, 783583, 801993, 847088, 909683, 956346, 1028706]          |\n",
      "+-----+---------------------------------------------------------------------------------------------------------------------------------------------------------------------------------------------------------------------------------------------------------------------------------------------------------------+\n",
      "only showing top 3 rows\n",
      "\n"
     ]
    }
   ],
   "source": [
    "columnNames = [\"i1\",\"i2\",\"i3\",\"i4\",\"i5_bin\",\"i6\",\"i7\",\"i8\", \"i9\",\"i10\",\n",
    "               \"i11\",\"i12\",\"i13\",\"c14\",\"c15\",\"c16_New\",\"c17\",\"c18\",\n",
    "               \"c19\",\"c20\",\"c21\",\"c22\",\"c23\",\"c24\",\"c25\",\"c26\",\"c27\",\n",
    "               \"c28\",\"c29\",\"c30\",\"c31\",\"c32\",\"c33\",\"c34_New\",\"c35\",\n",
    "               \"c36\",\"c37\",\"c38\"]\n",
    "\n",
    "\n",
    "hasher_FE = FeatureHasher(numFeatures=262144*4,\n",
    "                             inputCols=columnNames,\n",
    "                             outputCol=\"features\",\n",
    "                             categoricalCols=columnNames)\n",
    "\n",
    "columnNames_base = [\"i1\",\"i2\",\"i3\",\"i4\",\"i5\",\"i6\",\"i7\",\"i8\", \"i9\",\"i10\",\n",
    "               \"i11\",\"i12\",\"i13\",\"c14\",\"c15\",\"c16\",\"c17\",\"c18\",\n",
    "               \"c19\",\"c20\",\"c21\",\"c22\",\"c23\",\"c24\",\"c25\",\"c26\",\"c27\",\n",
    "               \"c28\",\"c29\",\"c30\",\"c31\",\"c32\",\"c33\",\"c34\",\"c35\",\n",
    "               \"c36\",\"c37\",\"c38\"]\n",
    "\n",
    "hasher_Base = FeatureHasher(numFeatures=262144*4,\n",
    "                            inputCols=columnNames_base,\n",
    "                            outputCol=\"features\",\n",
    "                            categoricalCols=columnNames_base)\n",
    "\n",
    "@udf(\"array<integer>\")\n",
    "def get_indices(v):\n",
    "    return v.indices.tolist()\n",
    "\n",
    "#Run a split on the basic dataset with no feature engineering\n",
    "train_df_base, dev_df_base, test_df_base = updated_initial_train_df.randomSplit([0.7,0.1,0.2], seed = 2019)\n",
    "\n",
    "#Version with Feature Engineering\n",
    "_featurized_train_df = hasher_FE.transform(train_df).select('label','features')\n",
    "featurized_train_df = _featurized_train_df.select('label',get_indices('features'))\n",
    "\n",
    "#Baseline Version (No Feature Engineering)\n",
    "_featurized_train_df_base = hasher_Base.transform(train_df_base).select('label','features')\n",
    "featurized_train_df_base = _featurized_train_df_base.select('label',get_indices('features'))\n",
    "\n",
    "#Version with Feature Engineering\n",
    "_featurized_dev_df = hasher_FE.transform(dev_df).select('label','features')\n",
    "featurized_dev_df = _featurized_dev_df.select('label',get_indices('features'))\n",
    "\n",
    "#Baseline Version (No Feature Engineering)\n",
    "_featurized_dev_df_base = hasher_Base.transform(dev_df_base).select('label','features')\n",
    "featurized_dev_df_base = _featurized_dev_df_base.select('label',get_indices('features'))\n",
    "\n",
    "\n",
    "#Small 20% Test Data\n",
    "#Version with Feature Engineering\n",
    "_featurized_test_df_local = hasher_FE.transform(test_df).select('label','features')\n",
    "featurized_test_df_local = _featurized_test_df_local.select('label',get_indices('features'))\n",
    "\n",
    "#Baseline Version (No Feature Engineering)\n",
    "_featurized_test_df_base_local = hasher_Base.transform(test_df_base).select('label','features')\n",
    "featurized_test_df_base_local = _featurized_test_df_base_local.select('label',get_indices('features'))\n",
    "\n",
    "#Full test data\n",
    "#Version with Feature Engineering\n",
    "_featurized_test_df = hasher_FE.transform(imputed_df_test).select('features')\n",
    "featurized_test_df = _featurized_test_df.select(get_indices('features'))\n",
    "\n",
    "#Baseline Version (No Feature Engineering)\n",
    "_featurized_test_df_base = hasher_Base.transform(initial_test_df).select('features')\n",
    "featurized_test_df_base = _featurized_test_df_base.select(get_indices('features'))\n",
    "\n",
    "#Full train data\n",
    "#Version with Feature Engineering\n",
    "_featurized_train_df_base_full = hasher_FE.transform(imputed_df_train).select('label','features')\n",
    "featurized_train_df_base_full = _featurized_train_df_base_full.select('label',get_indices('features'))\n",
    "\n",
    "#Toy dataset to pass through RDD implementation\n",
    "featurized_toy_df = featurized.select('label',get_indices('features'))\n",
    "\n",
    "featurized_train_df_base.show(3,truncate=False)\n",
    "featurized_train_df.show(3,truncate=False)"
   ]
  },
  {
   "cell_type": "markdown",
   "metadata": {},
   "source": [
    "## 4. Homegrown Scalable Algorithm Implementation\n",
    "In this section, we implement an RDD version of LogisticRegression using stochastic gradient descent. We leverage the indices generated by FeatureHasher to get the weights from the broadcasted list of weights for our prediction and subsequent sigmoid. For the purpose training our model, we use 70% of the training set provided by Criteo. We then run our development using the 10% dataset, and then test against our 20% test set."
   ]
  },
  {
   "cell_type": "markdown",
   "metadata": {},
   "source": [
    "### Implementing The RDD Version\n",
    "Convert the dataframes into an RDD"
   ]
  },
  {
   "cell_type": "code",
   "execution_count": 68,
   "metadata": {},
   "outputs": [],
   "source": [
    "featurized_toy_RDD = featurized_toy_df.rdd.map(tuple)\n",
    "\n",
    "#Baseline Models\n",
    "featurized_dev_RDD_base = featurized_dev_df_base.rdd.map(tuple)\n",
    "featurized_train_RDD_base = featurized_train_df_base.rdd.map(tuple)\n",
    "featurized_test_RDD_base_local = featurized_test_df_base_local.rdd.map(tuple)\n",
    "\n",
    "#Version w/ Feature Engineering\n",
    "featurized_dev_RDD = featurized_dev_df.rdd.map(tuple)\n",
    "featurized_train_RDD = featurized_train_df.rdd.map(tuple)\n",
    "featurized_test_RDD_local = featurized_test_df_local.rdd.map(tuple)\n",
    "\n",
    "#full train and full test\n",
    "featurized_test_RDD = featurized_test_df.rdd.map(tuple)\n",
    "featurized_test_RDD_base = featurized_test_df_base.rdd.map(tuple)\n",
    "\n",
    "featurized_train_RDD_full = featurized_train_df_base_full.rdd.map(tuple)"
   ]
  },
  {
   "cell_type": "markdown",
   "metadata": {},
   "source": [
    "#### Calculate The Sigmoid"
   ]
  },
  {
   "cell_type": "code",
   "execution_count": 27,
   "metadata": {},
   "outputs": [],
   "source": [
    "def sigmoid(x):\n",
    "    '''\n",
    "    Calculate the sigmoid\n",
    "\n",
    "    Args:\n",
    "        x (float):  Results of the pseudo dot product of model weights \n",
    "\n",
    "    Return:\n",
    "        p(float):   Returning a bounded probability to avoid underflow issues.\n",
    "    '''\n",
    "\n",
    "    #Check that the dot product is a positive value\n",
    "    if x >= 0: \n",
    "        #Calculate sigmoid\n",
    "        p = 1 / (1 + exp(-x)) \n",
    "    else:\n",
    "        #Calculate sigmoid\n",
    "        p = exp(x) / (1 + exp(x))\n",
    "\n",
    "    #Bound the prediction to avoid underflow\n",
    "    return max(min(p, 1. - 10e-12), 10e-12) "
   ]
  },
  {
   "cell_type": "markdown",
   "metadata": {},
   "source": [
    "#### Calculate The Prediction"
   ]
  },
  {
   "cell_type": "code",
   "execution_count": 28,
   "metadata": {},
   "outputs": [],
   "source": [
    "#Calculate the predicted value \n",
    "def _calc_prediction(payload,broad,dev = False, train=True):\n",
    "    '''\n",
    "    Because we are dealing with sparse matrices we are leveraging FeatureHasher,\n",
    "    which provides a dense representation of the column indices in which our categorical\n",
    "    variables have a value of 1.0. This index is used to map back to the vector of weights\n",
    "    that is broadcasted. We add each individual weight, which is equivalent to obtaining\n",
    "    the scalar value from the dot product of x values and the weight vector.\n",
    "\n",
    "    Args:\n",
    "        payload(tuple):         This is a tuple that includes the label, and hashed indices\n",
    "\n",
    "    Return:\n",
    "        key value pair (tuple): label and hashed indices as a key, \n",
    "                                and associated prediction as a value\n",
    "\n",
    "    '''\n",
    "    #Check if we are getting the predictions for training.\n",
    "    if train:\n",
    "        #Unpack the payload\n",
    "        label,hashFeats = payload\n",
    "\n",
    "        #Get the broadcasted weights\n",
    "        #weight = modelWeights.value\n",
    "        weight = broad.value\n",
    "        #Add the bias term in position 0\n",
    "        modelW = weight[0]\n",
    "\n",
    "        #Iterate through the feature indices\n",
    "        for index in hashFeats:\n",
    "            #Add the model weights * x (which is always 1.0)\n",
    "            #We add 1 to the index to ensure that there will never be collisions with the bias\n",
    "            modelW += weight[index+1] * 1.0\n",
    "\n",
    "        #Get the predicted probability based on the pseduo dot product of the weights and x values\n",
    "        p = sigmoid(modelW)\n",
    "\n",
    "        #Return key: label and feature indexes, valule: prediction\n",
    "        return ((label,hashFeats), float(p))\n",
    "    \n",
    "    #If predicting on test\n",
    "    else:\n",
    "        \n",
    "        if dev == True:\n",
    "        #Unpack the payload\n",
    "            label,hashFeats = payload\n",
    "            \n",
    "        else:\n",
    "            hashFeats = payload\n",
    "\n",
    "        #Get the broadcasted weights\n",
    "        #weight = modelWeights.value\n",
    "        weight = broad.value\n",
    "        #Add the bias term in position 0\n",
    "        modelW = weight[0]\n",
    "\n",
    "        #Iterate through the feature indices\n",
    "        for index in hashFeats:\n",
    "            #Add the model weights * x (which is always 1.0)\n",
    "            #We add 1 to the index to ensure that there will never be collisions with the bias\n",
    "            modelW += weight[index+1] * 1.0\n",
    "\n",
    "        #Get the predicted probability based on the pseduo dot product of the weights and x values\n",
    "        p = sigmoid(modelW)\n",
    "\n",
    "        #Return key: label and feature indexes, valule: prediction\n",
    "        return (hashFeats, float(p))"
   ]
  },
  {
   "cell_type": "markdown",
   "metadata": {},
   "source": [
    "#### Calculate Logloss"
   ]
  },
  {
   "cell_type": "code",
   "execution_count": 29,
   "metadata": {},
   "outputs": [],
   "source": [
    "#Calculate the logloss\n",
    "def _calc_loss(labelHash):\n",
    "    '''\n",
    "    Calculate the logloss\n",
    "\n",
    "    Args:\n",
    "        labelHash (tuple):     key: label, feature indices; value: predicted probability\n",
    "\n",
    "    Return:\n",
    "        loss(float): logloss\n",
    "    '''     \n",
    "    #unpack the keys\n",
    "    label, Hash = labelHash[0]\n",
    "\n",
    "    #unpack the value\n",
    "    p = labelHash[1]\n",
    "\n",
    "    #Compute logloss according to label\n",
    "    if label == 1:\n",
    "        loss = -log(p)\n",
    "\n",
    "    else:\n",
    "        loss = -log(1-p)\n",
    "\n",
    "    #Return loss\n",
    "    return(loss)"
   ]
  },
  {
   "cell_type": "markdown",
   "metadata": {},
   "source": [
    "#### Logistic Regression"
   ]
  },
  {
   "cell_type": "code",
   "execution_count": 47,
   "metadata": {},
   "outputs": [],
   "source": [
    "def RunRDDLogistic(model, featRDD, devRDD, lrnRate = 0.05, nIter = 10, verbose = True, regType=\"None\", regParam=0.05):\n",
    "    '''\n",
    "    This function runs logistic regression using RDDs.\n",
    "    \n",
    "    Args:\n",
    "            model(list):     model weights (either trained or initialized to 0.0)\n",
    "            featRDD:         Featurized RDD from FeatureHasher outputs\n",
    "            devRDD:          Featurized RDD from FeatureHasher outputs\n",
    "            regType(string): Define regularization to use\n",
    "            regParam(float): Define regularization parameter\n",
    "            lrnRate(float):  Learning rate (alpha)\n",
    "            nIter(int):      Number of training iterations to undergo\n",
    "            verbose(bool):   Returns the logloss\n",
    "\n",
    "    Return:\n",
    "            modelWeights(list): list of model weights\n",
    "    '''\n",
    "    \n",
    "    #Update the Gradient\n",
    "    def _calc_grad(labelHash, regType=regType, regParam=regParam):\n",
    "        '''\n",
    "        This function takes in the composite key value pair and calculates the gradient update\n",
    "        that is needed for each row of data. This is emitted as an index, gradient key value pair\n",
    "        for the combineByKey step so that we can update the model weights.\n",
    "        \n",
    "        Args:\n",
    "            labelHash (tuple):     key: label, feature indices; value: predicted probability\n",
    "\n",
    "        Return:\n",
    "            loss(float): logloss        \n",
    "        '''\n",
    "        #Get the label and hashed indices\n",
    "        label, Hash = labelHash[0]\n",
    "        \n",
    "        #Get the prediction\n",
    "        p = labelHash[1]\n",
    "        \n",
    "        #Get the learning rate\n",
    "        a = alpha.value\n",
    "        \n",
    "        # get the weights, drop bias term\n",
    "        w = modelWeights.value\n",
    "        \n",
    "        # calc the grad\n",
    "        grad = a*(p-label)\n",
    "        \n",
    "        #Handle the bias term and yield the gradient\n",
    "        yield(0, grad) \n",
    "\n",
    "        for index in Hash:\n",
    "            if regType.lower() == 'lasso':\n",
    "                # calculate lasso\n",
    "                reg_term = regParam * np.sign(w[index+1])\n",
    "                # add to grad\n",
    "                grad += reg_term\n",
    "            elif regType.lower() == 'ridge':\n",
    "                # calculate ridge\n",
    "                reg_term = regParam * w[index+1] * 2\n",
    "                # add to grad\n",
    "                grad += reg_term\n",
    "            #Yield the gradient for each index (feature) to be updated\n",
    "            #We add one to map back to the appropriate location in the model weights\n",
    "            yield(index + 1, grad)\n",
    "    \n",
    "    #Broadcast the model weights\n",
    "    modelWeights = sc.broadcast(model)\n",
    "    \n",
    "    #Broadcast the learning rate\n",
    "    alpha = sc.broadcast(lrnRate)\n",
    "    \n",
    "    #Broadcast the total number of rows in the dataset\n",
    "    m = sc.broadcast(featRDD.count())\n",
    "    \n",
    "    start = time.time()\n",
    "    \n",
    "    #Keep track of loss for graphing\n",
    "    loss_history = []\n",
    "    dev_loss = []\n",
    "    \n",
    "    #Iterate through number of times.\n",
    "    for i in range(nIter):\n",
    "        start_int = time.time()\n",
    "        #Get the predicted values based on current model weights\n",
    "        interimResults = featRDD.map(lambda x: _calc_prediction(x, modelWeights)).cache()\n",
    "        \n",
    "        #Calculate logloss\n",
    "        calculatedLoss = interimResults.map(lambda x:_calc_loss(x)).mean()\n",
    "        \n",
    "        #append loss\n",
    "        loss_history.append(calculatedLoss)\n",
    "        \n",
    "        #Get the predicted values based on current model weights\n",
    "        interimResults_dev = devRDD.map(lambda x: _calc_prediction(x, modelWeights)).cache()\n",
    "        \n",
    "        #Calculate logloss\n",
    "        calculatedLoss_dev = interimResults_dev.map(lambda x:_calc_loss(x)).mean()\n",
    "        \n",
    "        #append loss\n",
    "        dev_loss.append(calculatedLoss_dev)\n",
    "        \n",
    "        #Print if desired\n",
    "        if verbose:\n",
    "            print('Logloss on step {} = {}'.format(i+1,calculatedLoss))\n",
    "        else:\n",
    "            if (i+1)%5 == 0:\n",
    "                print('Logloss on step {} = {}'.format(i+1,calculatedLoss))\n",
    "        \n",
    "        #Calculate gradient updates for each feature\n",
    "        #Combine the gradients for each feature\n",
    "        #Normalize to get mean gradient update for each feature\n",
    "        updateWeights = interimResults.flatMap(_calc_grad)\\\n",
    "                                      .combineByKey(lambda x: x,\n",
    "                                                    lambda m1, m2: m1 + m2,\n",
    "                                                    lambda c1, c2: c1 + c2)\\\n",
    "                                      .mapValues(lambda x: x/m.value).collect()\n",
    "        \n",
    "        #Get current model weights\n",
    "        modWeights = modelWeights.value\n",
    "        \n",
    "        #Iterate through the index and weight for each feature\n",
    "        for index, weight in updateWeights:\n",
    "            \n",
    "            #Update weights accordingly\n",
    "            modWeights[index] -= weight\n",
    "\n",
    "        #Broadcast new weights\n",
    "        modelWeights = sc.broadcast(modWeights)\n",
    "        \n",
    "        if verbose:\n",
    "            print(f\"... trained Logistic Regression round {i + 1} in {time.time() - start_int} seconds\\n\")\n",
    "            \n",
    "        else:\n",
    "            if (i+1)%5 == 0:\n",
    "                print(f\"... trained Logistic Regression round {i + 1} in {time.time() - start_int} seconds\\n\")\n",
    "        \n",
    "    print(f\"\\n... trained whole Logistic Regression in {time.time() - start} seconds\")\n",
    "    \n",
    "    #Return model weights.\n",
    "    return modelWeights.value, loss_history, dev_loss"
   ]
  },
  {
   "cell_type": "markdown",
   "metadata": {},
   "source": [
    "#### Run The Toy Example"
   ]
  },
  {
   "cell_type": "code",
   "execution_count": 40,
   "metadata": {},
   "outputs": [
    {
     "name": "stdout",
     "output_type": "stream",
     "text": [
      "Logloss on step 1 = 0.6931471805599453\n",
      "\n",
      "... trained Logistic Regression round 1 in 1.4513304233551025 seconds\n",
      "\n",
      "... trained Logistic Regression round 2 in 1.2800874710083008 seconds\n",
      "\n",
      "... trained Logistic Regression round 3 in 1.220613718032837 seconds\n",
      "\n",
      "... trained whole Logistic Regression in 3.952463150024414 seconds\n"
     ]
    }
   ],
   "source": [
    "D = 2 ** 21\n",
    "BASELINE = [0.0, ]*D\n",
    "model_toy_weights, toy_loss, _ = RunRDDLogistic(BASELINE,featurized_toy_RDD,featurized_toy_RDD,\n",
    "                                                nIter = 3,verbose = False)"
   ]
  },
  {
   "cell_type": "markdown",
   "metadata": {},
   "source": [
    "As you can see the logloss we compute from our toy data set matches the hand calculations we did!"
   ]
  },
  {
   "cell_type": "markdown",
   "metadata": {},
   "source": [
    "#### Run The Train Data - Baseline"
   ]
  },
  {
   "cell_type": "code",
   "execution_count": 43,
   "metadata": {
    "scrolled": true
   },
   "outputs": [
    {
     "name": "stdout",
     "output_type": "stream",
     "text": [
      "Logloss on step 1 = 0.6931471805599453\n",
      "\n",
      "... trained whole Logistic Regression in 8594.590517282486 seconds\n"
     ]
    }
   ],
   "source": [
    "D = 2 ** 21\n",
    "BASELINE = [0.0, ] * (D)\n",
    "model_train_weights_base, train_loss_base, dev_loss_base = RunRDDLogistic(BASELINE,featurized_train_RDD_base, \n",
    "                                                           featurized_dev_RDD_base, nIter = 40, lrnRate = 0.1,\n",
    "                                                           verbose = True)"
   ]
  },
  {
   "cell_type": "markdown",
   "metadata": {},
   "source": [
    "##### Save model"
   ]
  },
  {
   "cell_type": "code",
   "execution_count": 48,
   "metadata": {},
   "outputs": [],
   "source": [
    "model_train_weights_base_save = np.array(model_train_weights_base)\n",
    "np.save('train_weights_40iter_baseline.npy', model_train_weights_base_save)"
   ]
  },
  {
   "cell_type": "code",
   "execution_count": 49,
   "metadata": {},
   "outputs": [
    {
     "name": "stdout",
     "output_type": "stream",
     "text": [
      "Copying file://train_weights_40iter_baseline.npy [Content-Type=application/octet-stream]...\n",
      "- [1 files][ 16.0 MiB/ 16.0 MiB]                                                \n",
      "Operation completed over 1 objects/16.0 MiB.                                     \n"
     ]
    }
   ],
   "source": [
    "!gsutil cp 'train_weights_40iter_baseline.npy' gs://lance_miles_w261/notebooks/train_weights_40iter_baseline.npy"
   ]
  },
  {
   "cell_type": "markdown",
   "metadata": {},
   "source": [
    "#### Run The Train Data - Feature Engineering"
   ]
  },
  {
   "cell_type": "code",
   "execution_count": 51,
   "metadata": {
    "scrolled": true
   },
   "outputs": [
    {
     "name": "stdout",
     "output_type": "stream",
     "text": [
      "Logloss on step 1 = 0.6931471805599454\n",
      "\n",
      "... trained whole Logistic Regression in 9689.209838151932 seconds\n"
     ]
    }
   ],
   "source": [
    "D = 2 ** 21\n",
    "BASELINE = [0.0, ] * D\n",
    "model_train_weights, train_loss, dev_loss = RunRDDLogistic(BASELINE,featurized_train_RDD,\n",
    "                                                 featurized_dev_RDD, nIter = 40, lrnRate = 0.1,\n",
    "                                                 verbose = False)"
   ]
  },
  {
   "cell_type": "code",
   "execution_count": 54,
   "metadata": {},
   "outputs": [],
   "source": [
    "model_train_weights_save = np.array(model_train_weights)\n",
    "np.save('train_weights_40iter.npy', model_train_weights_save)"
   ]
  },
  {
   "cell_type": "code",
   "execution_count": null,
   "metadata": {},
   "outputs": [],
   "source": [
    "!gsutil cp 'train_weights_40iter.npy' gs://lance_miles_w261/notebooks/train_weights_40iter.npy"
   ]
  },
  {
   "cell_type": "markdown",
   "metadata": {},
   "source": [
    "#### Run FE Train for More Iterations"
   ]
  },
  {
   "cell_type": "code",
   "execution_count": 52,
   "metadata": {
    "scrolled": true
   },
   "outputs": [
    {
     "name": "stdout",
     "output_type": "stream",
     "text": [
      "Logloss on step 1 = 0.6559010776051641\n",
      "... trained Logistic Regression round 1 in 233.05305671691895 seconds\n",
      "\n",
      "... trained Logistic Regression round 2 in 344.4873766899109 seconds\n",
      "\n",
      "... trained Logistic Regression round 3 in 215.90211582183838 seconds\n",
      "\n",
      "... trained Logistic Regression round 4 in 213.1689417362213 seconds\n",
      "\n",
      "... trained Logistic Regression round 5 in 217.383944272995 seconds\n",
      "\n",
      "Logloss on step 6 = 0.6534416929689876\n",
      "... trained Logistic Regression round 6 in 238.58427023887634 seconds\n",
      "\n",
      "... trained Logistic Regression round 7 in 284.98989605903625 seconds\n",
      "\n",
      "... trained Logistic Regression round 8 in 313.2251625061035 seconds\n",
      "\n",
      "... trained Logistic Regression round 9 in 245.4842836856842 seconds\n",
      "\n",
      "... trained Logistic Regression round 10 in 220.52874493598938 seconds\n",
      "\n",
      "Logloss on step 11 = 0.6512319323244995\n",
      "... trained Logistic Regression round 11 in 210.99520587921143 seconds\n",
      "\n",
      "... trained Logistic Regression round 12 in 212.53867292404175 seconds\n",
      "\n",
      "... trained Logistic Regression round 13 in 238.82318711280823 seconds\n",
      "\n",
      "... trained Logistic Regression round 14 in 215.48371934890747 seconds\n",
      "\n",
      "... trained Logistic Regression round 15 in 212.93299412727356 seconds\n",
      "\n",
      "Logloss on step 16 = 0.649234713740283\n",
      "... trained Logistic Regression round 16 in 216.57226753234863 seconds\n",
      "\n",
      "... trained Logistic Regression round 17 in 216.66310501098633 seconds\n",
      "\n",
      "... trained Logistic Regression round 18 in 213.9172022342682 seconds\n",
      "\n",
      "... trained Logistic Regression round 19 in 252.64193534851074 seconds\n",
      "\n",
      "... trained Logistic Regression round 20 in 213.92312383651733 seconds\n",
      "\n",
      "Logloss on step 21 = 0.6474196651327342\n",
      "... trained Logistic Regression round 21 in 215.8208451271057 seconds\n",
      "\n",
      "... trained Logistic Regression round 22 in 226.5355179309845 seconds\n",
      "\n",
      "... trained Logistic Regression round 23 in 215.5561077594757 seconds\n",
      "\n",
      "... trained Logistic Regression round 24 in 253.34144377708435 seconds\n",
      "\n",
      "... trained Logistic Regression round 25 in 329.53377652168274 seconds\n",
      "\n",
      "Logloss on step 26 = 0.6457617674362922\n",
      "... trained Logistic Regression round 26 in 219.7694447040558 seconds\n",
      "\n",
      "... trained Logistic Regression round 27 in 242.29432320594788 seconds\n",
      "\n",
      "... trained Logistic Regression round 28 in 273.7357954978943 seconds\n",
      "\n",
      "... trained Logistic Regression round 29 in 227.13851308822632 seconds\n",
      "\n",
      "... trained Logistic Regression round 30 in 231.82520389556885 seconds\n",
      "\n",
      "Logloss on step 31 = 0.6442402889286547\n",
      "... trained Logistic Regression round 31 in 231.8327476978302 seconds\n",
      "\n",
      "... trained Logistic Regression round 32 in 341.44171714782715 seconds\n",
      "\n",
      "... trained Logistic Regression round 33 in 236.36649703979492 seconds\n",
      "\n",
      "... trained Logistic Regression round 34 in 201.44183325767517 seconds\n",
      "\n",
      "... trained Logistic Regression round 35 in 199.5448191165924 seconds\n",
      "\n",
      "Logloss on step 36 = 0.6428379467178956\n",
      "... trained Logistic Regression round 36 in 201.10489511489868 seconds\n",
      "\n",
      "... trained Logistic Regression round 37 in 202.62929892539978 seconds\n",
      "\n",
      "... trained Logistic Regression round 38 in 201.57600712776184 seconds\n",
      "\n",
      "... trained Logistic Regression round 39 in 201.32405853271484 seconds\n",
      "\n",
      "... trained Logistic Regression round 40 in 200.84329795837402 seconds\n",
      "\n",
      "Logloss on step 41 = 0.6415402453154011\n",
      "... trained Logistic Regression round 41 in 204.32707619667053 seconds\n",
      "\n",
      "... trained Logistic Regression round 42 in 201.89906239509583 seconds\n",
      "\n",
      "... trained Logistic Regression round 43 in 201.71163606643677 seconds\n",
      "\n",
      "... trained Logistic Regression round 44 in 246.44419384002686 seconds\n",
      "\n",
      "... trained Logistic Regression round 45 in 247.6800572872162 seconds\n",
      "\n",
      "Logloss on step 46 = 0.6403349533055117\n",
      "... trained Logistic Regression round 46 in 230.51145887374878 seconds\n",
      "\n",
      "... trained Logistic Regression round 47 in 231.90599918365479 seconds\n",
      "\n",
      "... trained Logistic Regression round 48 in 230.31067872047424 seconds\n",
      "\n",
      "... trained Logistic Regression round 49 in 229.70945572853088 seconds\n",
      "\n",
      "... trained Logistic Regression round 50 in 336.5633454322815 seconds\n",
      "\n",
      "Logloss on step 51 = 0.6392116878397008\n",
      "... trained Logistic Regression round 51 in 316.65037989616394 seconds\n",
      "\n",
      "... trained Logistic Regression round 52 in 226.41413164138794 seconds\n",
      "\n",
      "... trained Logistic Regression round 53 in 213.98644375801086 seconds\n",
      "\n",
      "... trained Logistic Regression round 54 in 211.34837079048157 seconds\n",
      "\n",
      "... trained Logistic Regression round 55 in 212.82725048065186 seconds\n",
      "\n",
      "Logloss on step 56 = 0.6381615834787808\n",
      "... trained Logistic Regression round 56 in 214.7120451927185 seconds\n",
      "\n",
      "... trained Logistic Regression round 57 in 212.72925519943237 seconds\n",
      "\n",
      "... trained Logistic Regression round 58 in 210.74107933044434 seconds\n",
      "\n",
      "... trained Logistic Regression round 59 in 211.18994665145874 seconds\n",
      "\n",
      "... trained Logistic Regression round 60 in 213.9442343711853 seconds\n",
      "\n",
      "Logloss on step 61 = 0.6371770271770281\n",
      "... trained Logistic Regression round 61 in 207.59230780601501 seconds\n",
      "\n",
      "... trained Logistic Regression round 62 in 214.0988380908966 seconds\n",
      "\n",
      "... trained Logistic Regression round 63 in 244.90476369857788 seconds\n",
      "\n",
      "... trained Logistic Regression round 64 in 306.4993305206299 seconds\n",
      "\n",
      "... trained Logistic Regression round 65 in 254.68068146705627 seconds\n",
      "\n",
      "Logloss on step 66 = 0.636251445277465\n",
      "... trained Logistic Regression round 66 in 349.93877506256104 seconds\n",
      "\n",
      "... trained Logistic Regression round 67 in 263.9901485443115 seconds\n",
      "\n",
      "... trained Logistic Regression round 68 in 260.36863350868225 seconds\n",
      "\n",
      "... trained Logistic Regression round 69 in 207.53368949890137 seconds\n",
      "\n",
      "... trained Logistic Regression round 70 in 202.22225952148438 seconds\n",
      "\n",
      "Logloss on step 71 = 0.6353791315342158\n",
      "... trained Logistic Regression round 71 in 217.75029110908508 seconds\n",
      "\n",
      "... trained Logistic Regression round 91 in 247.49169635772705 seconds\n",
      "\n",
      "... trained Logistic Regression round 92 in 318.574022769928 seconds\n",
      "\n",
      "... trained Logistic Regression round 93 in 234.71423816680908 seconds\n",
      "\n",
      "... trained Logistic Regression round 94 in 236.77826261520386 seconds\n",
      "\n",
      "... trained Logistic Regression round 95 in 236.92071986198425 seconds\n",
      "\n",
      "Logloss on step 96 = 0.6316619960202462\n",
      "... trained Logistic Regression round 96 in 230.31399416923523 seconds\n",
      "\n",
      "... trained Logistic Regression round 97 in 228.4099268913269 seconds\n",
      "\n",
      "... trained Logistic Regression round 98 in 234.62915110588074 seconds\n",
      "\n",
      "... trained Logistic Regression round 99 in 228.34784150123596 seconds\n",
      "\n",
      "... trained Logistic Regression round 100 in 231.64911532402039 seconds\n",
      "\n",
      "\n",
      "... trained whole Logistic Regression in 24277.614342212677 seconds\n"
     ]
    }
   ],
   "source": [
    "model_train_140weights, train_140loss, dev_140loss = RunRDDLogistic(model_train_weights,featurized_train_RDD,\n",
    "                                                 featurized_dev_RDD, nIter = 100, lrnRate = 0.1,\n",
    "                                                 verbose = False)"
   ]
  },
  {
   "cell_type": "code",
   "execution_count": 55,
   "metadata": {},
   "outputs": [],
   "source": [
    "model_train_140weights_save = np.array(model_train_140weights)\n",
    "np.save('train_weights_140iter.npy', model_train_140weights_save)"
   ]
  },
  {
   "cell_type": "code",
   "execution_count": 56,
   "metadata": {},
   "outputs": [
    {
     "name": "stdout",
     "output_type": "stream",
     "text": [
      "Copying file://train_weights_140iter.npy [Content-Type=application/octet-stream]...\n",
      "- [1 files][ 16.0 MiB/ 16.0 MiB]                                                \n",
      "Operation completed over 1 objects/16.0 MiB.                                     \n"
     ]
    }
   ],
   "source": [
    "!gsutil cp 'train_weights_140iter.npy' gs://lance_miles_w261/notebooks/train_weights_140iter.npy"
   ]
  },
  {
   "cell_type": "markdown",
   "metadata": {},
   "source": [
    "#### Train Additional Rounds"
   ]
  },
  {
   "cell_type": "code",
   "execution_count": null,
   "metadata": {},
   "outputs": [],
   "source": [
    "model_train_300weights, train_300loss, dev_300loss = RunRDDLogistic(model_train_140weights,featurized_train_RDD,\n",
    "                                                 featurized_dev_RDD, nIter = 160, lrnRate = 0.1,\n",
    "                                                 verbose = False)"
   ]
  },
  {
   "cell_type": "code",
   "execution_count": null,
   "metadata": {},
   "outputs": [],
   "source": [
    "model_train_300weights_save = np.array(model_train_300weights)\n",
    "np.save('train_weights_300iter.npy', model_train_300weights_save)"
   ]
  },
  {
   "cell_type": "code",
   "execution_count": null,
   "metadata": {},
   "outputs": [],
   "source": [
    "!gsutil cp 'train_weights_300iter.npy' gs://lance_miles_w261/notebooks/train_weights_300iter.npy"
   ]
  },
  {
   "cell_type": "markdown",
   "metadata": {},
   "source": [
    "### Mini-Batch Gradient Descent\n",
    "\n",
    "Based on the results of the batch gradient descent, above, we see that training time is very long, and the accuracy improvements are nominal when training on 40 versus 140 epochs (data discussed below in next section). For this reason, we wanted to implement our own mini-batch gradient descent using RDDs to see if we can get the model parameters to converge faster. The primary difference between batch and mini-batch gradient descent is that with batch gradient descent we update the weights, once, after the model has gone through and calculated predictions on all rows within the data. In mini-batch, we create partitions of the RDD, run predictions on each partition, and update the weights with each partition. The batch size is yet another parameter that needs to be tuned in our model. Mini-batch offers a few slightly distinct advantages over the batch gradient descent method. For one, because weights are updated more frequently it allows for the model to avoid local minima. For the purpose of experimentation, we are testing partitioning the data into 20 partitions. \n",
    "\n",
    "Another important piece is that the reduce step is expensive in this computation. Each time we reduce, we need to update weights and broadcast them again. With 20 partitions, and 5 iterations, this would be 100 reduce tasks. Efficiencies gained from mini-batch gradient descent may be lost with too many partitions of the data."
   ]
  },
  {
   "cell_type": "code",
   "execution_count": 132,
   "metadata": {},
   "outputs": [],
   "source": [
    "def miniBatchLogistic(model, featRDD, devRDD, lrnRate=0.1, \n",
    "                      nIter=10, verbose=True, regType=\"None\", \n",
    "                      regParam=0.1, batches = 20):\n",
    "    '''\n",
    "    This function runs logistic regression using mini-batch gradient descent on RDDs.\n",
    "    \n",
    "    Args:\n",
    "            model(list):     model weights (either trained or initialized to 0.0)\n",
    "            featRDD:         Featurized RDD from FeatureHasher outputs\n",
    "            devRDD:          Featurized RDD from FeatureHasher outputs\n",
    "            regType(string): Define regularization to use\n",
    "            regParam(float): Define regularization parameter\n",
    "            lrnRate(float):  Learning rate (alpha)\n",
    "            nIter(int):      Number of training iterations to undergo\n",
    "            verbose(bool):   Returns the logloss\n",
    "\n",
    "    Return:\n",
    "            modelWeights(list): list of model weights\n",
    "    '''\n",
    "    \n",
    "    #Update the Gradient\n",
    "    def _calc_grad(labelHash, regType=regType, regParam=regParam):\n",
    "        '''\n",
    "        This function takes in the composite key value pair and calculates the gradient update\n",
    "        that is needed for each row of data. This is emitted as an index, gradient key value pair\n",
    "        for the combineByKey step so that we can update the model weights.\n",
    "        \n",
    "        Args:\n",
    "            labelHash (tuple):     key: label, feature indices; value: predicted probability\n",
    "\n",
    "        Return:\n",
    "            loss(float): logloss        \n",
    "        '''\n",
    "        #Get the label and hashed indices\n",
    "        label, Hash = labelHash[0]\n",
    "        \n",
    "        #Get the prediction\n",
    "        p = labelHash[1]\n",
    "        \n",
    "        #Get the learning rate\n",
    "        a = alpha.value\n",
    "        \n",
    "        # get the weights, drop bias term\n",
    "        w = modelWeights.value\n",
    "        \n",
    "        # calc the grad\n",
    "        grad = a*(p-label)\n",
    "        \n",
    "        #Handle the bias term and yield the gradient\n",
    "        yield(0, grad) \n",
    "\n",
    "        for index in Hash:\n",
    "            if regType.lower() == 'lasso':\n",
    "                # calculate lasso\n",
    "                reg_term = regParam * np.sign(w[index+1])\n",
    "                # add to grad\n",
    "                grad += reg_term\n",
    "            elif regType.lower() == 'ridge':\n",
    "                # calculate ridge\n",
    "                reg_term = regParam * w[index+1] * 2\n",
    "                # add to grad\n",
    "                grad += reg_term\n",
    "            #Yield the gradient for each index (feature) to be updated\n",
    "            #We add one to map back to the appropriate location in the model weights\n",
    "            yield(index + 1, grad)\n",
    "    \n",
    "    #Broadcast the model weights\n",
    "    modelWeights = sc.broadcast(model)\n",
    "    \n",
    "    #Broadcast the learning rate\n",
    "    alpha = sc.broadcast(lrnRate)\n",
    "    \n",
    "    #Broadcast the total number of rows in the dataset\n",
    "    m = sc.broadcast(featRDD.count())\n",
    "    \n",
    "    start = time.time()\n",
    "    \n",
    "    #Keep track of loss for graphing\n",
    "    loss_history = []\n",
    "    dev_loss = []\n",
    "    \n",
    "    #Partition the RDD for mini-batch gradient descent\n",
    "    frac = 1.0/batches\n",
    "    \n",
    "    parts = [frac,] * batches\n",
    "    \n",
    "    partitionedRDD = featRDD.randomSplit(weights=parts, seed=2019)\n",
    "    \n",
    "    #Iterate through number of times.\n",
    "    for i in range(nIter):\n",
    "        start_int = time.time()\n",
    "        partCount = 1\n",
    "        for partRDD in partitionedRDD:\n",
    "            #print('.. Beginning partition {}..\\n'.format(partCount))\n",
    "            #Get the predicted values based on current model weights\n",
    "            interimResults = partRDD.map(lambda x: _calc_prediction(x, modelWeights)).cache()\n",
    "\n",
    "            #Calculate logloss\n",
    "            calculatedLoss = interimResults.map(lambda x:_calc_loss(x)).mean()\n",
    "\n",
    "            #append loss\n",
    "            loss_history.append(calculatedLoss)\n",
    "\n",
    "\n",
    "            #Get the predicted values based on current model weights\n",
    "            interimResults_dev = devRDD.map(lambda x: _calc_prediction(x, modelWeights)).cache()\n",
    "\n",
    "            #Calculate logloss\n",
    "            calculatedLoss_dev = interimResults_dev.map(lambda x:_calc_loss(x)).mean()\n",
    "\n",
    "            #append loss\n",
    "            dev_loss.append(calculatedLoss_dev)\n",
    "\n",
    "\n",
    "            #Print if desired\n",
    "            if verbose:\n",
    "                print('Logloss on step {} of partition {} = {}'.format(i+1,partCount,calculatedLoss))\n",
    "\n",
    "            else:\n",
    "                if partCount%5 == 0:\n",
    "                    if (i+1)%3 == 0:\n",
    "                        print('Logloss on step {} partition {} = {}'.format(i+1,partCount,calculatedLoss))\n",
    "\n",
    "            #Calculate gradient updates for each feature\n",
    "            #Combine the gradients for each feature\n",
    "            #Normalize to get mean gradient update for each feature\n",
    "            updateWeights = interimResults.flatMap(_calc_grad)\\\n",
    "                                          .combineByKey(lambda x: x,\n",
    "                                                        lambda m1, m2: m1 + m2,\n",
    "                                                        lambda c1, c2: c1 + c2)\\\n",
    "                                          .mapValues(lambda x: x/m.value).collect()\n",
    "\n",
    "            #Get current model weights\n",
    "            modWeights = modelWeights.value\n",
    "\n",
    "            #Iterate through the index and weight for each feature\n",
    "            for index, weight in updateWeights:\n",
    "\n",
    "                #Update weights accordingly\n",
    "                modWeights[index] -= weight\n",
    "\n",
    "            #Broadcast new weights\n",
    "            modelWeights = sc.broadcast(modWeights)\n",
    "            \n",
    "            partCount += 1\n",
    "            \n",
    "            if verbose:\n",
    "                print(f\"... trained Logistic Regression round {i + 1} in {time.time() - start_int} seconds\\n\")\n",
    "\n",
    "            else:\n",
    "                if (i+1)%5 == 0:\n",
    "                    print(f\"... trained Logistic Regression round {i + 1} in {time.time() - start_int} seconds\\n\")\n",
    "        \n",
    "    print(f\"\\n... trained whole Logistic Regression in {time.time() - start} seconds\")\n",
    "    \n",
    "    #Return model weights.\n",
    "    return modelWeights.value, loss_history, dev_loss"
   ]
  },
  {
   "cell_type": "markdown",
   "metadata": {},
   "source": [
    "#### Run Mini-Batch Gradient Descent\n",
    "\n",
    "As seen below, our implementation of mini-batch gradient descent takes a long time to go through 5 iterations. This is because of the number of reduce steps this job has to go through. Unfortunately, we chose a low regularization parameter (0.05), which made the effect of regularization fairly small. Increasing the regularization parameter and reducing the number of batches may reduce the computation time and increase how quickly the model begins to converge."
   ]
  },
  {
   "cell_type": "code",
   "execution_count": 133,
   "metadata": {
    "scrolled": false
   },
   "outputs": [
    {
     "name": "stdout",
     "output_type": "stream",
     "text": [
      "Logloss on step 5 partition 20 = 0.6865520735988625\n",
      "... trained Logistic Regression round 5 in 3852.719358444214 seconds\n",
      "\n",
      "\n",
      "... trained whole Logistic Regression in 19007.952979803085 seconds\n"
     ]
    }
   ],
   "source": [
    "D = 2 ** 21\n",
    "BASELINE = [0.0, ] * D\n",
    "model_train_weights_mini, train_loss_mini, dev_loss_mini = miniBatchLogistic(BASELINE,\n",
    "                                                 featurized_train_RDD, featurized_dev_RDD, \n",
    "                                                 regType=\"Ridge\", nIter = 5, lrnRate = 0.1,\n",
    "                                                 verbose = False, batches = 20,regParam=0.1)"
   ]
  },
  {
   "cell_type": "markdown",
   "metadata": {},
   "source": [
    "### Plot Losses\n",
    "\n",
    "Now that we have gone through and ran the RDD implementation, we would like to compare train and dev losses."
   ]
  },
  {
   "cell_type": "code",
   "execution_count": 45,
   "metadata": {},
   "outputs": [],
   "source": [
    "# plot error curves - RUN THIS CELL AS IS\n",
    "#Code taken from W261 Teaching Staff - Homework Assignment 4\n",
    "def plotErrorCurves(trainLoss, testLoss, title = None):\n",
    "    \"\"\"\n",
    "    Helper function for plotting.\n",
    "    Args: trainLoss (list of MSE) , testLoss (list of MSE)\n",
    "    \"\"\"\n",
    "    fig, ax = plt.subplots(1,1,figsize = (16,8))\n",
    "    x = list(range(len(trainLoss)))[1:]\n",
    "    ax.plot(x, trainLoss[1:], 'k--', label='Training Loss')\n",
    "    ax.plot(x, testLoss[1:], 'r--', label='Dev Loss')\n",
    "    ax.legend(loc='upper right', fontsize='x-large')\n",
    "    plt.xlabel('Number of Iterations')\n",
    "    plt.ylabel('Logloss')\n",
    "    if title:\n",
    "        plt.title(title)\n",
    "    plt.show()"
   ]
  },
  {
   "cell_type": "markdown",
   "metadata": {},
   "source": [
    "#### Loss of Train vs Dev on Baseline Model\n",
    "\n",
    "As we can see from the loss curve, below, we have not yet converged on optimal model parameters. The training loss and dev loss have improved, but not substantially. Increasing learning rate will help the model converge faster, but may also introduce more error and noise into our predictions."
   ]
  },
  {
   "cell_type": "code",
   "execution_count": 46,
   "metadata": {},
   "outputs": [
    {
     "data": {
      "image/png": "[encoded data removed]",
      "text/plain": [
       "<Figure size 1152x576 with 1 Axes>"
      ]
     },
     "metadata": {
      "needs_background": "light"
     },
     "output_type": "display_data"
    }
   ],
   "source": [
    "plotErrorCurves(train_loss_base, dev_loss_base, \n",
    "                title = 'Logloss from Logistic Regression on Baseline Train vs Dev Data' )"
   ]
  },
  {
   "cell_type": "markdown",
   "metadata": {},
   "source": [
    "#### Logloss of Train vs Dev on Model Trained with FE Data\n",
    "\n",
    "As we can see from the plot, below, our logloss seems to be converging slightly faster after 40 iterations for the model trained on data that has engineered features. We still need to train more epochs, but this seems promising relative to the baseline models."
   ]
  },
  {
   "cell_type": "code",
   "execution_count": 57,
   "metadata": {},
   "outputs": [
    {
     "data": {
      "image/png": "[encoded data removed]",
      "text/plain": [
       "<Figure size 1152x576 with 1 Axes>"
      ]
     },
     "metadata": {
      "needs_background": "light"
     },
     "output_type": "display_data"
    }
   ],
   "source": [
    "plotErrorCurves(train_loss, dev_loss, \n",
    "                title = 'Logloss from Logistic Regression on Train vs Dev Data' )"
   ]
  },
  {
   "cell_type": "markdown",
   "metadata": {},
   "source": [
    "#### Logloss of Train vs Dev on Model Trained with FE Data After 140 Iterations\n",
    "\n",
    "We continued training our model for a total of 140 iterations using the dataset that includes feature engineering. As seen below, the curve is begininng to plateau slightly. Although our model should still train longer, it is apparent that more feature engineering or regularization will be needed to obtain substantial gains in logloss."
   ]
  },
  {
   "cell_type": "code",
   "execution_count": 59,
   "metadata": {
    "scrolled": false
   },
   "outputs": [
    {
     "data": {
      "image/png": "[encoded data removed]",
      "text/plain": [
       "<Figure size 1152x576 with 1 Axes>"
      ]
     },
     "metadata": {
      "needs_background": "light"
     },
     "output_type": "display_data"
    }
   ],
   "source": [
    "plotErrorCurves((train_loss+ train_140loss), (dev_loss + dev_140loss), \n",
    "                title = 'Logloss from Logistic Regression on Train vs Dev Data' )"
   ]
  },
  {
   "cell_type": "markdown",
   "metadata": {},
   "source": [
    "#### Logloss of Train vs Dev Mini-Batch Gradient Descent w/ L2 Regularization\n",
    "\n",
    "Below, we show the training and dev loss for our model trained for 5 iterations using mini batch gradient descent. The learning rate was set to 0.1, and the regularization parameter was set to 0.05. Although the regularization parameter is low, we can see that the logloss is gradually declining towards it's local minima."
   ]
  },
  {
   "cell_type": "code",
   "execution_count": 134,
   "metadata": {},
   "outputs": [
    {
     "data": {
      "image/png": "[encoded data removed]",
      "text/plain": [
       "<Figure size 1152x576 with 1 Axes>"
      ]
     },
     "metadata": {
      "needs_background": "light"
     },
     "output_type": "display_data"
    }
   ],
   "source": [
    "plotErrorCurves((train_loss_mini), (dev_loss_mini), \n",
    "                title = 'Logloss from Logistic Regression w/ Mini-Batch and L2 on Train vs Dev Data' )"
   ]
  },
  {
   "cell_type": "markdown",
   "metadata": {},
   "source": [
    "### Make Predictions\n",
    "\n",
    "We would now like to take the trained models, and predict on our dev and test set to evaluate model performance."
   ]
  },
  {
   "cell_type": "code",
   "execution_count": 60,
   "metadata": {},
   "outputs": [],
   "source": [
    "def prediction(model, featurizedRDD):\n",
    "    '''\n",
    "    This function was built to take the trained models and run a prediction. \n",
    "    This assumes that the label is present in the RDD being evaluated so \n",
    "    that we can calculate loss.\n",
    "    \n",
    "    Args:\n",
    "            model(list):     model weights (trained)\n",
    "            featurizedRDD:   Featurized RDD from FeatureHasher outputs\n",
    "            calcLoss(bool):   Returns the logloss\n",
    "\n",
    "    Return:\n",
    "            predictions(tuple): Tuple containing prediction and label\n",
    "            \n",
    "    '''\n",
    "    #Record start time\n",
    "    start = time.time()\n",
    "    \n",
    "    #Broadcast trained model weights\n",
    "    modelWeights = sc.broadcast(model)\n",
    "    \n",
    "    #Calculate predictions from _calc_prediction\n",
    "    interimResults = featurizedRDD.map(lambda x: _calc_prediction(x,modelWeights))\n",
    "    \n",
    "    #calculate logloss\n",
    "    calculatedLoss = interimResults.map(lambda x:_calc_loss(x)).mean()\n",
    "            \n",
    "    print('Logloss = {}'.format(calculatedLoss))\n",
    "    \n",
    "    #make tuple in the form of (prediction, label)\n",
    "    predictions = interimResults.map(lambda x: ((1.0 if float(x[1]) >= 0.5 else 0.0,float(x[1])),\n",
    "                                               float(x[0][0]))).collect()\n",
    "    \n",
    "    print(f\"\\n... Ran prediction in {time.time() - start} seconds\")\n",
    "    \n",
    "    return predictions"
   ]
  },
  {
   "cell_type": "markdown",
   "metadata": {},
   "source": [
    "#### Predict on Dev Dataset\n",
    "\n",
    "As we can see, below, the predictions from using the baseline model (no feature engineering) with batch gradient descent provided a slightly higher logloss than the model with features that were engineered. Based on the training loss charts shown above, we can see that we are underfitting the data and still need to undergo many more training epochs."
   ]
  },
  {
   "cell_type": "code",
   "execution_count": 61,
   "metadata": {},
   "outputs": [
    {
     "name": "stdout",
     "output_type": "stream",
     "text": [
      "Logloss = 0.6637005650992913\n",
      "\n",
      "... Ran prediction in 136.72127199172974 seconds\n"
     ]
    }
   ],
   "source": [
    "dev_preds_base = prediction(model_train_weights_base, featurized_dev_RDD_base )"
   ]
  },
  {
   "cell_type": "code",
   "execution_count": 64,
   "metadata": {},
   "outputs": [
    {
     "name": "stdout",
     "output_type": "stream",
     "text": [
      "Logloss = 0.6557963610458397\n",
      "\n",
      "... Ran prediction in 61.12660884857178 seconds\n"
     ]
    }
   ],
   "source": [
    "dev_preds = prediction(model_train_weights, featurized_dev_RDD)"
   ]
  },
  {
   "cell_type": "markdown",
   "metadata": {},
   "source": [
    "#### Predict on Local Test Dataset\n",
    "\n",
    "Similar to what was observed in the dev set, the test set that had engineered features resulted in a lower logloss."
   ]
  },
  {
   "cell_type": "code",
   "execution_count": 69,
   "metadata": {
    "scrolled": false
   },
   "outputs": [
    {
     "name": "stdout",
     "output_type": "stream",
     "text": [
      "Logloss = 0.6636390877222432\n",
      "\n",
      "... Ran prediction in 134.98855471611023 seconds\n"
     ]
    }
   ],
   "source": [
    "test_preds_base = prediction(model_train_weights_base, featurized_test_RDD_base_local )"
   ]
  },
  {
   "cell_type": "code",
   "execution_count": 70,
   "metadata": {},
   "outputs": [
    {
     "name": "stdout",
     "output_type": "stream",
     "text": [
      "Logloss = 0.6559999832249028\n",
      "\n",
      "... Ran prediction in 103.85536670684814 seconds\n"
     ]
    }
   ],
   "source": [
    "test_preds = prediction(model_train_weights, featurized_test_RDD_local)"
   ]
  },
  {
   "cell_type": "markdown",
   "metadata": {},
   "source": [
    "#### Predict on Test and Dev Dataset w/ Feature Engineering after 140 epochs\n",
    "\n",
    "With substantially more epochs, we find that the logloss comes down, but is far from optimal. Batch gradient descent, although more precise, takes substantially longer than the ML's implementation of logistic regression using DataFrames. Choosing a higher learning rate will result in faster convergence, but more testing is required."
   ]
  },
  {
   "cell_type": "code",
   "execution_count": 71,
   "metadata": {},
   "outputs": [
    {
     "name": "stdout",
     "output_type": "stream",
     "text": [
      "Logloss = 0.630798878034005\n",
      "\n",
      "... Ran prediction in 59.906005859375 seconds\n"
     ]
    }
   ],
   "source": [
    "dev_preds_140 = prediction(model_train_140weights, featurized_dev_RDD)"
   ]
  },
  {
   "cell_type": "code",
   "execution_count": 72,
   "metadata": {},
   "outputs": [
    {
     "name": "stdout",
     "output_type": "stream",
     "text": [
      "Logloss = 0.6311555060397024\n",
      "\n",
      "... Ran prediction in 105.66289138793945 seconds\n"
     ]
    }
   ],
   "source": [
    "test_preds_140 = prediction(model_train_140weights, featurized_test_RDD_local)"
   ]
  },
  {
   "cell_type": "markdown",
   "metadata": {},
   "source": [
    "### Summary Statistics\n",
    "\n",
    "We would like to evaluate some basic summary statistics on each of our results to see where our model is struggling, and whether or not feature engineering helped address any of these challenges."
   ]
  },
  {
   "cell_type": "code",
   "execution_count": 73,
   "metadata": {},
   "outputs": [],
   "source": [
    "def getSummary (predOutputs):\n",
    "    '''\n",
    "    This function takes in the outputs from the prediction funtion, and provides\n",
    "    some basic summary statistics.\n",
    "    \n",
    "    Args:\n",
    "            predOutputs(tuple):         Tuple with prediction and label\n",
    "\n",
    "    Return:\n",
    "            df_confusion(pd dataframe): Pandas dataframe confusion matrix\n",
    "    '''\n",
    "    #Store true labels\n",
    "    y_actual = []\n",
    "    \n",
    "    #Store predicted labels\n",
    "    y_pred = []\n",
    "    \n",
    "    #iterate over each prediction\n",
    "    for pred, label in predOutputs:\n",
    "        \n",
    "        #append prediction and label to appropriate lists\n",
    "        y_actual.append(label)\n",
    "        y_pred.append(pred[0])\n",
    "    \n",
    "    #create a pandas series for the data\n",
    "    y_actual = pd.Series(y_actual, name='Actual')\n",
    "    y_pred = pd.Series(y_pred, name='Predicted')\n",
    "    \n",
    "    #Create a confusion matrix\n",
    "    df_confusion = pd.crosstab(y_actual, y_pred)\n",
    "\n",
    "    #Get prediction counts\n",
    "    tp = df_confusion[1.0][1.0]\n",
    "    fp = df_confusion[1.0][0.0]\n",
    "    tn = df_confusion[0.0][0.0]\n",
    "    fn = df_confusion[0.0][1.0]\n",
    "    \n",
    "    #Calculate precision\n",
    "    precision = tp/(tp + fp)\n",
    "    \n",
    "    #Calculate recall\n",
    "    recall = tp/(tp + fn)\n",
    "    \n",
    "    #Calculate f1\n",
    "    f1 = 2* ((precision * recall)/(precision + recall))\n",
    "\n",
    "    print(\"Summary Stats\")\n",
    "    print(\"Precision = %s\" % precision)\n",
    "    print(\"Recall = %s\" % recall)\n",
    "    print(\"F1 Score = %s\" % f1)\n",
    "    \n",
    "    return df_confusion"
   ]
  },
  {
   "cell_type": "markdown",
   "metadata": {},
   "source": [
    "#### Dev Datasets\n",
    "We first take a look at the confusion matrix for the results of dev data on the baseline model and the model trained using feature engineering. As we can see below, the baseline model appears to be performing better than our feature engineering model. Although the model with the feature engineering dataset predicts true negatives with a higher accuracy, these gains are offset by the reduced prediction accuracy of the true positive rate. More discussion on this in the conclusion."
   ]
  },
  {
   "cell_type": "code",
   "execution_count": 74,
   "metadata": {},
   "outputs": [
    {
     "name": "stdout",
     "output_type": "stream",
     "text": [
      "Summary Stats\n",
      "Precision = 0.6240048052547196\n",
      "Recall = 0.6973621409155298\n",
      "F1 Score = 0.658647211049492\n"
     ]
    },
    {
     "data": {
      "text/html": [
       "<div>\n",
       "<style scoped>\n",
       "    .dataframe tbody tr th:only-of-type {\n",
       "        vertical-align: middle;\n",
       "    }\n",
       "\n",
       "    .dataframe tbody tr th {\n",
       "        vertical-align: top;\n",
       "    }\n",
       "\n",
       "    .dataframe thead th {\n",
       "        text-align: right;\n",
       "    }\n",
       "</style>\n",
       "<table border=\"1\" class=\"dataframe\">\n",
       "  <thead>\n",
       "    <tr style=\"text-align: right;\">\n",
       "      <th>Predicted</th>\n",
       "      <th>0.0</th>\n",
       "      <th>1.0</th>\n",
       "    </tr>\n",
       "    <tr>\n",
       "      <th>Actual</th>\n",
       "      <th></th>\n",
       "      <th></th>\n",
       "    </tr>\n",
       "  </thead>\n",
       "  <tbody>\n",
       "    <tr>\n",
       "      <th>0.0</th>\n",
       "      <td>681389</td>\n",
       "      <td>493893</td>\n",
       "    </tr>\n",
       "    <tr>\n",
       "      <th>1.0</th>\n",
       "      <td>355716</td>\n",
       "      <td>819669</td>\n",
       "    </tr>\n",
       "  </tbody>\n",
       "</table>\n",
       "</div>"
      ],
      "text/plain": [
       "Predicted     0.0     1.0\n",
       "Actual                   \n",
       "0.0        681389  493893\n",
       "1.0        355716  819669"
      ]
     },
     "execution_count": 74,
     "metadata": {},
     "output_type": "execute_result"
    }
   ],
   "source": [
    "dev_conf = getSummary(dev_preds_base)\n",
    "dev_conf"
   ]
  },
  {
   "cell_type": "code",
   "execution_count": 75,
   "metadata": {},
   "outputs": [
    {
     "name": "stdout",
     "output_type": "stream",
     "text": [
      "Summary Stats\n",
      "Precision = 0.6227491582595971\n",
      "Recall = 0.6841535200917586\n",
      "F1 Score = 0.65200880802379\n"
     ]
    },
    {
     "data": {
      "text/html": [
       "<div>\n",
       "<style scoped>\n",
       "    .dataframe tbody tr th:only-of-type {\n",
       "        vertical-align: middle;\n",
       "    }\n",
       "\n",
       "    .dataframe tbody tr th {\n",
       "        vertical-align: top;\n",
       "    }\n",
       "\n",
       "    .dataframe thead th {\n",
       "        text-align: right;\n",
       "    }\n",
       "</style>\n",
       "<table border=\"1\" class=\"dataframe\">\n",
       "  <thead>\n",
       "    <tr style=\"text-align: right;\">\n",
       "      <th>Predicted</th>\n",
       "      <th>0.0</th>\n",
       "      <th>1.0</th>\n",
       "    </tr>\n",
       "    <tr>\n",
       "      <th>Actual</th>\n",
       "      <th></th>\n",
       "      <th></th>\n",
       "    </tr>\n",
       "  </thead>\n",
       "  <tbody>\n",
       "    <tr>\n",
       "      <th>0.0</th>\n",
       "      <td>688844</td>\n",
       "      <td>486723</td>\n",
       "    </tr>\n",
       "    <tr>\n",
       "      <th>1.0</th>\n",
       "      <td>370926</td>\n",
       "      <td>803461</td>\n",
       "    </tr>\n",
       "  </tbody>\n",
       "</table>\n",
       "</div>"
      ],
      "text/plain": [
       "Predicted     0.0     1.0\n",
       "Actual                   \n",
       "0.0        688844  486723\n",
       "1.0        370926  803461"
      ]
     },
     "execution_count": 75,
     "metadata": {},
     "output_type": "execute_result"
    }
   ],
   "source": [
    "dev_conf = getSummary(dev_preds)\n",
    "dev_conf"
   ]
  },
  {
   "cell_type": "markdown",
   "metadata": {},
   "source": [
    "#### Test Data\n",
    "\n",
    "To our surprise, the prediction accuracy rates for true positive and true negative rates are very similar for our test dataset when comparing the baseline model to the model trained on the feature engineering dataset. Although the feature engineering model resulted in a higher true negative prediction rate, these improvements were mitigated by the increase in error rates for true postive classifications."
   ]
  },
  {
   "cell_type": "code",
   "execution_count": 76,
   "metadata": {},
   "outputs": [
    {
     "name": "stdout",
     "output_type": "stream",
     "text": [
      "Summary Stats\n",
      "Precision = 0.6241425718006811\n",
      "Recall = 0.6977908549967965\n",
      "F1 Score = 0.6589151465392504\n"
     ]
    },
    {
     "data": {
      "text/html": [
       "<div>\n",
       "<style scoped>\n",
       "    .dataframe tbody tr th:only-of-type {\n",
       "        vertical-align: middle;\n",
       "    }\n",
       "\n",
       "    .dataframe tbody tr th {\n",
       "        vertical-align: top;\n",
       "    }\n",
       "\n",
       "    .dataframe thead th {\n",
       "        text-align: right;\n",
       "    }\n",
       "</style>\n",
       "<table border=\"1\" class=\"dataframe\">\n",
       "  <thead>\n",
       "    <tr style=\"text-align: right;\">\n",
       "      <th>Predicted</th>\n",
       "      <th>0.0</th>\n",
       "      <th>1.0</th>\n",
       "    </tr>\n",
       "    <tr>\n",
       "      <th>Actual</th>\n",
       "      <th></th>\n",
       "      <th></th>\n",
       "    </tr>\n",
       "  </thead>\n",
       "  <tbody>\n",
       "    <tr>\n",
       "      <th>0.0</th>\n",
       "      <td>1362022</td>\n",
       "      <td>986407</td>\n",
       "    </tr>\n",
       "    <tr>\n",
       "      <th>1.0</th>\n",
       "      <td>709413</td>\n",
       "      <td>1638011</td>\n",
       "    </tr>\n",
       "  </tbody>\n",
       "</table>\n",
       "</div>"
      ],
      "text/plain": [
       "Predicted      0.0      1.0\n",
       "Actual                     \n",
       "0.0        1362022   986407\n",
       "1.0         709413  1638011"
      ]
     },
     "execution_count": 76,
     "metadata": {},
     "output_type": "execute_result"
    }
   ],
   "source": [
    "test_conf = getSummary(test_preds_base)\n",
    "test_conf"
   ]
  },
  {
   "cell_type": "code",
   "execution_count": 77,
   "metadata": {},
   "outputs": [
    {
     "name": "stdout",
     "output_type": "stream",
     "text": [
      "Summary Stats\n",
      "Precision = 0.6224150589663217\n",
      "Recall = 0.6843583490184046\n",
      "F1 Score = 0.6519185951530527\n"
     ]
    },
    {
     "data": {
      "text/html": [
       "<div>\n",
       "<style scoped>\n",
       "    .dataframe tbody tr th:only-of-type {\n",
       "        vertical-align: middle;\n",
       "    }\n",
       "\n",
       "    .dataframe tbody tr th {\n",
       "        vertical-align: top;\n",
       "    }\n",
       "\n",
       "    .dataframe thead th {\n",
       "        text-align: right;\n",
       "    }\n",
       "</style>\n",
       "<table border=\"1\" class=\"dataframe\">\n",
       "  <thead>\n",
       "    <tr style=\"text-align: right;\">\n",
       "      <th>Predicted</th>\n",
       "      <th>0.0</th>\n",
       "      <th>1.0</th>\n",
       "    </tr>\n",
       "    <tr>\n",
       "      <th>Actual</th>\n",
       "      <th></th>\n",
       "      <th></th>\n",
       "    </tr>\n",
       "  </thead>\n",
       "  <tbody>\n",
       "    <tr>\n",
       "      <th>0.0</th>\n",
       "      <td>1372291</td>\n",
       "      <td>975590</td>\n",
       "    </tr>\n",
       "    <tr>\n",
       "      <th>1.0</th>\n",
       "      <td>741726</td>\n",
       "      <td>1608173</td>\n",
       "    </tr>\n",
       "  </tbody>\n",
       "</table>\n",
       "</div>"
      ],
      "text/plain": [
       "Predicted      0.0      1.0\n",
       "Actual                     \n",
       "0.0        1372291   975590\n",
       "1.0         741726  1608173"
      ]
     },
     "execution_count": 77,
     "metadata": {},
     "output_type": "execute_result"
    }
   ],
   "source": [
    "test_conf = getSummary(test_preds)\n",
    "test_conf"
   ]
  },
  {
   "cell_type": "markdown",
   "metadata": {},
   "source": [
    "#### Test and Dev Accuracies after 140 Iterations\n",
    "\n",
    "Next, we look at the improvements in precision, recall, and f1 score for dev and test set after training our model for 140 iterations on the dataset that includes engineered features. As expected after observing the logloss plots (above), model accuracies improved slightly, but not by much. It is apparent that other methods will be needed if we want to improve model performance significantly (e.g., regularization, more feature engineering)."
   ]
  },
  {
   "cell_type": "code",
   "execution_count": 78,
   "metadata": {},
   "outputs": [
    {
     "name": "stdout",
     "output_type": "stream",
     "text": [
      "Summary Stats\n",
      "Precision = 0.6445888583093757\n",
      "Recall = 0.6706954351504232\n",
      "F1 Score = 0.6573830569811103\n"
     ]
    },
    {
     "data": {
      "text/html": [
       "<div>\n",
       "<style scoped>\n",
       "    .dataframe tbody tr th:only-of-type {\n",
       "        vertical-align: middle;\n",
       "    }\n",
       "\n",
       "    .dataframe tbody tr th {\n",
       "        vertical-align: top;\n",
       "    }\n",
       "\n",
       "    .dataframe thead th {\n",
       "        text-align: right;\n",
       "    }\n",
       "</style>\n",
       "<table border=\"1\" class=\"dataframe\">\n",
       "  <thead>\n",
       "    <tr style=\"text-align: right;\">\n",
       "      <th>Predicted</th>\n",
       "      <th>0.0</th>\n",
       "      <th>1.0</th>\n",
       "    </tr>\n",
       "    <tr>\n",
       "      <th>Actual</th>\n",
       "      <th></th>\n",
       "      <th></th>\n",
       "    </tr>\n",
       "  </thead>\n",
       "  <tbody>\n",
       "    <tr>\n",
       "      <th>0.0</th>\n",
       "      <td>741272</td>\n",
       "      <td>434295</td>\n",
       "    </tr>\n",
       "    <tr>\n",
       "      <th>1.0</th>\n",
       "      <td>386731</td>\n",
       "      <td>787656</td>\n",
       "    </tr>\n",
       "  </tbody>\n",
       "</table>\n",
       "</div>"
      ],
      "text/plain": [
       "Predicted     0.0     1.0\n",
       "Actual                   \n",
       "0.0        741272  434295\n",
       "1.0        386731  787656"
      ]
     },
     "execution_count": 78,
     "metadata": {},
     "output_type": "execute_result"
    }
   ],
   "source": [
    "dev_conf = getSummary(dev_preds_140)\n",
    "dev_conf"
   ]
  },
  {
   "cell_type": "code",
   "execution_count": 79,
   "metadata": {},
   "outputs": [
    {
     "name": "stdout",
     "output_type": "stream",
     "text": [
      "Summary Stats\n",
      "Precision = 0.6441254594418075\n",
      "Recall = 0.6706645689878586\n",
      "F1 Score = 0.6571271675167796\n"
     ]
    },
    {
     "data": {
      "text/html": [
       "<div>\n",
       "<style scoped>\n",
       "    .dataframe tbody tr th:only-of-type {\n",
       "        vertical-align: middle;\n",
       "    }\n",
       "\n",
       "    .dataframe tbody tr th {\n",
       "        vertical-align: top;\n",
       "    }\n",
       "\n",
       "    .dataframe thead th {\n",
       "        text-align: right;\n",
       "    }\n",
       "</style>\n",
       "<table border=\"1\" class=\"dataframe\">\n",
       "  <thead>\n",
       "    <tr style=\"text-align: right;\">\n",
       "      <th>Predicted</th>\n",
       "      <th>0.0</th>\n",
       "      <th>1.0</th>\n",
       "    </tr>\n",
       "    <tr>\n",
       "      <th>Actual</th>\n",
       "      <th></th>\n",
       "      <th></th>\n",
       "    </tr>\n",
       "  </thead>\n",
       "  <tbody>\n",
       "    <tr>\n",
       "      <th>0.0</th>\n",
       "      <td>1477156</td>\n",
       "      <td>870725</td>\n",
       "    </tr>\n",
       "    <tr>\n",
       "      <th>1.0</th>\n",
       "      <td>773905</td>\n",
       "      <td>1575994</td>\n",
       "    </tr>\n",
       "  </tbody>\n",
       "</table>\n",
       "</div>"
      ],
      "text/plain": [
       "Predicted      0.0      1.0\n",
       "Actual                     \n",
       "0.0        1477156   870725\n",
       "1.0         773905  1575994"
      ]
     },
     "execution_count": 79,
     "metadata": {},
     "output_type": "execute_result"
    }
   ],
   "source": [
    "test_conf = getSummary(test_preds_140)\n",
    "test_conf"
   ]
  },
  {
   "cell_type": "markdown",
   "metadata": {},
   "source": [
    "### Reference Comparisons Using ML"
   ]
  },
  {
   "cell_type": "markdown",
   "metadata": {},
   "source": [
    "In this section, we will run the Logistic Regression available as part of Spark ML package and compare it against our homegrown implementation. It is important to note that the ML implementation uses L2 regularization. Although not clear, it may also be running mini-batch gradient descent for faster convergence. As seen below, the training time for LogisticRegression using DataFrames about 1/40th that of the RDD implementation with the same number of iterations (40).\n",
    "\n",
    "#### Baseline Models (No Feature Engineering)\n",
    "As seen, above, our baseline model without feature engineering achieved an accuracy of 65.9% on test data. When passing the dataframe into ML LogisticRegression package, we achieve a 70.0% accuracy on both test and dev.\n",
    "\n",
    "#### Models with Feature Engineering\n",
    "As seen in the prediction accuracy, we get significant improvements in our accuracy with regularlization. The RDD implementation with no regularization resulted in a 65.7% accuracy on test data after 140 epochs. ML's Logistic Regression with L2 regularlization resulted in a 70.0% accuracy in just after 40 epochs.\n",
    "\n",
    "Based on these results, although we see an improvement on AUC with feature engineering efforts, we do not observe any significant gains in accuracy."
   ]
  },
  {
   "cell_type": "markdown",
   "metadata": {},
   "source": [
    "### Check Performance on Test Data (Baseline No FE)\n",
    "\n",
    "First, we train the model on the baseline dataset with no feature engineering. As we can see from the time below, training is significantly faster using ML."
   ]
  },
  {
   "cell_type": "code",
   "execution_count": 96,
   "metadata": {},
   "outputs": [
    {
     "name": "stdout",
     "output_type": "stream",
     "text": [
      "\n",
      "... trained Logistic Regression in 177.3864676952362 seconds\n"
     ]
    }
   ],
   "source": [
    "start = time.time()\n",
    "#Define model parameters\n",
    "lr = LogisticRegression(featuresCol = 'features', labelCol = 'label', maxIter=40)\n",
    "#Fit the model\n",
    "lrModel = lr.fit(_featurized_train_df_base)\n",
    "print(f\"\\n... trained Logistic Regression in {time.time() - start} seconds\")"
   ]
  },
  {
   "cell_type": "markdown",
   "metadata": {},
   "source": [
    "As we can see below, we achieve an AUC of 0.825. Although this is not greater than 0.9, which would be nice, this is not that bad after 40 iterations."
   ]
  },
  {
   "cell_type": "code",
   "execution_count": 101,
   "metadata": {
    "scrolled": true
   },
   "outputs": [
    {
     "data": {
      "image/png": "[encoded data removed]",
      "text/plain": [
       "<Figure size 432x288 with 1 Axes>"
      ]
     },
     "metadata": {
      "needs_background": "light"
     },
     "output_type": "display_data"
    },
    {
     "name": "stdout",
     "output_type": "stream",
     "text": [
      "Training set areaUnderROC: 0.8253838455897303\n"
     ]
    }
   ],
   "source": [
    "trainingSummary = lrModel.summary\n",
    "roc = trainingSummary.roc.toPandas()\n",
    "plt.plot(roc['FPR'],roc['TPR'])\n",
    "plt.ylabel('False Positive Rate')\n",
    "plt.xlabel('True Positive Rate')\n",
    "plt.title('ROC Curve')\n",
    "plt.show()\n",
    "print('Training set areaUnderROC: ' + str(trainingSummary.areaUnderROC))"
   ]
  },
  {
   "cell_type": "markdown",
   "metadata": {},
   "source": [
    "#### Test Data (Baseline)\n",
    "Now we test this model against test data and achieved roughly 69.9% accuracy with our models."
   ]
  },
  {
   "cell_type": "code",
   "execution_count": 106,
   "metadata": {
    "scrolled": true
   },
   "outputs": [
    {
     "name": "stdout",
     "output_type": "stream",
     "text": [
      "+-----+--------------------+----------+--------------------+\n",
      "|label|       rawPrediction|prediction|         probability|\n",
      "+-----+--------------------+----------+--------------------+\n",
      "|    0|[0.12876466541696...|       0.0|[0.53214676160629...|\n",
      "|    0|[-0.3467750551548...|       1.0|[0.41416467964242...|\n",
      "|    0|[2.39899682036913...|       0.0|[0.91675077404969...|\n",
      "|    0|[2.05835579687620...|       0.0|[0.88678920656643...|\n",
      "|    0|[2.08598715595327...|       0.0|[0.88953372556611...|\n",
      "+-----+--------------------+----------+--------------------+\n",
      "only showing top 5 rows\n",
      "\n"
     ]
    }
   ],
   "source": [
    "predictions_lr = lrModel.transform(_featurized_test_df_base_local)\n",
    "predictions_lr.select('label', 'rawPrediction', 'prediction', 'probability').show(5)"
   ]
  },
  {
   "cell_type": "code",
   "execution_count": 98,
   "metadata": {},
   "outputs": [],
   "source": [
    "def score(data):\n",
    "    '''\n",
    "    Function used to pull accuracy of measure for our predictions\n",
    "    \n",
    "    Args:\n",
    "            data(DataFrame): Dataframe carrying the true labels and predictions\n",
    "\n",
    "    Return:\n",
    "            accuracy(float): Returns the accuracy of our model\n",
    "    \n",
    "    '''\n",
    "    #Filter out the incorrect predictions and devide by the total count of rows\n",
    "    accuracy = data.filter(data.label == data.prediction).count()/float(data.count())\n",
    "    \n",
    "    return(accuracy)"
   ]
  },
  {
   "cell_type": "markdown",
   "metadata": {},
   "source": [
    "#### Accuracy:"
   ]
  },
  {
   "cell_type": "code",
   "execution_count": 107,
   "metadata": {},
   "outputs": [
    {
     "name": "stdout",
     "output_type": "stream",
     "text": [
      "Accuracy score for Logistic Regression 0.6992418629799527\n"
     ]
    }
   ],
   "source": [
    "print('Accuracy score for Logistic Regression', score(predictions_lr))"
   ]
  },
  {
   "cell_type": "markdown",
   "metadata": {},
   "source": [
    "### Check Performance on Test Data (with feature engineering)\n",
    "Next, we wanted to see if the inclusion of our engineered features improved our model accuracies so we trained another model with 40 iterations on the training data with engineered features."
   ]
  },
  {
   "cell_type": "code",
   "execution_count": 82,
   "metadata": {},
   "outputs": [
    {
     "name": "stdout",
     "output_type": "stream",
     "text": [
      "\n",
      "... trained Logistic Regression in 192.23243117332458 seconds\n"
     ]
    }
   ],
   "source": [
    "start = time.time()\n",
    "lr = LogisticRegression(featuresCol = 'features', labelCol = 'label', maxIter=40)\n",
    "lrModel = lr.fit(_featurized_train_df)\n",
    "print(f\"\\n... trained Logistic Regression in {time.time() - start} seconds\")"
   ]
  },
  {
   "cell_type": "markdown",
   "metadata": {},
   "source": [
    "The area under ROC for our model trained on the dataset with engineered features actually became worse with our feature engineering efforts when we trained with more epochs. We may be overfitting at this point."
   ]
  },
  {
   "cell_type": "code",
   "execution_count": 91,
   "metadata": {},
   "outputs": [
    {
     "data": {
      "image/png": "[encoded data removed]",
      "text/plain": [
       "<Figure size 432x288 with 1 Axes>"
      ]
     },
     "metadata": {
      "needs_background": "light"
     },
     "output_type": "display_data"
    },
    {
     "name": "stdout",
     "output_type": "stream",
     "text": [
      "Training set areaUnderROC: 0.8264375886670251\n"
     ]
    }
   ],
   "source": [
    "trainingSummary = lrModel.summary\n",
    "roc = trainingSummary.roc.toPandas()\n",
    "plt.plot(roc['FPR'],roc['TPR'])\n",
    "plt.ylabel('False Positive Rate')\n",
    "plt.xlabel('True Positive Rate')\n",
    "plt.title('ROC Curve')\n",
    "plt.show()\n",
    "print('Training set areaUnderROC: ' + str(trainingSummary.areaUnderROC))"
   ]
  },
  {
   "cell_type": "markdown",
   "metadata": {},
   "source": [
    "#### Test Data (Engineered Features)\n",
    "\n",
    "We now test our model using the test dataset. With feature engineering we saw a nominal increase in accuracy. Accuracy went from 69.92% (Baseline), to 70.00% (engineered features). Unfortunately, not knowing what the features represent makes feature engineering particularly difficult, especially on such large datasets."
   ]
  },
  {
   "cell_type": "code",
   "execution_count": 94,
   "metadata": {},
   "outputs": [
    {
     "name": "stdout",
     "output_type": "stream",
     "text": [
      "+-----+--------------------+----------+--------------------+\n",
      "|label|       rawPrediction|prediction|         probability|\n",
      "+-----+--------------------+----------+--------------------+\n",
      "|    0|[0.88921256470321...|       0.0|[0.70872764683809...|\n",
      "|    0|[1.36340169906146...|       0.0|[0.79631200673933...|\n",
      "|    1|[1.71947844800527...|       0.0|[0.84806164495546...|\n",
      "|    0|[-1.0802761714451...|       1.0|[0.25345375733812...|\n",
      "|    1|[-0.5725445491716...|       1.0|[0.36064989096624...|\n",
      "+-----+--------------------+----------+--------------------+\n",
      "only showing top 5 rows\n",
      "\n"
     ]
    }
   ],
   "source": [
    "predictions_lr = lrModel.transform(_featurized_test_df_local)\n",
    "predictions_lr.select('label', 'rawPrediction', 'prediction', 'probability').show(5)"
   ]
  },
  {
   "cell_type": "markdown",
   "metadata": {},
   "source": [
    "#### Accuracy:"
   ]
  },
  {
   "cell_type": "code",
   "execution_count": 95,
   "metadata": {
    "scrolled": true
   },
   "outputs": [
    {
     "name": "stdout",
     "output_type": "stream",
     "text": [
      "Accuracy score for Logistic Regression 0.6999640255610097\n"
     ]
    }
   ],
   "source": [
    "print('Accuracy score for Logistic Regression', score(predictions_lr))"
   ]
  },
  {
   "cell_type": "markdown",
   "metadata": {},
   "source": [
    "### Check Performance on 1000 Iterations\n",
    "\n",
    "Next, we wanted to test whether or not increasing the number of trained iterations improved our model performance. "
   ]
  },
  {
   "cell_type": "code",
   "execution_count": 108,
   "metadata": {},
   "outputs": [
    {
     "name": "stdout",
     "output_type": "stream",
     "text": [
      "\n",
      "... trained Logistic Regression in 1355.8183526992798 seconds\n"
     ]
    }
   ],
   "source": [
    "start = time.time()\n",
    "lr = LogisticRegression(featuresCol = 'features', labelCol = 'label', maxIter=1000)\n",
    "lrModel = lr.fit(_featurized_train_df)\n",
    "print(f\"\\n... trained Logistic Regression in {time.time() - start} seconds\")"
   ]
  },
  {
   "cell_type": "code",
   "execution_count": 111,
   "metadata": {},
   "outputs": [
    {
     "data": {
      "image/png": "[encoded data removed]",
      "text/plain": [
       "<Figure size 432x288 with 1 Axes>"
      ]
     },
     "metadata": {
      "needs_background": "light"
     },
     "output_type": "display_data"
    },
    {
     "name": "stdout",
     "output_type": "stream",
     "text": [
      "Training set areaUnderROC: 0.8268178800978709\n"
     ]
    }
   ],
   "source": [
    "trainingSummary = lrModel.summary\n",
    "roc = trainingSummary.roc.toPandas()\n",
    "plt.plot(roc['FPR'],roc['TPR'])\n",
    "plt.ylabel('False Positive Rate')\n",
    "plt.xlabel('True Positive Rate')\n",
    "plt.title('ROC Curve')\n",
    "plt.show()\n",
    "print('Training set areaUnderROC: ' + str(trainingSummary.areaUnderROC))"
   ]
  },
  {
   "cell_type": "markdown",
   "metadata": {},
   "source": [
    "#### Test Data Prediction After 1000 Iterations\n",
    "\n",
    "As seen, below, the accuracy went down slightly. Improvement from the model trained on 40 epochs is nominal. Stronger regularization may improve the accuracy of our models, but it is difficult to tell."
   ]
  },
  {
   "cell_type": "code",
   "execution_count": 109,
   "metadata": {},
   "outputs": [],
   "source": [
    "predictions_lr = lrModel.transform(_featurized_test_df_local)\n",
    "#predictions_lr.select('label', 'rawPrediction', 'prediction', 'probability').show(5)"
   ]
  },
  {
   "cell_type": "code",
   "execution_count": 110,
   "metadata": {},
   "outputs": [
    {
     "name": "stdout",
     "output_type": "stream",
     "text": [
      "Accuracy score for Logistic Regression 0.6998324740622166\n"
     ]
    }
   ],
   "source": [
    "print('Accuracy score for Logistic Regression', score(predictions_lr))"
   ]
  },
  {
   "cell_type": "markdown",
   "metadata": {},
   "source": [
    "### Discussion\n",
    "\n",
    "To summarize, the highest accuracy we were able to achieve was roughly 70% using the dataset that included engineered features. Though this accuracy is a nominal improvement relative to baseline, it is important to note that our models predicted true negatives better when trained on the dataset with engineered features. Unfortunately for our purpose, it would actually be better if we improved our true positive prediction rate (instead of true negative) as this would lead to a better CTR prediction rate, and translate to a higher payout rate from the advertisers. In reality, it is likely that more ads are not clicked (0) than they are clicked (1).\n",
    "\n",
    "Another important piece of data is that the calculated area under ROC is highly sensitive to the data partition. This was identified after we ran our full models and observed a disparity between our model area under ROC, versus the area under ROC from our training and dev mini sets. In our initial data exploration and feature engineering efforts we found that many of these feature engineering efforts lead to fairly substantial improvements to area under ROC. With the number of unique categories present, it is likely that some very specific unique features are highly predictive for the class, clicked. Prior to beginning feature engineering, we were particularly cognizant of this risk, which is why we ran many summary statistics on our mini feature engineering dataset to compare against our full train set. Although we thought we were on the right path, with such a high dimensional and completely anonymized dataset, any attempt to understand the features is a real shot in the dark. This exercise truly highlights the importance of understanding the data, it's features, and it's limitations.\n"
   ]
  },
  {
   "cell_type": "markdown",
   "metadata": {},
   "source": [
    "## 5. Application of Course Concepts"
   ]
  },
  {
   "cell_type": "markdown",
   "metadata": {},
   "source": [
    "In the course of our analysis, we used a number of key course concepts gained from w261: Machine Learning at Scale. They include but are not limited to Lazy Evaluation, One Hot Encoding/FeatureHasher, Gradient Descent, and Regularization."
   ]
  },
  {
   "cell_type": "markdown",
   "metadata": {},
   "source": [
    "### One Hot Encoding/Feature Hasher"
   ]
  },
  {
   "cell_type": "markdown",
   "metadata": {},
   "source": [
    "One hot encoding is a representation of categorical variables as binary features. Most machine learning algorithms are unable to work with non-numerical values and hence they need to be converted a series of dummy variables that is machine learning algorithm-friendly.\n",
    "\n",
    "This usually happens in the below 2 steps:\n",
    "1. Map unique categorical values and give them their own columns in a matrix\n",
    "2. Convert each row of data where a value of 1 in a column of the new matrix maps back to the feature(s) being binarized.\n",
    "\n",
    "This means that this new matrix can be very sparse when we have a high dimensional dataset with many unique categorical features. This becomes particularly problematic in the context of machine learning at scale because this means that we would need a lot of memory to run any computations on the data.\n",
    "\n",
    "In the dataset we are given to work with, we identified that the first 14 columns were numerical and the remaining 25 were categorical variables. An important design decision that we made was to represent all features (integer and categorical) as categorical features. This makes the one hot encoded representation of this dataset highly sparse and intractable. To address this issue, we leveraged FeatureHasher, which takes what would have been a sparse matrix, and translates it into a dense representation. This lends itself well to logistic regression because it means that we only need to broadcast a weight matrix, and pull the weights for relevant indices that represnt the dummy variable of interest. Updating weights simply becomes a reduce step, aggregating weights across indices for each training example. FeatureHasher's dense representation of data offers a unique trait known as \"online learning\" in which the model does not need a lot of memory to run it's computations. The model can immediately learn online and update the hyperparameters as it needs. \n",
    "\n",
    "With FeatureHasher comes a new parameter that we needed to tune, which is the number of features to hash to. This is a particularly important parameter to tune because this directly affects the number of \"collisions\" we may have in the dataset. As mentioned previously, feature hasher represents each unique feature as a number. It then takes the modulo (remainder) of the number of features we would like to hash to in order to derive the index that will represent the unique feature. Although, in most cases, feature hashing is tolerant of some level of collisions, a high number of collisions can add a great deal of noise to our models. In some cases, collisions can actually be somewhat favorable, especially when working with many unique categorical features because it adds some level of regularization to the model. After experimenting with both feature engineering and the number of features to hash to, we determined that 2^20 hash bits would be optimal. "
   ]
  },
  {
   "cell_type": "markdown",
   "metadata": {},
   "source": [
    "### Lazy Evaluation"
   ]
  },
  {
   "cell_type": "markdown",
   "metadata": {},
   "source": [
    "Lazy evaluation is an evaluation strategy in programming that delays the evaluation of an expression until its value is needed. This is effective in preventing repeated computation of the same expression. Spark employs this strategy in its evaluation of data stored in the form of RDDs and does not initiate the execution of transformations until an action is triggered. It is quite possible that one has executed several cells in their Jupyter Notebook but the data may have remained as is if the cells executed have not reached any action.\n",
    "\n",
    "We needed to be mindful of this concept throughout the course of this project as we used Spark heavily for data exploration, model building, and model testing. It was perhaps even more prevalent during the earlier phases of the project when we were conducting EDA and feature engineering, and applying various transformations to the dataset when dissecting and preparing the data for subsequent machine learning algorithmic analysis. As the dataset we were working with was relatively large, each transformation takes a long time and we would often try out the transformation on a smaller sample to see how well our machines can handle the workload. Failing to recognize the lazy evaluating nature of of Spark can cause us to incorrectly assess the time and computational resources required in completing the work at scale."
   ]
  },
  {
   "cell_type": "markdown",
   "metadata": {},
   "source": [
    "### RDDs , DataFrames, and Scalability"
   ]
  },
  {
   "cell_type": "markdown",
   "metadata": {},
   "source": [
    "Throughout the course of this project, our team used both RDDs and DataFrames to efficiently parse through the data and test our models. DataFrames became particularly useful when conducting exploratory data analysis and feature engineering. We leveraged Spark's DataFrame API to define the schema of our dataset, allowing us to control how we wanted to represent the data we were working with. Unlike RDD's, DataFrames organize data into columns, which lends itself to being highly efficient for different types of calculations. Spark's built in functions for data summarization and manipulation made using DataFrames highly efficient when generating key summary stats for each of our variables in our initial EDA.\n",
    "\n",
    "When developing our logistic regression model from scratch, we leveraged RDDs to efficiently parse through the data row by row. With this came a series of challenges that we needed to work through. In our initial modeling efforts, we attempted to use the one-hot encoded version of the data to run our computations, but this proved to be inefficient and too memory intensive for our systems. When leveraging FeatureHasher's outputs, we were able to overcome our memory constraints by leveraging the indices generated in the dense representation to pull in the relevant weights from the broadcasted weight vector. This allowed us to calculate our predictions without ever expanding each row into its full one-hot encoded sparse matrix utilizing RDDs and all of the wonderful functions and efficiencies they have to offer.\n",
    "\n",
    "Another important feature is Spark's ability to cache interim RDDs and DataFrames that may be used for other downstream tasks. The ability to cache an RDD or DataFrame means that we do not need to repeat the calculation multiple times. This does not come without its shortcomings. Caching many interim results can lead to performance degradation as available memory diminishes. Carefully choosing what to cache has improved the performance of our model computation time, and has made feature engineering and model optimization particularly efficient. As mentioned earlier, we leveraged FeatureHasher to represent our data as dense indices. Caching DataFrames, has allowed us to efficiently generate new hashed features and test different combinations of various features quickly without having to repeat previous calculations. This has allowed us to focus more of our time on optimizing different features.\n",
    "\n",
    "In our initial model development efforts, we tried to implement logistic regression using DataFrames from scratch. One the most important learnings from this exercise was to AVOID UDFs AT ALL COST. As mentioned in lecture, the use of UDFs causes us to lose all of the beautiful optimizations that can be had from the catalyst optimizer and column level transformations. Despite working beautifully on the 5 row toy dataset, implementing UDFs caused our kernel to crash when using the full train dataset so we decided to implement the RDD version instead. As evidence from ML's Logistic Regression package, it is not only possible to implement logistic regression in DataFrames, but it is also far more computationally efficient. Our future goal will be to pursue this side project further.\n"
   ]
  },
  {
   "cell_type": "markdown",
   "metadata": {},
   "source": [
    "### Gradient Descent\n",
    "\n",
    "Gradient descent is an optimization algorithm, based on a convex function, that tweaks it's parameters iteratively to minimize a given function to its local minima. A practical application would be to leverage the first and second order conditions for convexity by traveling down the direction of steepest descent to identify where a local minimum for a function resides. This method allows us to minimize the loss function so that we achieve an optimal solution, without ever looking at the total error space.\n",
    "\n",
    "Visually this process would look like the image below. Picture a blindfolded hamster present at location `x0`. It needs to get to the bottom of the valley to meet up with its children asap. It feels out the steepest path with it's feet and decides that `x1` is the steepest and takes the step. It does this repeatedly until it gets to `x4` and is eventually reunited with its children!\n",
    "\n",
    "<img src=\"./images/gd.png\">\n",
    "\n",
    "In our model development, building, and testing we have implemented logistic regression with either batch gradient descent or mini-batch gradient descent. The primary difference between batch and mini-batch is mini-batch allows us to process the data in chunks instead of all at once like batch. After the model goes through a chunk (or mini-batch) of the data, it will update the weights and go through the next chunk of data. By doing this, we iteratively update the weights in waves as we pass through the data. For logistic regression, our models use logloss as the cost function (as described in the algorithm explanation section). The partial derivative of this cost function lends itself nicely for conducting distributed calculations."
   ]
  },
  {
   "cell_type": "markdown",
   "metadata": {},
   "source": [
    "### Regularization\n",
    "Overfitting is a common machine learning problem. In this situation, a trained model performs poorly on out of sample tests, as it has \"memorized\" or overfitted to the training data rather than learning generalizable patterns. For neural models, \"dropout\" is often used to avoid overfitting. This is a similar concept to that of excluding certain features randomly within a particular random forest tree. In logistic regression, this option is not available, so instead, we turn to \"regularization\". Regularization involves adding a penalty term to the loss function which increases as parameter weights increase. This forces the model to avoid large parameter values unless the added predictive value is large. Depending on the form of regularization (ridge or lasso), the model will drive unimportant features towards zero. This helps prevent overfitting and, in theory, allows our models to generalize better to unseen examples. We use regularization in our logistic regression model for this purpose.\n",
    "\n",
    "L1 (lasso) regularization performs feature selection. It does this by assigning insignificant input features to have zero weights effectively driving the impact they have down to zero. The equation L1 norm looks like:\n",
    "\n",
    "<img src=\"./images/l1.png\">\n",
    "\n",
    "L2 (ridge) regularization forces the feature weights to be small but does not drive them to zero. It performs better when all the input features have influence over the output and have similar weights. The L2 norm looks like:\n",
    "\n",
    "<img src=\"./images/l2.png\">\n",
    "\n",
    "In order to adhere to Pyspark'a parallelization architecture, we implemented regularization calculation as an optional parameter directly into the gradient calculation so as to prevent any excessive computations. "
   ]
  },
  {
   "cell_type": "markdown",
   "metadata": {},
   "source": [
    "## References"
   ]
  },
  {
   "cell_type": "markdown",
   "metadata": {},
   "source": [
    "Criteo S.A. 10-K (2018). https://www.bamsec.com/filing/157642719000014?cik=1576427\n",
    "\n",
    "Donges, N. (2018). The Logistic Regression Algorithm. https://machinelearning-blog.com/2018/04/23/logistic-regression-101/\n",
    "\n",
    "Hamilton, K. (2019). Material has been adapted from Assignment-4 and lecture material\n",
    "\n",
    "“Beat the Benchmark with Less Then 200MB of Memory.” Kaggle, www.kaggle.com/c/criteo-display-ad-challenge/discussion/10322#latest-291615. \n",
    "\n",
    "“Beginner's Guide to Click-Through Rate Prediction with Logistic Regression | Turi Notebook.” Turi, turi.com/learn/gallery/notebooks/click_through_rate_prediction_intro.html. \n",
    "\n",
    "“Feature Hashing.” Wikipedia, Wikimedia Foundation, 14 Dec. 2018, en.wikipedia.org/wiki/Feature_hashing. Gupta, Ankit, et al. \n",
    "\n",
    "“Complete Guide on DataFrame Operations in PySpark.” Analytics Vidhya, 11 Mar. 2019, www.analyticsvidhya.com/blog/2016/10/spark-dataframe-and-operations/. \n",
    "\n",
    "“Logistic Regression.” Wikipedia, Wikimedia Foundation, 15 Apr. 2019, en.wikipedia.org/wiki/Logistic_regression. Pellarolo, Martín, and Martín Pellarolo. \n",
    "\n",
    "“Logistic Regression from Scratch in Python.” Medium, Medium, 23 Feb. 2018, medium.com/@martinpella/logistic-regression-from-scratch-in-python-124c5636b8ac. \n",
    "\n",
    "“Sklearn.feature_extraction.FeatureHasher¶.” Scikit, scikit-learn.org/stable/modules/generated/sklearn.feature_extraction.FeatureHasher.html.\n",
    "\n",
    "\"Gradient Descent in a Nutshell.\" Towards Data Science, 07 Mar. 2018, https://towardsdatascience.com/gradient-descent-in-a-nutshell-eaf8c18212f0 \n",
    "\n",
    "\"L1 and L2 Regularization.\" Medium, 04 Nov. 2018, https://medium.com/datadriveninvestor/l1-l2-regularization-7f1b4fe948f2\n",
    "\n",
    "\"Regularization for Logistic Regression: L1, L2, Gauss or Laplace?\" KNIME, 12 Mar. 2018, https://www.knime.com/blog/regularization-for-logistic-regression-l1-l2-gauss-or-laplace\n",
    "\n"
   ]
  }
 ],
 "metadata": {
  "kernelspec": {
   "display_name": "Python 3",
   "language": "python",
   "name": "python3"
  },
  "language_info": {
   "codemirror_mode": {
    "name": "ipython",
    "version": 3
   },
   "file_extension": ".py",
   "mimetype": "text/x-python",
   "name": "python",
   "nbconvert_exporter": "python",
   "pygments_lexer": "ipython3",
   "version": "3.6.6"
  }
 },
 "nbformat": 4,
 "nbformat_minor": 2
}
